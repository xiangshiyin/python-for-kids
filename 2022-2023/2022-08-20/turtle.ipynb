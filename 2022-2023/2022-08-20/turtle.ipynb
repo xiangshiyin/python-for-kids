{
 "cells": [
  {
   "cell_type": "code",
   "execution_count": 1,
   "id": "c9e69d7c",
   "metadata": {},
   "outputs": [
    {
     "data": {
      "application/vnd.jupyter.widget-view+json": {
       "model_id": "0e62331edc5345d6ba02c322a36f6ce0",
       "version_major": 2,
       "version_minor": 0
      },
      "text/plain": [
       "Turtle()"
      ]
     },
     "metadata": {},
     "output_type": "display_data"
    }
   ],
   "source": [
    "from mobilechelonian import Turtle\n",
    "t = Turtle()\n",
    "t.speed(5)\n",
    "colours=[\"red\",\"blue\",\"yellow\",\"brown\",\"black\",\"purple\",\"green\"]\n",
    "\n",
    "t.penup(); t.left(90); t.forward(200);t.right(90);t.pendown()\n",
    "for i in range (0,18):\n",
    "    t.pencolor(colours[i%7])\n",
    "    t.right(20)\n",
    "    t.forward(50)\n",
    "\n",
    "t.right(180)\n",
    "t.home()"
   ]
  },
  {
   "cell_type": "markdown",
   "id": "9075b30f",
   "metadata": {},
   "source": [
    "https://github.com/takluyver/mobilechelonian"
   ]
  },
  {
   "cell_type": "code",
   "execution_count": 5,
   "id": "fdcc07fc",
   "metadata": {},
   "outputs": [
    {
     "data": {
      "application/vnd.jupyter.widget-view+json": {
       "model_id": "ce715f2197a241c5a1fb764cccc65158",
       "version_major": 2,
       "version_minor": 0
      },
      "text/plain": [
       "Turtle()"
      ]
     },
     "metadata": {},
     "output_type": "display_data"
    }
   ],
   "source": [
    "t = Turtle()\n",
    "\n",
    "t.forward(100)\n",
    "t.right(90)\n",
    "t.forward(100)\n",
    "t.right(90)\n",
    "t.forward(100)\n",
    "t.right(90)\n",
    "t.forward(100)\n",
    "t.right(90)"
   ]
  },
  {
   "cell_type": "markdown",
   "id": "bc02c880",
   "metadata": {},
   "source": [
    "Flower: https://www.coderdojotc.org/python/repl/07-flower/"
   ]
  },
  {
   "cell_type": "code",
   "execution_count": 12,
   "id": "552d0873",
   "metadata": {},
   "outputs": [
    {
     "data": {
      "application/vnd.jupyter.widget-view+json": {
       "model_id": "4d4cbdc62d7d4924bd9b614a4173addc",
       "version_major": 2,
       "version_minor": 0
      },
      "text/plain": [
       "Turtle()"
      ]
     },
     "metadata": {},
     "output_type": "display_data"
    }
   ],
   "source": [
    "pen = Turtle()\n",
    "\n",
    "distance = 100\n",
    "angle = 120\n",
    "\n",
    "def petal():\n",
    "    if i % 2:\n",
    "      pen.pencolor('green')\n",
    "    else:\n",
    "      pen.pencolor('lightgreen')\n",
    "    pen.left(30)\n",
    "    # draw a triangle and fill in the color\n",
    "    #    pen.begin_fill()\n",
    "    pen.forward(distance)\n",
    "    pen.right(angle)\n",
    "    pen.forward(distance)\n",
    "    pen.right(angle)\n",
    "    pen.forward(distance)\n",
    "    #    pen.end_fill()\n",
    "    pen.left(angle)\n",
    "\n",
    "# start off 45 right\n",
    "pen.right(45)\n",
    "# repeat the forward/right functions four times\n",
    "for i in range(4):\n",
    "   petal()\n",
    "# now draw the stem\n",
    "# pen.pensize(10)\n",
    "pen.right(45)\n",
    "pen.forward(200)"
   ]
  },
  {
   "cell_type": "code",
   "execution_count": null,
   "id": "a4a3f2b1",
   "metadata": {},
   "outputs": [],
   "source": []
  }
 ],
 "metadata": {
  "kernelspec": {
   "display_name": "Python 3 (ipykernel)",
   "language": "python",
   "name": "python3"
  },
  "language_info": {
   "codemirror_mode": {
    "name": "ipython",
    "version": 3
   },
   "file_extension": ".py",
   "mimetype": "text/x-python",
   "name": "python",
   "nbconvert_exporter": "python",
   "pygments_lexer": "ipython3",
   "version": "3.10.4"
  }
 },
 "nbformat": 4,
 "nbformat_minor": 5
}
