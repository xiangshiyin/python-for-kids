{
 "cells": [
  {
   "cell_type": "markdown",
   "id": "e902e644",
   "metadata": {},
   "source": [
    "## Coding challenges review"
   ]
  },
  {
   "attachments": {},
   "cell_type": "markdown",
   "id": "784303b2",
   "metadata": {},
   "source": [
    "[![Open In Colab](https://colab.research.google.com/assets/colab-badge.svg)](https://colab.research.google.com/github/xiangshiyin/python-for-kids/blob/main/2022-2023/2022-10-01/practice.ipynb)"
   ]
  },
  {
   "cell_type": "markdown",
   "id": "2813805c",
   "metadata": {},
   "source": [
    "### C to F conversion"
   ]
  },
  {
   "cell_type": "code",
   "execution_count": 9,
   "id": "9a8f3d03",
   "metadata": {},
   "outputs": [
    {
     "name": "stdout",
     "output_type": "stream",
     "text": [
      "put in a temperature in celcius degree\n",
      "30\n",
      "86.0\n"
     ]
    }
   ],
   "source": [
    "c = eval(input(\"put in a temperature in celcius degree\\n\"))\n",
    "f = c * 9 / 5 + 32\n",
    "print(f)"
   ]
  },
  {
   "cell_type": "code",
   "execution_count": 10,
   "id": "5e62efad",
   "metadata": {},
   "outputs": [
    {
     "name": "stdout",
     "output_type": "stream",
     "text": [
      "put in a temperature in celcius degree\n",
      "15\n",
      "temperature is high\n"
     ]
    }
   ],
   "source": [
    "c = eval(input(\"put in a temperature in celcius degree\\n\"))\n",
    "f = c * 9 / 5 + 32\n",
    "if f < 59:\n",
    "    print('temperature is low')\n",
    "else:\n",
    "    print('temperature is high')"
   ]
  },
  {
   "cell_type": "code",
   "execution_count": 12,
   "id": "950f40b4",
   "metadata": {},
   "outputs": [
    {
     "name": "stdout",
     "output_type": "stream",
     "text": [
      "input an integer479\n",
      "this is an odd number\n"
     ]
    }
   ],
   "source": [
    "x = eval(input(\"input an integer\"))\n",
    "\n",
    "if x % 2 == 0:\n",
    "    print('this is an even number')\n",
    "else:\n",
    "    print('this is an odd number')"
   ]
  },
  {
   "cell_type": "code",
   "execution_count": 5,
   "id": "6546d8ac",
   "metadata": {},
   "outputs": [
    {
     "data": {
      "text/plain": [
       "'151515151515151515'"
      ]
     },
     "execution_count": 5,
     "metadata": {},
     "output_type": "execute_result"
    }
   ],
   "source": []
  },
  {
   "cell_type": "code",
   "execution_count": null,
   "id": "49177190",
   "metadata": {},
   "outputs": [],
   "source": []
  },
  {
   "cell_type": "code",
   "execution_count": null,
   "id": "866f380a",
   "metadata": {},
   "outputs": [],
   "source": []
  },
  {
   "cell_type": "code",
   "execution_count": null,
   "id": "ede26558",
   "metadata": {},
   "outputs": [],
   "source": []
  },
  {
   "cell_type": "markdown",
   "id": "66087448",
   "metadata": {},
   "source": [
    "## Logic operations\n",
    "\n",
    "| x     | y     | x and y | x or y | x & y | x \\| y |\n",
    "|-------|-------|---------|--------|-------|--------|\n",
    "| True  | True  | True    | True   | True  | True   |\n",
    "| True  | False | False   | True   | False | True   |\n",
    "| False | False | False   | False  | False | False  |"
   ]
  },
  {
   "cell_type": "markdown",
   "id": "167f813f",
   "metadata": {},
   "source": [
    "## While loop\n",
    "\n",
    "```python\n",
    "while <condition>:\n",
    "    <action>\n",
    "```"
   ]
  },
  {
   "cell_type": "code",
   "execution_count": null,
   "id": "671b9267",
   "metadata": {},
   "outputs": [],
   "source": []
  }
 ],
 "metadata": {
  "kernelspec": {
   "display_name": "Python 3.9.13 ('text-summary')",
   "language": "python",
   "name": "python3"
  },
  "language_info": {
   "codemirror_mode": {
    "name": "ipython",
    "version": 3
   },
   "file_extension": ".py",
   "mimetype": "text/x-python",
   "name": "python",
   "nbconvert_exporter": "python",
   "pygments_lexer": "ipython3",
   "version": "3.9.13"
  },
  "vscode": {
   "interpreter": {
    "hash": "902732434834798e7384411e7c2c2287974a7c3f20cb2f00b14f2eb655ccae14"
   }
  }
 },
 "nbformat": 4,
 "nbformat_minor": 5
}
