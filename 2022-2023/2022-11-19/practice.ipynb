{
 "cells": [
  {
   "cell_type": "markdown",
   "id": "d9279b62",
   "metadata": {},
   "source": [
    "# Coding exercises from the previous class"
   ]
  },
  {
   "attachments": {},
   "cell_type": "markdown",
   "id": "a7fc0284",
   "metadata": {},
   "source": [
    "[![Open In Colab](https://colab.research.google.com/assets/colab-badge.svg)](https://colab.research.google.com/github/xiangshiyin/python-for-kids/blob/main/2022-2023/2022-11-19/practice.ipynb)"
   ]
  },
  {
   "cell_type": "markdown",
   "id": "e72579fe",
   "metadata": {},
   "source": [
    "# 1. Non-primitive Data Types\n",
    "\n",
    "## Common data types include:\n",
    "* list\n",
    "* tuple\n",
    "* set\n",
    "* dictionary\n",
    "\n",
    "## Official documentation: https://docs.python.org/3/tutorial/datastructures.html#"
   ]
  },
  {
   "cell_type": "markdown",
   "id": "ef4dd3df",
   "metadata": {},
   "source": [
    "## 1.3 Set"
   ]
  },
  {
   "cell_type": "code",
   "execution_count": 1,
   "id": "48805997",
   "metadata": {},
   "outputs": [],
   "source": [
    "## create a set: {} and set(), by manually putting in all the elements\n",
    "a = {1,2,3}"
   ]
  },
  {
   "cell_type": "code",
   "execution_count": 2,
   "id": "12b5cc91",
   "metadata": {},
   "outputs": [
    {
     "data": {
      "text/plain": [
       "{1, 2, 3}"
      ]
     },
     "execution_count": 2,
     "metadata": {},
     "output_type": "execute_result"
    }
   ],
   "source": [
    "a"
   ]
  },
  {
   "cell_type": "code",
   "execution_count": 3,
   "id": "cd261452",
   "metadata": {},
   "outputs": [
    {
     "data": {
      "text/plain": [
       "{1, 2, 3, 4}"
      ]
     },
     "execution_count": 3,
     "metadata": {},
     "output_type": "execute_result"
    }
   ],
   "source": [
    "b = set([1,2,3,4]) # from a list\n",
    "b"
   ]
  },
  {
   "cell_type": "code",
   "execution_count": 4,
   "id": "a41d2907",
   "metadata": {},
   "outputs": [
    {
     "data": {
      "text/plain": [
       "{1, 2, 3, 4}"
      ]
     },
     "execution_count": 4,
     "metadata": {},
     "output_type": "execute_result"
    }
   ],
   "source": [
    "b = set([1,2,3,4,1]) # from a list with duplicates\n",
    "b"
   ]
  },
  {
   "cell_type": "code",
   "execution_count": null,
   "id": "35adfcf9",
   "metadata": {},
   "outputs": [],
   "source": []
  },
  {
   "cell_type": "code",
   "execution_count": 5,
   "id": "22a2c3dd",
   "metadata": {},
   "outputs": [
    {
     "data": {
      "text/plain": [
       "set()"
      ]
     },
     "execution_count": 5,
     "metadata": {},
     "output_type": "execute_result"
    }
   ],
   "source": [
    "## create an empty set and add elements to it\n",
    "a = set()\n",
    "a"
   ]
  },
  {
   "cell_type": "code",
   "execution_count": 6,
   "id": "3b34c334",
   "metadata": {
    "scrolled": true
   },
   "outputs": [],
   "source": [
    "a.add(1) # add an element"
   ]
  },
  {
   "cell_type": "code",
   "execution_count": 7,
   "id": "b2d6ee18",
   "metadata": {},
   "outputs": [
    {
     "data": {
      "text/plain": [
       "{1}"
      ]
     },
     "execution_count": 7,
     "metadata": {},
     "output_type": "execute_result"
    }
   ],
   "source": [
    "a"
   ]
  },
  {
   "cell_type": "code",
   "execution_count": 8,
   "id": "3fd92e56",
   "metadata": {},
   "outputs": [
    {
     "data": {
      "text/plain": [
       "{1}"
      ]
     },
     "execution_count": 8,
     "metadata": {},
     "output_type": "execute_result"
    }
   ],
   "source": [
    "a.add(1) # add the same value again\n",
    "a"
   ]
  },
  {
   "cell_type": "code",
   "execution_count": 9,
   "id": "4d4fa6ae",
   "metadata": {},
   "outputs": [
    {
     "data": {
      "text/plain": [
       "{1, 2}"
      ]
     },
     "execution_count": 9,
     "metadata": {},
     "output_type": "execute_result"
    }
   ],
   "source": [
    "a.add(2) # add one more\n",
    "a"
   ]
  },
  {
   "cell_type": "code",
   "execution_count": 10,
   "id": "32bb9179",
   "metadata": {},
   "outputs": [],
   "source": [
    "## set operations: union, intersection, difference\n",
    "x = {1,2,3}\n",
    "y = {3,4,5}"
   ]
  },
  {
   "cell_type": "markdown",
   "id": "0916799c",
   "metadata": {},
   "source": [
    "![](./Python-Set-Operatioons.png)"
   ]
  },
  {
   "cell_type": "code",
   "execution_count": 12,
   "id": "b561f27a",
   "metadata": {},
   "outputs": [
    {
     "data": {
      "text/plain": [
       "{1, 2, 3, 4, 5}"
      ]
     },
     "execution_count": 12,
     "metadata": {},
     "output_type": "execute_result"
    }
   ],
   "source": [
    "# z = x.union(y)\n",
    "z = x | y\n",
    "z"
   ]
  },
  {
   "cell_type": "code",
   "execution_count": 14,
   "id": "41f00526",
   "metadata": {},
   "outputs": [
    {
     "data": {
      "text/plain": [
       "{3}"
      ]
     },
     "execution_count": 14,
     "metadata": {},
     "output_type": "execute_result"
    }
   ],
   "source": [
    "# z = x.intersection(y)\n",
    "z = x & y\n",
    "z"
   ]
  },
  {
   "cell_type": "code",
   "execution_count": 15,
   "id": "a57c853c",
   "metadata": {},
   "outputs": [
    {
     "data": {
      "text/plain": [
       "{1, 2}"
      ]
     },
     "execution_count": 15,
     "metadata": {},
     "output_type": "execute_result"
    }
   ],
   "source": [
    "z = x - y\n",
    "z"
   ]
  },
  {
   "cell_type": "code",
   "execution_count": 16,
   "id": "144b4235",
   "metadata": {},
   "outputs": [
    {
     "data": {
      "text/plain": [
       "{4, 5}"
      ]
     },
     "execution_count": 16,
     "metadata": {},
     "output_type": "execute_result"
    }
   ],
   "source": [
    "z = y - x\n",
    "z"
   ]
  },
  {
   "cell_type": "code",
   "execution_count": 17,
   "id": "e8046515",
   "metadata": {},
   "outputs": [],
   "source": [
    "## can we index elements in set?\n",
    "\n",
    "a = {3,2,1}"
   ]
  },
  {
   "cell_type": "code",
   "execution_count": 18,
   "id": "010f90f1",
   "metadata": {},
   "outputs": [
    {
     "ename": "TypeError",
     "evalue": "'set' object is not subscriptable",
     "output_type": "error",
     "traceback": [
      "\u001b[0;31m---------------------------------------------------------------------------\u001b[0m",
      "\u001b[0;31mTypeError\u001b[0m                                 Traceback (most recent call last)",
      "\u001b[0;32m/var/folders/78/njcscll93_s6cc27zw_h0pmr0000gn/T/ipykernel_35688/1109539928.py\u001b[0m in \u001b[0;36m<module>\u001b[0;34m\u001b[0m\n\u001b[0;32m----> 1\u001b[0;31m \u001b[0ma\u001b[0m\u001b[0;34m[\u001b[0m\u001b[0;36m0\u001b[0m\u001b[0;34m]\u001b[0m\u001b[0;34m\u001b[0m\u001b[0;34m\u001b[0m\u001b[0m\n\u001b[0m",
      "\u001b[0;31mTypeError\u001b[0m: 'set' object is not subscriptable"
     ]
    }
   ],
   "source": [
    "a[0]"
   ]
  },
  {
   "cell_type": "code",
   "execution_count": null,
   "id": "e56e9ae6",
   "metadata": {},
   "outputs": [],
   "source": []
  },
  {
   "cell_type": "code",
   "execution_count": null,
   "id": "f79f25fb",
   "metadata": {},
   "outputs": [],
   "source": []
  },
  {
   "cell_type": "code",
   "execution_count": 22,
   "id": "6f6038c7",
   "metadata": {},
   "outputs": [
    {
     "data": {
      "text/plain": [
       "{1, 2, 3, 4}"
      ]
     },
     "execution_count": 22,
     "metadata": {},
     "output_type": "execute_result"
    }
   ],
   "source": [
    "## how we combine 2 sets??\n",
    "x = set([1,2,3])\n",
    "y = set([2,3,4])\n",
    "\n",
    "x.union(y)"
   ]
  },
  {
   "cell_type": "code",
   "execution_count": 21,
   "id": "50482a15",
   "metadata": {},
   "outputs": [
    {
     "data": {
      "text/plain": [
       "[1, 2, 3, 2, 3, 4]"
      ]
     },
     "execution_count": 21,
     "metadata": {},
     "output_type": "execute_result"
    }
   ],
   "source": [
    "## in list\n",
    "x = [1,2,3]\n",
    "y = [2,3,4]\n",
    "# x.extend(y)\n",
    "# x\n",
    "\n",
    "x + y"
   ]
  },
  {
   "cell_type": "code",
   "execution_count": null,
   "id": "7fd90887",
   "metadata": {},
   "outputs": [],
   "source": []
  },
  {
   "cell_type": "code",
   "execution_count": null,
   "id": "aa99d0f8",
   "metadata": {},
   "outputs": [],
   "source": []
  },
  {
   "cell_type": "code",
   "execution_count": 27,
   "id": "3e8f6673",
   "metadata": {},
   "outputs": [
    {
     "data": {
      "text/plain": [
       "{1, 2, 3, 4}"
      ]
     },
     "execution_count": 27,
     "metadata": {},
     "output_type": "execute_result"
    }
   ],
   "source": [
    "## add and remove an element in a set\n",
    "x = {1,2,3}\n",
    "x.add(4)\n",
    "x"
   ]
  },
  {
   "cell_type": "code",
   "execution_count": 28,
   "id": "b18ad2fc",
   "metadata": {},
   "outputs": [],
   "source": [
    "# x.pop() # randomly picked\n",
    "\n",
    "x.remove(2)"
   ]
  },
  {
   "cell_type": "code",
   "execution_count": 29,
   "id": "b01b69ac",
   "metadata": {},
   "outputs": [
    {
     "data": {
      "text/plain": [
       "{1, 3, 4}"
      ]
     },
     "execution_count": 29,
     "metadata": {},
     "output_type": "execute_result"
    }
   ],
   "source": [
    "x"
   ]
  },
  {
   "cell_type": "code",
   "execution_count": 52,
   "id": "7012aaa8",
   "metadata": {},
   "outputs": [],
   "source": [
    "## check if an element exists in a set\n",
    "\n",
    "x = {1,2,3}"
   ]
  },
  {
   "cell_type": "code",
   "execution_count": 53,
   "id": "25f9d847",
   "metadata": {},
   "outputs": [
    {
     "data": {
      "text/plain": [
       "True"
      ]
     },
     "execution_count": 53,
     "metadata": {},
     "output_type": "execute_result"
    }
   ],
   "source": [
    "2 in x"
   ]
  },
  {
   "cell_type": "code",
   "execution_count": 54,
   "id": "90077fce",
   "metadata": {},
   "outputs": [
    {
     "data": {
      "text/plain": [
       "False"
      ]
     },
     "execution_count": 54,
     "metadata": {},
     "output_type": "execute_result"
    }
   ],
   "source": [
    "4 in x"
   ]
  },
  {
   "cell_type": "markdown",
   "id": "42f4388f",
   "metadata": {},
   "source": [
    "## 1.4 Dictionary"
   ]
  },
  {
   "cell_type": "code",
   "execution_count": 32,
   "id": "2901dcb2",
   "metadata": {},
   "outputs": [],
   "source": [
    "## create a dictionary\n",
    "x = {'a':1, 'b':2}"
   ]
  },
  {
   "cell_type": "code",
   "execution_count": 33,
   "id": "e98fc9b6",
   "metadata": {},
   "outputs": [
    {
     "data": {
      "text/plain": [
       "{'a': 1, 'b': 2}"
      ]
     },
     "execution_count": 33,
     "metadata": {},
     "output_type": "execute_result"
    }
   ],
   "source": [
    "x"
   ]
  },
  {
   "cell_type": "code",
   "execution_count": 34,
   "id": "339c37af",
   "metadata": {},
   "outputs": [
    {
     "data": {
      "text/plain": [
       "dict"
      ]
     },
     "execution_count": 34,
     "metadata": {},
     "output_type": "execute_result"
    }
   ],
   "source": [
    "## create an empty dictionary, x = {}\n",
    "x = {}\n",
    "type(x)"
   ]
  },
  {
   "cell_type": "code",
   "execution_count": 35,
   "id": "a263722d",
   "metadata": {},
   "outputs": [
    {
     "data": {
      "text/plain": [
       "dict"
      ]
     },
     "execution_count": 35,
     "metadata": {},
     "output_type": "execute_result"
    }
   ],
   "source": [
    "x = dict()\n",
    "type(x)"
   ]
  },
  {
   "cell_type": "code",
   "execution_count": 36,
   "id": "c60eaa25",
   "metadata": {},
   "outputs": [],
   "source": [
    "## access elements in a dictionary, x[key]\n",
    "x['c'] = 3"
   ]
  },
  {
   "cell_type": "code",
   "execution_count": 37,
   "id": "869b874d",
   "metadata": {},
   "outputs": [
    {
     "data": {
      "text/plain": [
       "{'c': 3}"
      ]
     },
     "execution_count": 37,
     "metadata": {},
     "output_type": "execute_result"
    }
   ],
   "source": [
    "x"
   ]
  },
  {
   "cell_type": "code",
   "execution_count": 38,
   "id": "0672224a",
   "metadata": {},
   "outputs": [],
   "source": [
    "x['d'] = 4"
   ]
  },
  {
   "cell_type": "code",
   "execution_count": 39,
   "id": "f7a7a5ed",
   "metadata": {},
   "outputs": [
    {
     "data": {
      "text/plain": [
       "{'c': 3, 'd': 4}"
      ]
     },
     "execution_count": 39,
     "metadata": {},
     "output_type": "execute_result"
    }
   ],
   "source": [
    "x"
   ]
  },
  {
   "cell_type": "code",
   "execution_count": 40,
   "id": "a1b4c666",
   "metadata": {},
   "outputs": [],
   "source": [
    "## find a value by key\n",
    "students = {'james': 12, 'kevin': 10, 'collin': 11}"
   ]
  },
  {
   "cell_type": "code",
   "execution_count": 41,
   "id": "92cbfaef",
   "metadata": {},
   "outputs": [
    {
     "data": {
      "text/plain": [
       "10"
      ]
     },
     "execution_count": 41,
     "metadata": {},
     "output_type": "execute_result"
    }
   ],
   "source": [
    "students['kevin']"
   ]
  },
  {
   "cell_type": "code",
   "execution_count": null,
   "id": "2f1b8351",
   "metadata": {},
   "outputs": [],
   "source": []
  },
  {
   "cell_type": "code",
   "execution_count": null,
   "id": "013af51e",
   "metadata": {},
   "outputs": [],
   "source": []
  },
  {
   "cell_type": "code",
   "execution_count": 42,
   "id": "1caa542b",
   "metadata": {},
   "outputs": [],
   "source": [
    "## changing and adding elements in a dictionary\n",
    "students = {'james': 12, 'kevin': 10, 'collin': 11}"
   ]
  },
  {
   "cell_type": "code",
   "execution_count": 43,
   "id": "2bf36b04",
   "metadata": {},
   "outputs": [
    {
     "data": {
      "text/plain": [
       "{'james': 12, 'kevin': 10, 'collin': 11, 'shawn': 10}"
      ]
     },
     "execution_count": 43,
     "metadata": {},
     "output_type": "execute_result"
    }
   ],
   "source": [
    "students['shawn'] = 10\n",
    "students"
   ]
  },
  {
   "cell_type": "code",
   "execution_count": 44,
   "id": "3d974476",
   "metadata": {},
   "outputs": [
    {
     "data": {
      "text/plain": [
       "{'james': 12, 'kevin': 10, 'collin': 11, 'shawn': 10, 'shanna': 100}"
      ]
     },
     "execution_count": 44,
     "metadata": {},
     "output_type": "execute_result"
    }
   ],
   "source": [
    "students['shanna'] = 100\n",
    "students"
   ]
  },
  {
   "cell_type": "code",
   "execution_count": 45,
   "id": "2983824f",
   "metadata": {},
   "outputs": [
    {
     "data": {
      "text/plain": [
       "{'james': 12, 'kevin': 10, 'collin': 11, 'shawn': 10, 'shanna': 10}"
      ]
     },
     "execution_count": 45,
     "metadata": {},
     "output_type": "execute_result"
    }
   ],
   "source": [
    "students['shanna'] = 10\n",
    "students"
   ]
  },
  {
   "cell_type": "code",
   "execution_count": null,
   "id": "d280456e",
   "metadata": {},
   "outputs": [],
   "source": []
  },
  {
   "cell_type": "code",
   "execution_count": 46,
   "id": "aab97659",
   "metadata": {},
   "outputs": [
    {
     "data": {
      "text/plain": [
       "10"
      ]
     },
     "execution_count": 46,
     "metadata": {},
     "output_type": "execute_result"
    }
   ],
   "source": [
    "## remove elements in a dictionary, x.pop()\n",
    "students.pop('shawn')"
   ]
  },
  {
   "cell_type": "code",
   "execution_count": 47,
   "id": "802112b7",
   "metadata": {},
   "outputs": [
    {
     "data": {
      "text/plain": [
       "{'james': 12, 'kevin': 10, 'collin': 11, 'shanna': 10}"
      ]
     },
     "execution_count": 47,
     "metadata": {},
     "output_type": "execute_result"
    }
   ],
   "source": [
    "students"
   ]
  },
  {
   "cell_type": "code",
   "execution_count": 48,
   "id": "ec37ea16",
   "metadata": {},
   "outputs": [
    {
     "data": {
      "text/plain": [
       "{'james': 12, 'collin': 11, 'shanna': 10}"
      ]
     },
     "execution_count": 48,
     "metadata": {},
     "output_type": "execute_result"
    }
   ],
   "source": [
    "student_age_delted = students.pop('kevin')\n",
    "students"
   ]
  },
  {
   "cell_type": "code",
   "execution_count": 49,
   "id": "5462cbde",
   "metadata": {},
   "outputs": [
    {
     "data": {
      "text/plain": [
       "10"
      ]
     },
     "execution_count": 49,
     "metadata": {},
     "output_type": "execute_result"
    }
   ],
   "source": [
    "student_age_delted"
   ]
  },
  {
   "cell_type": "code",
   "execution_count": 50,
   "id": "f5fd4799",
   "metadata": {},
   "outputs": [
    {
     "data": {
      "text/plain": [
       "True"
      ]
     },
     "execution_count": 50,
     "metadata": {},
     "output_type": "execute_result"
    }
   ],
   "source": [
    "## check if a key exists in a dictionary\n",
    "\n",
    "'james' in students"
   ]
  },
  {
   "cell_type": "code",
   "execution_count": 51,
   "id": "a260ebda",
   "metadata": {},
   "outputs": [
    {
     "data": {
      "text/plain": [
       "False"
      ]
     },
     "execution_count": 51,
     "metadata": {},
     "output_type": "execute_result"
    }
   ],
   "source": [
    "'shawn' in students"
   ]
  },
  {
   "cell_type": "code",
   "execution_count": null,
   "id": "2c56119f",
   "metadata": {},
   "outputs": [],
   "source": []
  },
  {
   "cell_type": "markdown",
   "id": "363dcf83",
   "metadata": {},
   "source": [
    "## 1.5 Iterate through these data types"
   ]
  },
  {
   "cell_type": "markdown",
   "id": "2153827f",
   "metadata": {},
   "source": [
    "### 1.5.1 List"
   ]
  },
  {
   "cell_type": "code",
   "execution_count": 56,
   "id": "6e73ba9e",
   "metadata": {},
   "outputs": [
    {
     "name": "stdout",
     "output_type": "stream",
     "text": [
      "0 1\n",
      "1 2\n",
      "2 3\n",
      "3 4\n",
      "4 5\n",
      "5 6\n",
      "6 7\n",
      "7 8\n",
      "8 9\n"
     ]
    }
   ],
   "source": [
    "## iterate through the list and print every single element in order\n",
    "x = [1,2,3,4,5,6,7,8,9]\n",
    "\n",
    "# option 1: using the positional index\n",
    "for i in range(len(x)):\n",
    "    print(i, x[i])"
   ]
  },
  {
   "cell_type": "code",
   "execution_count": 57,
   "id": "4c70fe71",
   "metadata": {},
   "outputs": [
    {
     "name": "stdout",
     "output_type": "stream",
     "text": [
      "1\n",
      "2\n",
      "3\n",
      "4\n",
      "5\n",
      "6\n",
      "7\n",
      "8\n",
      "9\n"
     ]
    }
   ],
   "source": [
    "# option 2:\n",
    "\n",
    "for v in x:\n",
    "    print(v)"
   ]
  },
  {
   "cell_type": "code",
   "execution_count": 58,
   "id": "804463c0",
   "metadata": {},
   "outputs": [
    {
     "name": "stdout",
     "output_type": "stream",
     "text": [
      "a\n",
      "b\n",
      "c\n"
     ]
    }
   ],
   "source": [
    "x = 'abc'\n",
    "for v in x:\n",
    "    print(v)"
   ]
  },
  {
   "cell_type": "code",
   "execution_count": null,
   "id": "e89a27a4",
   "metadata": {},
   "outputs": [],
   "source": []
  },
  {
   "cell_type": "code",
   "execution_count": null,
   "id": "4ce5c490",
   "metadata": {},
   "outputs": [],
   "source": [
    "## iterate through the list and print every single element in reversed order\n"
   ]
  },
  {
   "cell_type": "markdown",
   "id": "2e223ab5",
   "metadata": {},
   "source": [
    "### 1.5.2 Tuple"
   ]
  },
  {
   "cell_type": "code",
   "execution_count": null,
   "id": "20bc1dce",
   "metadata": {},
   "outputs": [],
   "source": [
    "## iterate through a tuple\n"
   ]
  },
  {
   "cell_type": "code",
   "execution_count": null,
   "id": "79e0cb47",
   "metadata": {},
   "outputs": [],
   "source": []
  },
  {
   "cell_type": "markdown",
   "id": "80cdc98c",
   "metadata": {},
   "source": [
    "### 1.5.3 Set"
   ]
  },
  {
   "cell_type": "code",
   "execution_count": null,
   "id": "645954cf",
   "metadata": {},
   "outputs": [],
   "source": [
    "## iterate through a set\n"
   ]
  },
  {
   "cell_type": "code",
   "execution_count": null,
   "id": "c706a469",
   "metadata": {},
   "outputs": [],
   "source": []
  },
  {
   "cell_type": "markdown",
   "id": "014d5aff",
   "metadata": {},
   "source": [
    "### 1.5.4 Dictionary"
   ]
  },
  {
   "cell_type": "code",
   "execution_count": null,
   "id": "aaa04dc6",
   "metadata": {},
   "outputs": [],
   "source": [
    "## iterate the keys in a dictionary\n"
   ]
  },
  {
   "cell_type": "code",
   "execution_count": null,
   "id": "620067c1",
   "metadata": {},
   "outputs": [],
   "source": [
    "## iterate the values in a dictionary\n"
   ]
  },
  {
   "cell_type": "markdown",
   "id": "aae0f390",
   "metadata": {},
   "source": [
    "# 2. Exercise"
   ]
  },
  {
   "cell_type": "markdown",
   "id": "5b82b0c7",
   "metadata": {},
   "source": [
    "## 2.1 Print all key-value pairs in a dictionary\n"
   ]
  },
  {
   "cell_type": "code",
   "execution_count": null,
   "id": "1c6a6306",
   "metadata": {},
   "outputs": [],
   "source": [
    "students = {'james': 12, 'kevin': 10, 'collin': 11}"
   ]
  },
  {
   "cell_type": "markdown",
   "id": "d9cc8482",
   "metadata": {},
   "source": [
    "## 2.2 Write a program to sort a given list\n",
    "\n",
    "* Input: x = [2,1,4,3,0]\n",
    "* Output: [0,1,2,3,4] (either print it out or return a variable with the sorted result)"
   ]
  },
  {
   "cell_type": "code",
   "execution_count": null,
   "id": "ec554ec8",
   "metadata": {},
   "outputs": [],
   "source": []
  }
 ],
 "metadata": {
  "kernelspec": {
   "display_name": "Python 3 (ipykernel)",
   "language": "python",
   "name": "python3"
  },
  "language_info": {
   "codemirror_mode": {
    "name": "ipython",
    "version": 3
   },
   "file_extension": ".py",
   "mimetype": "text/x-python",
   "name": "python",
   "nbconvert_exporter": "python",
   "pygments_lexer": "ipython3",
   "version": "3.9.13"
  },
  "vscode": {
   "interpreter": {
    "hash": "902732434834798e7384411e7c2c2287974a7c3f20cb2f00b14f2eb655ccae14"
   }
  }
 },
 "nbformat": 4,
 "nbformat_minor": 5
}
