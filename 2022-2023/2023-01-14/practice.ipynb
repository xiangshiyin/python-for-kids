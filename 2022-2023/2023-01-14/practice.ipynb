{
 "cells": [
  {
   "cell_type": "markdown",
   "id": "d9279b62",
   "metadata": {},
   "source": [
    "# Coding exercises"
   ]
  },
  {
   "attachments": {},
   "cell_type": "markdown",
   "id": "a7fc0284",
   "metadata": {},
   "source": [
    "[![Open In Colab](https://colab.research.google.com/assets/colab-badge.svg)](https://colab.research.google.com/github/xiangshiyin/python-for-kids/blob/main/2022-2023/2023-01-14/practice.ipynb)"
   ]
  },
  {
   "cell_type": "markdown",
   "id": "32d1d35d",
   "metadata": {},
   "source": [
    "## Function definition pattern\n",
    "\n",
    "```python\n",
    "def function_name(param1, param2, ...):\n",
    "    <logic>\n",
    "    return <value>\n",
    "```\n",
    "\n",
    "## Function execution/calling pattern\n",
    "\n",
    "```python\n",
    "function_name()\n",
    "function_name(val1, val2, ...)\n",
    "function_name(param1=val1, param2=val2, ...)\n",
    "```"
   ]
  },
  {
   "cell_type": "markdown",
   "id": "8420265a",
   "metadata": {},
   "source": [
    "### Q1. Write a function $division(dividend, divisor)$ \n",
    "To return the `quotient` and `remainder` of two given integers `divident` and `divisor`\n",
    "\n",
    "* Example\n",
    "    * Input: divident=4, divisor=2, Output: (2,0)\n",
    "    * Input: divident=5, divisor=2, Output: (2,1)"
   ]
  },
  {
   "cell_type": "code",
   "execution_count": 4,
   "id": "568502b0",
   "metadata": {},
   "outputs": [],
   "source": [
    "def division(dividend, divisor):\n",
    "    # calculate the quotient\n",
    "    quotient = dividend // divisor\n",
    "    # calculate the remainder\n",
    "    remainder = dividend % divisor\n",
    "    \n",
    "    return (quotient, remainder)"
   ]
  },
  {
   "cell_type": "code",
   "execution_count": 2,
   "id": "84a74021",
   "metadata": {},
   "outputs": [
    {
     "data": {
      "text/plain": [
       "2"
      ]
     },
     "execution_count": 2,
     "metadata": {},
     "output_type": "execute_result"
    }
   ],
   "source": [
    "5 // 2"
   ]
  },
  {
   "cell_type": "code",
   "execution_count": 3,
   "id": "2d5e191d",
   "metadata": {},
   "outputs": [
    {
     "data": {
      "text/plain": [
       "1"
      ]
     },
     "execution_count": 3,
     "metadata": {},
     "output_type": "execute_result"
    }
   ],
   "source": [
    "5 % 2"
   ]
  },
  {
   "cell_type": "code",
   "execution_count": 5,
   "id": "7e862c54",
   "metadata": {},
   "outputs": [
    {
     "data": {
      "text/plain": [
       "(246, 4)"
      ]
     },
     "execution_count": 5,
     "metadata": {},
     "output_type": "execute_result"
    }
   ],
   "source": [
    "division(1234, 5)"
   ]
  },
  {
   "cell_type": "code",
   "execution_count": 6,
   "id": "26c1ed29",
   "metadata": {},
   "outputs": [
    {
     "data": {
      "text/plain": [
       "(1, 4)"
      ]
     },
     "execution_count": 6,
     "metadata": {},
     "output_type": "execute_result"
    }
   ],
   "source": [
    "division(9, 5)"
   ]
  },
  {
   "cell_type": "code",
   "execution_count": 8,
   "id": "de5cb6e8",
   "metadata": {},
   "outputs": [
    {
     "name": "stdout",
     "output_type": "stream",
     "text": [
      "1 4\n"
     ]
    }
   ],
   "source": [
    "output = division(9, 5)\n",
    "q = output[0]\n",
    "m = output[1]\n",
    "# output\n",
    "print(q, m)"
   ]
  },
  {
   "cell_type": "code",
   "execution_count": 9,
   "id": "1a92b2f6",
   "metadata": {},
   "outputs": [],
   "source": [
    "q, m = division(9, 5)"
   ]
  },
  {
   "cell_type": "code",
   "execution_count": 10,
   "id": "3f4b4e00",
   "metadata": {},
   "outputs": [
    {
     "name": "stdout",
     "output_type": "stream",
     "text": [
      "1 4\n"
     ]
    }
   ],
   "source": [
    "print(q, m)"
   ]
  },
  {
   "cell_type": "markdown",
   "id": "70ca590b",
   "metadata": {},
   "source": [
    "### Q2. Write a function $fib(N)$ \n",
    "*Reference*: Fibonacci number on [wikipedia](https://en.wikipedia.org/wiki/Fibonacci_number)\n",
    "\n",
    "To return the $N^{th}$ Fibonacci number\n",
    "* Hint: $fib(N) = fib(N-1) + fib(N-2)$\n",
    "\n",
    "\n",
    "Example:\n",
    "* Input: N = 0, Output: 0\n",
    "* Input: N = 1, Output: 1\n",
    "* Input: N = 2, Output: 1\n",
    "* Input: N = 3, Output: 2"
   ]
  },
  {
   "cell_type": "code",
   "execution_count": 1,
   "id": "304949c8",
   "metadata": {},
   "outputs": [],
   "source": [
    "def fib(N): \n",
    "    if N == 0:\n",
    "        value = 0\n",
    "    elif N == 1:\n",
    "        value = 1\n",
    "    elif N > 1:\n",
    "        for i in range(N):\n",
    "            if i == 0:\n",
    "                preprev = 0\n",
    "            elif i == 1:\n",
    "                prev = 1\n",
    "            else:\n",
    "                value = prev + preprev\n",
    "                preprev = prev\n",
    "                prev = value\n",
    "        \n",
    "    return value"
   ]
  },
  {
   "cell_type": "code",
   "execution_count": 2,
   "id": "49a571e4",
   "metadata": {},
   "outputs": [
    {
     "ename": "UnboundLocalError",
     "evalue": "local variable 'value' referenced before assignment",
     "output_type": "error",
     "traceback": [
      "\u001b[0;31m---------------------------------------------------------------------------\u001b[0m",
      "\u001b[0;31mUnboundLocalError\u001b[0m                         Traceback (most recent call last)",
      "\u001b[0;32m/var/folders/78/njcscll93_s6cc27zw_h0pmr0000gn/T/ipykernel_77399/4147051713.py\u001b[0m in \u001b[0;36m<module>\u001b[0;34m\u001b[0m\n\u001b[0;32m----> 1\u001b[0;31m \u001b[0mfib\u001b[0m\u001b[0;34m(\u001b[0m\u001b[0;36m2\u001b[0m\u001b[0;34m)\u001b[0m\u001b[0;34m\u001b[0m\u001b[0;34m\u001b[0m\u001b[0m\n\u001b[0m",
      "\u001b[0;32m/var/folders/78/njcscll93_s6cc27zw_h0pmr0000gn/T/ipykernel_77399/3450438406.py\u001b[0m in \u001b[0;36mfib\u001b[0;34m(N)\u001b[0m\n\u001b[1;32m     15\u001b[0m                 \u001b[0mprev\u001b[0m \u001b[0;34m=\u001b[0m \u001b[0mvalue\u001b[0m\u001b[0;34m\u001b[0m\u001b[0;34m\u001b[0m\u001b[0m\n\u001b[1;32m     16\u001b[0m \u001b[0;34m\u001b[0m\u001b[0m\n\u001b[0;32m---> 17\u001b[0;31m     \u001b[0;32mreturn\u001b[0m \u001b[0mvalue\u001b[0m\u001b[0;34m\u001b[0m\u001b[0;34m\u001b[0m\u001b[0m\n\u001b[0m",
      "\u001b[0;31mUnboundLocalError\u001b[0m: local variable 'value' referenced before assignment"
     ]
    }
   ],
   "source": [
    "fib(2)"
   ]
  },
  {
   "cell_type": "markdown",
   "id": "97dffd7d",
   "metadata": {},
   "source": [
    "## Apparently, the above code doesn't work, do you know why??"
   ]
  },
  {
   "cell_type": "markdown",
   "id": "4c337bd3",
   "metadata": {},
   "source": [
    "## Can you make a quick change to make the code (copied below) work?\n",
    "* Hint: check the error messages above and see what was breaking the code"
   ]
  },
  {
   "cell_type": "code",
   "execution_count": 3,
   "id": "71f043c3",
   "metadata": {},
   "outputs": [],
   "source": [
    "def fib(N): \n",
    "    if N == 0:\n",
    "        value = 0\n",
    "    elif N == 1:\n",
    "        value = 1\n",
    "    elif N > 1:\n",
    "        for i in range(N+1):\n",
    "            if i == 0:\n",
    "                preprev = 0\n",
    "            elif i == 1:\n",
    "                prev = 1\n",
    "            else:\n",
    "                value = prev + preprev\n",
    "                preprev = prev\n",
    "                prev = value\n",
    "        \n",
    "    return value"
   ]
  },
  {
   "cell_type": "code",
   "execution_count": 10,
   "id": "ae0142c1",
   "metadata": {},
   "outputs": [
    {
     "data": {
      "text/plain": [
       "5"
      ]
     },
     "execution_count": 10,
     "metadata": {},
     "output_type": "execute_result"
    }
   ],
   "source": [
    "fib(5)"
   ]
  },
  {
   "cell_type": "markdown",
   "id": "8649cd05",
   "metadata": {},
   "source": [
    "### Q3. Write a function $puzzle\\_solver(val1, val2, product)$\n",
    "\n",
    "Given the following multiplication puzzle, can you figure out what number should be filled into the blank??\n",
    "![](multiplication_puzzle.png)\n",
    "\n",
    "We are going to define a function $puzzle\\_solver(val1, val2, product)$ to help solve the puzzle where\n",
    "* `val1` is a string representing an integer with 1 missing digit. The missing digit is represented by `_` (underscore) in the input value. \n",
    "* `val2` and `product` are all integers\n",
    "* `product` is the actual product between the two integers `val1` and `val2`.\n",
    "\n",
    "Example:\n",
    "  * Input: val1 = '1_3', val2 = 4, product = 492, Output: 'The true value of val1 is 123' (printed message on the screen)"
   ]
  },
  {
   "cell_type": "markdown",
   "id": "6024cffd",
   "metadata": {},
   "source": [
    "#### Hint\n",
    "* There is only one missing digit in the number represented by string `val1`, the missing digigt can be located in any position of `val1`\n",
    "* How many possible values can you fill into the blank?\n",
    "* If you try to fill in all possible values into the blank, maybe you can try it one by one until you find the solution?\n",
    "* You can use function `int()` to convert any string value of numeric characters such as `'345'` to integer value `345` by calling `int('345')`"
   ]
  },
  {
   "cell_type": "code",
   "execution_count": null,
   "id": "0e1c8afb",
   "metadata": {},
   "outputs": [],
   "source": []
  },
  {
   "cell_type": "code",
   "execution_count": null,
   "id": "07816783",
   "metadata": {},
   "outputs": [],
   "source": [
    "puzzle_solver('1_3', 4, 492)"
   ]
  },
  {
   "cell_type": "markdown",
   "id": "1b7cc1b9",
   "metadata": {},
   "source": [
    "### Q4. Follow-up to `Q3` (optional)\n",
    "\n",
    "Can you write a function $puzzle\\_solver(dividend, divisor, quotient, remainder)$ to solve the division puzzle?\n",
    "* `dividend` is a string representing an integer with 1 missing digit. The missing digit is represented by `_` (underscore) in the input value. \n",
    "* `divisor`, `quotient`, and `remainder` are all integers\n",
    "\n",
    "Example:\n",
    "  * Input: dividend = '4_2', divisor = 123, quotient = 4, remainder = 0, Output: 'The true value of dividend is 492' (printed message on the screen)"
   ]
  },
  {
   "cell_type": "code",
   "execution_count": null,
   "id": "54ca8759",
   "metadata": {},
   "outputs": [],
   "source": []
  }
 ],
 "metadata": {
  "kernelspec": {
   "display_name": "Python 3 (ipykernel)",
   "language": "python",
   "name": "python3"
  },
  "language_info": {
   "codemirror_mode": {
    "name": "ipython",
    "version": 3
   },
   "file_extension": ".py",
   "mimetype": "text/x-python",
   "name": "python",
   "nbconvert_exporter": "python",
   "pygments_lexer": "ipython3",
   "version": "3.9.13"
  },
  "vscode": {
   "interpreter": {
    "hash": "bb54e6d5a9e235d88f3f546c4d0fbe9cae9f80ae07f75aac4266c3cbc27cbc0d"
   }
  }
 },
 "nbformat": 4,
 "nbformat_minor": 5
}
