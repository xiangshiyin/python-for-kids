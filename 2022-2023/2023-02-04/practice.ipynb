{
 "cells": [
  {
   "cell_type": "markdown",
   "metadata": {},
   "source": [
    "# Demo"
   ]
  },
  {
   "cell_type": "markdown",
   "metadata": {},
   "source": [
    "[![Open In Colab](https://colab.research.google.com/assets/colab-badge.svg)](https://colab.research.google.com/github/xiangshiyin/python-for-kids/blob/main/2022-2023/2023-02-04/practice.ipynb)"
   ]
  },
  {
   "cell_type": "markdown",
   "metadata": {},
   "source": [
    "## Example libraries"
   ]
  },
  {
   "cell_type": "markdown",
   "metadata": {},
   "source": [
    "### `string` - contains some constants, utility function, and classes for string manipulation"
   ]
  },
  {
   "cell_type": "code",
   "execution_count": 1,
   "metadata": {},
   "outputs": [
    {
     "data": {
      "text/plain": [
       "'abcdefghijklmnopqrstuvwxyz'"
      ]
     },
     "execution_count": 1,
     "metadata": {},
     "output_type": "execute_result"
    }
   ],
   "source": [
    "import string\n",
    "\n",
    "string.ascii_lowercase"
   ]
  },
  {
   "cell_type": "code",
   "execution_count": 2,
   "metadata": {},
   "outputs": [
    {
     "data": {
      "text/plain": [
       "'ABCDEFGHIJKLMNOPQRSTUVWXYZ'"
      ]
     },
     "execution_count": 2,
     "metadata": {},
     "output_type": "execute_result"
    }
   ],
   "source": [
    "string.ascii_uppercase"
   ]
  },
  {
   "cell_type": "code",
   "execution_count": 3,
   "metadata": {},
   "outputs": [
    {
     "data": {
      "text/plain": [
       "'0123456789'"
      ]
     },
     "execution_count": 3,
     "metadata": {},
     "output_type": "execute_result"
    }
   ],
   "source": [
    "string.digits"
   ]
  },
  {
   "cell_type": "markdown",
   "metadata": {},
   "source": [
    "* You can always use `help()` function to pull the corresponding documentation of certain modules or submodules\n",
    "* Jupyter notebook and other commonly IDEs (integrated development environment) also has functionalities or plugins to help you access the documentation of certain libraries or modules"
   ]
  },
  {
   "cell_type": "code",
   "execution_count": 5,
   "metadata": {
    "scrolled": false
   },
   "outputs": [],
   "source": [
    "# help(string)"
   ]
  },
  {
   "cell_type": "markdown",
   "metadata": {},
   "source": [
    "### `math`: a collection of mathematical functions\n",
    "\n",
    "* Official documentation: https://docs.python.org/3.8/library/math.html"
   ]
  },
  {
   "cell_type": "code",
   "execution_count": 6,
   "metadata": {},
   "outputs": [],
   "source": [
    "import math"
   ]
  },
  {
   "cell_type": "code",
   "execution_count": 7,
   "metadata": {},
   "outputs": [
    {
     "data": {
      "text/plain": [
       "5"
      ]
     },
     "execution_count": 7,
     "metadata": {},
     "output_type": "execute_result"
    }
   ],
   "source": [
    "math.ceil(4.6)"
   ]
  },
  {
   "cell_type": "code",
   "execution_count": 8,
   "metadata": {},
   "outputs": [
    {
     "data": {
      "text/plain": [
       "4"
      ]
     },
     "execution_count": 8,
     "metadata": {},
     "output_type": "execute_result"
    }
   ],
   "source": [
    "math.floor(4.6)"
   ]
  },
  {
   "cell_type": "code",
   "execution_count": 9,
   "metadata": {},
   "outputs": [
    {
     "data": {
      "text/plain": [
       "5"
      ]
     },
     "execution_count": 9,
     "metadata": {},
     "output_type": "execute_result"
    }
   ],
   "source": [
    "math.ceil(4.4)"
   ]
  },
  {
   "cell_type": "code",
   "execution_count": 11,
   "metadata": {},
   "outputs": [
    {
     "data": {
      "text/plain": [
       "5"
      ]
     },
     "execution_count": 11,
     "metadata": {},
     "output_type": "execute_result"
    }
   ],
   "source": [
    "round(4.6)"
   ]
  },
  {
   "cell_type": "code",
   "execution_count": null,
   "metadata": {},
   "outputs": [],
   "source": []
  },
  {
   "cell_type": "code",
   "execution_count": 12,
   "metadata": {},
   "outputs": [
    {
     "data": {
      "text/plain": [
       "2"
      ]
     },
     "execution_count": 12,
     "metadata": {},
     "output_type": "execute_result"
    }
   ],
   "source": [
    "math.gcd(8,6) # math.gcd(a,b) returns the greatest common divisor of the integers a and b"
   ]
  },
  {
   "cell_type": "code",
   "execution_count": 14,
   "metadata": {},
   "outputs": [
    {
     "data": {
      "text/plain": [
       "3"
      ]
     },
     "execution_count": 14,
     "metadata": {},
     "output_type": "execute_result"
    }
   ],
   "source": [
    "math.gcd(27,12)"
   ]
  },
  {
   "cell_type": "code",
   "execution_count": null,
   "metadata": {},
   "outputs": [],
   "source": []
  },
  {
   "cell_type": "code",
   "execution_count": 15,
   "metadata": {},
   "outputs": [
    {
     "data": {
      "text/plain": [
       "2.718281828459045"
      ]
     },
     "execution_count": 15,
     "metadata": {},
     "output_type": "execute_result"
    }
   ],
   "source": [
    "math.exp(1) # math.exp(x) returns e raised to the power x, where e = 2.718281"
   ]
  },
  {
   "cell_type": "code",
   "execution_count": 16,
   "metadata": {},
   "outputs": [
    {
     "data": {
      "text/plain": [
       "8.0"
      ]
     },
     "execution_count": 16,
     "metadata": {},
     "output_type": "execute_result"
    }
   ],
   "source": [
    "math.pow(2, 3)"
   ]
  },
  {
   "cell_type": "code",
   "execution_count": 17,
   "metadata": {},
   "outputs": [
    {
     "data": {
      "text/plain": [
       "8"
      ]
     },
     "execution_count": 17,
     "metadata": {},
     "output_type": "execute_result"
    }
   ],
   "source": [
    "2 ** 3"
   ]
  },
  {
   "cell_type": "markdown",
   "metadata": {},
   "source": [
    "### `matplotlib`: A comprehensive library for visualizations in Python\n"
   ]
  },
  {
   "cell_type": "code",
   "execution_count": 18,
   "metadata": {},
   "outputs": [
    {
     "data": {
      "image/png": "[encoded data removed]",
      "text/plain": [
       "<Figure size 640x480 with 1 Axes>"
      ]
     },
     "metadata": {},
     "output_type": "display_data"
    }
   ],
   "source": [
    "import matplotlib.pyplot as plt\n",
    "\n",
    "xs = [1,2,3]\n",
    "ys = [1,4,9]\n",
    "plt.plot(xs,ys,label='sin(x)',marker='o')\n",
    "plt.show()"
   ]
  },
  {
   "cell_type": "markdown",
   "metadata": {},
   "source": [
    "#### Draw a straight line"
   ]
  },
  {
   "cell_type": "code",
   "execution_count": 19,
   "metadata": {},
   "outputs": [
    {
     "data": {
      "image/png": "[encoded data removed]",
      "text/plain": [
       "<Figure size 640x480 with 1 Axes>"
      ]
     },
     "metadata": {},
     "output_type": "display_data"
    }
   ],
   "source": [
    "import matplotlib.pyplot as plt\n",
    "\n",
    "# y = x + 1\n",
    "xs = list(range(-100, 100, 1))\n",
    "ys = []\n",
    "for x in xs:\n",
    "    ys.append(x + 1)\n",
    "\n",
    "plt.plot(xs,ys,label='y = x + 1',marker='o')\n",
    "plt.show()"
   ]
  },
  {
   "cell_type": "code",
   "execution_count": null,
   "metadata": {},
   "outputs": [],
   "source": []
  },
  {
   "cell_type": "markdown",
   "metadata": {},
   "source": [
    "# Coding challenges"
   ]
  },
  {
   "cell_type": "markdown",
   "metadata": {},
   "source": [
    "### Draw a circle with `matplotlib`\n",
    "* Background information on `sine` and `cosine` functions in geometry\n",
    "\n",
    "  ![](./sin_cos_tan.png)\n",
    "  * Reading\n",
    "    * https://www.mathsisfun.com/sine-cosine-tangent.html\n",
    "    * https://en.wikipedia.org/wiki/Sine_and_cosine\n",
    "* As we discussed in today's class, coordinates of all points on a circle can be expressed by the circle radius and the corresponding angle $\\theta$ via function $\\cos(\\theta)$ and $\\sin(\\theta)$ as following. The range of the $\\theta$ value is $[0, 2\\pi]$ where the constant $\\pi \\approx 3.1415927$\n",
    "\n",
    "  ![](./point_on_circle.png)"
   ]
  },
  {
   "cell_type": "markdown",
   "metadata": {},
   "source": [
    "*Maybe* we should first revisit the code we used to draw the straight line and see what we did step by step?\n",
    "- **Can we repeat a similar coding pattern as this one?**\n",
    "\n",
    "    ```python\n",
    "    # import the plot library\n",
    "    import matplotlib.pyplot as plt\n",
    "\n",
    "    # create a list of x cooridnate values\n",
    "    xs = list(range(-100, 100, 1))\n",
    "    # create an empty list for y coordiante values such that we could fill y values in later\n",
    "    ys = [] \n",
    "\n",
    "    # iterate through each individual x value\n",
    "    for x in xs: \n",
    "        # calculate the corresponding y value and plug it into the empty list we created, y = x + 1\n",
    "        ys.append(x + 1) \n",
    "\n",
    "    # feed the lists of x and y coordinate values to the plot() function\n",
    "    plt.plot(xs,ys,label='y = x + 1',marker='o') \n",
    "    plt.show()\n",
    "    ```"
   ]
  },
  {
   "cell_type": "markdown",
   "metadata": {},
   "source": [
    "If we follow the same code pattern, the code to draw a circle would be something like"
   ]
  },
  {
   "cell_type": "code",
   "execution_count": 1,
   "metadata": {},
   "outputs": [
    {
     "data": {
      "image/png": "[encoded data removed]",
      "text/plain": [
       "<Figure size 640x480 with 1 Axes>"
      ]
     },
     "metadata": {},
     "output_type": "display_data"
    }
   ],
   "source": [
    "# import the libraries\n",
    "import matplotlib.pyplot as plt\n",
    "import math\n",
    "import numpy as np\n",
    "\n",
    "# create a list of theta values\n",
    "thetas = np.arange(0, math.pi * 2, 0.01)\n",
    "\n",
    "# create a list of x cooridnate values\n",
    "xs = []\n",
    "# create an empty list for y coordiante values such that we could fill y values in later\n",
    "ys = [] \n",
    "# define the radius\n",
    "r = 1\n",
    "\n",
    "# iterate through each individual theta value\n",
    "for theta in thetas: \n",
    "    # calculate the x and y coordinates for each theta value\n",
    "    x = r * math.cos(theta)\n",
    "    y = r * math.sin(theta)\n",
    "    # plug x value into xs\n",
    "    #########################\n",
    "    ## add your code below ##\n",
    "    #########################\n",
    "\n",
    "    xs.append(x)\n",
    "    #########################\n",
    "\n",
    "    # plug y value into ys\n",
    "    #########################\n",
    "    ## add your code below ##\n",
    "    #########################\n",
    "\n",
    "    ys.append(y)\n",
    "    #########################\n",
    "    \n",
    "    \n",
    "\n",
    "# feed the lists of x and y coordinate values to the plot() function\n",
    "plt.plot(xs,ys,label='a circle',marker='o') \n",
    "plt.show()"
   ]
  },
  {
   "cell_type": "code",
   "execution_count": null,
   "metadata": {},
   "outputs": [],
   "source": []
  },
  {
   "cell_type": "markdown",
   "metadata": {},
   "source": [
    "In a Jupyter Notebook, a circle plot may appear like an ellipse if the aspect ratio of the plot is not set to be equal. In matplotlib (the plotting library used by Jupyter Notebook), by default, the aspect ratio of a plot is not fixed, meaning that the scaling of the x and y axes may be different, leading to an elliptical appearance of circular shapes.\n",
    "\n",
    "To ensure that a circle plot appears circular in Jupyter Notebook, you can set the aspect ratio of the plot to be equal. You can do this by adding the following line of code before creating the plot:\n",
    "\n",
    "```python\n",
    "plt.axes().set_aspect('equal', 'datalim')\n",
    "```\n",
    "\n",
    "This sets the aspect ratio of the plot to be equal, and uses the data limits to determine the scaling of the x and y axes. With this line of code, circular shapes in your plot should appear as circles, rather than ellipses."
   ]
  },
  {
   "cell_type": "code",
   "execution_count": 2,
   "metadata": {},
   "outputs": [
    {
     "data": {
      "image/png": "[encoded data removed]",
      "text/plain": [
       "<Figure size 640x480 with 1 Axes>"
      ]
     },
     "metadata": {},
     "output_type": "display_data"
    }
   ],
   "source": [
    "# import the libraries\n",
    "import matplotlib.pyplot as plt\n",
    "import math\n",
    "import numpy as np\n",
    "\n",
    "\n",
    "plt.axes().set_aspect('equal', 'datalim') # set the aspect ratio\n",
    "\n",
    "# create a list of theta values\n",
    "thetas = np.arange(0, math.pi * 2, 0.01)\n",
    "\n",
    "# create a list of x cooridnate values\n",
    "xs = []\n",
    "# create an empty list for y coordiante values such that we could fill y values in later\n",
    "ys = [] \n",
    "# define the radius\n",
    "r = 1\n",
    "\n",
    "# iterate through each individual theta value\n",
    "for theta in thetas: \n",
    "    # calculate the x and y coordinates for each theta value\n",
    "    x = r * math.cos(theta)\n",
    "    y = r * math.sin(theta)\n",
    "    # plug x value into xs\n",
    "    #########################\n",
    "    ## add your code below ##\n",
    "    #########################\n",
    "\n",
    "    xs.append(x)\n",
    "    #########################\n",
    "\n",
    "    # plug y value into ys\n",
    "    #########################\n",
    "    ## add your code below ##\n",
    "    #########################\n",
    "\n",
    "    ys.append(y)\n",
    "    #########################\n",
    "    \n",
    "    \n",
    "\n",
    "# feed the lists of x and y coordinate values to the plot() function\n",
    "plt.plot(xs,ys,label='a circle',marker='o') \n",
    "plt.show()"
   ]
  },
  {
   "cell_type": "code",
   "execution_count": null,
   "metadata": {},
   "outputs": [],
   "source": []
  }
 ],
 "metadata": {
  "kernelspec": {
   "display_name": "Python 3 (ipykernel)",
   "language": "python",
   "name": "python3"
  },
  "language_info": {
   "codemirror_mode": {
    "name": "ipython",
    "version": 3
   },
   "file_extension": ".py",
   "mimetype": "text/x-python",
   "name": "python",
   "nbconvert_exporter": "python",
   "pygments_lexer": "ipython3",
   "version": "3.10.8"
  },
  "vscode": {
   "interpreter": {
    "hash": "8362a633af0f7cbcc6ed819a04844ce3a710f01d203608c5525687b856dd60ea"
   }
  }
 },
 "nbformat": 4,
 "nbformat_minor": 2
}
