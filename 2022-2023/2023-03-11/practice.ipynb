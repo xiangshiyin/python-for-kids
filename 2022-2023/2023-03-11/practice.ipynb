{
 "cells": [
  {
   "cell_type": "markdown",
   "id": "f0ceceb7",
   "metadata": {},
   "source": [
    "[![Open In Colab](https://colab.research.google.com/assets/colab-badge.svg)](https://colab.research.google.com/github/xiangshiyin/python-for-kids/blob/main/2022-2023/2023-03-11/practice.ipynb)"
   ]
  },
  {
   "cell_type": "markdown",
   "id": "4d42942b",
   "metadata": {},
   "source": [
    "# Define a class `standing_desk`"
   ]
  },
  {
   "cell_type": "code",
   "execution_count": 3,
   "id": "816185e8",
   "metadata": {},
   "outputs": [],
   "source": [
    "class standing_desk:\n",
    "    # attributes = \"physical properties\"\n",
    "    def __init__(self, length, width, height): # this defines the birth of a standing desk\n",
    "        self.length = length\n",
    "        self.width = width\n",
    "        self.height = height\n",
    "        self.flat_top = True\n",
    "    \n",
    "    # methods = \"function\"\n",
    "    def hold_weight(self, weight):\n",
    "        print(f'The table is holding a weight of {weight} kg')\n",
    "    \n",
    "    def adjust_height(self, new_height):\n",
    "        print(f'Height is adjusted to {new_height}m')\n",
    "        self.height = new_height"
   ]
  },
  {
   "cell_type": "code",
   "execution_count": 4,
   "id": "0fa4ef54",
   "metadata": {},
   "outputs": [],
   "source": [
    "sd1 = standing_desk(length=1, width=2, height=3) # created a standing desk"
   ]
  },
  {
   "cell_type": "code",
   "execution_count": 5,
   "id": "2a474b1e",
   "metadata": {},
   "outputs": [
    {
     "data": {
      "text/plain": [
       "1"
      ]
     },
     "execution_count": 5,
     "metadata": {},
     "output_type": "execute_result"
    }
   ],
   "source": [
    "sd1.length"
   ]
  },
  {
   "cell_type": "code",
   "execution_count": 6,
   "id": "38b8ffc5",
   "metadata": {},
   "outputs": [
    {
     "data": {
      "text/plain": [
       "2"
      ]
     },
     "execution_count": 6,
     "metadata": {},
     "output_type": "execute_result"
    }
   ],
   "source": [
    "sd1.width"
   ]
  },
  {
   "cell_type": "code",
   "execution_count": 7,
   "id": "0ee859c9",
   "metadata": {},
   "outputs": [
    {
     "data": {
      "text/plain": [
       "3"
      ]
     },
     "execution_count": 7,
     "metadata": {},
     "output_type": "execute_result"
    }
   ],
   "source": [
    "sd1.height"
   ]
  },
  {
   "cell_type": "code",
   "execution_count": 8,
   "id": "90d39805",
   "metadata": {},
   "outputs": [
    {
     "data": {
      "text/plain": [
       "True"
      ]
     },
     "execution_count": 8,
     "metadata": {},
     "output_type": "execute_result"
    }
   ],
   "source": [
    "sd1.flat_top"
   ]
  },
  {
   "cell_type": "code",
   "execution_count": 9,
   "id": "2be44679",
   "metadata": {},
   "outputs": [
    {
     "name": "stdout",
     "output_type": "stream",
     "text": [
      "The table is holding a weight of 10 kg\n"
     ]
    }
   ],
   "source": [
    "sd1.hold_weight(10)"
   ]
  },
  {
   "cell_type": "code",
   "execution_count": 10,
   "id": "32d02dd4",
   "metadata": {},
   "outputs": [
    {
     "name": "stdout",
     "output_type": "stream",
     "text": [
      "Height is adjusted to 1.5m\n"
     ]
    }
   ],
   "source": [
    "sd1.adjust_height(new_height=1.5)"
   ]
  },
  {
   "cell_type": "code",
   "execution_count": 11,
   "id": "bc9e6489",
   "metadata": {},
   "outputs": [
    {
     "data": {
      "text/plain": [
       "1.5"
      ]
     },
     "execution_count": 11,
     "metadata": {},
     "output_type": "execute_result"
    }
   ],
   "source": [
    "sd1.height"
   ]
  },
  {
   "cell_type": "code",
   "execution_count": null,
   "id": "b7156f4b",
   "metadata": {},
   "outputs": [],
   "source": []
  },
  {
   "cell_type": "markdown",
   "id": "572cf16b",
   "metadata": {},
   "source": [
    "# Class Inheritance"
   ]
  },
  {
   "cell_type": "code",
   "execution_count": 17,
   "id": "38a9ae8e",
   "metadata": {},
   "outputs": [],
   "source": [
    "class Animal:\n",
    "    def __init__(self, name):\n",
    "        self.name = name\n",
    "\n",
    "    def speak(self):\n",
    "        pass"
   ]
  },
  {
   "cell_type": "code",
   "execution_count": 18,
   "id": "9de311ba",
   "metadata": {},
   "outputs": [],
   "source": [
    "class Dog(Animal):\n",
    "    def speak(self):\n",
    "        print('I can not speak, but I can bark')"
   ]
  },
  {
   "cell_type": "code",
   "execution_count": 19,
   "id": "342369d9",
   "metadata": {},
   "outputs": [],
   "source": [
    "dog1 = Dog(name='dog')"
   ]
  },
  {
   "cell_type": "code",
   "execution_count": 20,
   "id": "95b7da32",
   "metadata": {},
   "outputs": [
    {
     "data": {
      "text/plain": [
       "'dog'"
      ]
     },
     "execution_count": 20,
     "metadata": {},
     "output_type": "execute_result"
    }
   ],
   "source": [
    "dog1.name"
   ]
  },
  {
   "cell_type": "code",
   "execution_count": 21,
   "id": "0aee4c2c",
   "metadata": {},
   "outputs": [
    {
     "name": "stdout",
     "output_type": "stream",
     "text": [
      "I can not speak, but I can bark\n"
     ]
    }
   ],
   "source": [
    "dog1.speak()"
   ]
  },
  {
   "cell_type": "code",
   "execution_count": 23,
   "id": "545305db",
   "metadata": {},
   "outputs": [],
   "source": [
    "animal1 = Animal(name='guess me')"
   ]
  },
  {
   "cell_type": "code",
   "execution_count": 24,
   "id": "fb122f84",
   "metadata": {},
   "outputs": [
    {
     "data": {
      "text/plain": [
       "'guess me'"
      ]
     },
     "execution_count": 24,
     "metadata": {},
     "output_type": "execute_result"
    }
   ],
   "source": [
    "animal1.name"
   ]
  },
  {
   "cell_type": "code",
   "execution_count": 25,
   "id": "8ad74ec8",
   "metadata": {},
   "outputs": [],
   "source": [
    "animal1.speak()"
   ]
  },
  {
   "cell_type": "code",
   "execution_count": null,
   "id": "1b57def4",
   "metadata": {},
   "outputs": [],
   "source": []
  }
 ],
 "metadata": {
  "kernelspec": {
   "display_name": "Python 3 (ipykernel)",
   "language": "python",
   "name": "python3"
  },
  "language_info": {
   "codemirror_mode": {
    "name": "ipython",
    "version": 3
   },
   "file_extension": ".py",
   "mimetype": "text/x-python",
   "name": "python",
   "nbconvert_exporter": "python",
   "pygments_lexer": "ipython3",
   "version": "3.10.8"
  }
 },
 "nbformat": 4,
 "nbformat_minor": 5
}
