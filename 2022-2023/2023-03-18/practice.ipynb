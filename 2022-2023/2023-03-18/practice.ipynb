{
 "cells": [
  {
   "cell_type": "markdown",
   "id": "d29e86da",
   "metadata": {},
   "source": [
    "# Recap of the assignments"
   ]
  },
  {
   "cell_type": "markdown",
   "id": "ee65ed65",
   "metadata": {},
   "source": [
    "\n",
    "```md\n",
    "Q1. Create a class car that has the followng attributes (properties) and methods (functions)\n",
    "* Attributes\n",
    "  * size (subcompact, compact, mid-size, full-size, suv, truck, van, etc.)\n",
    "  * power source\n",
    "* Method\n",
    "  * move (feel free to define whatever actions that make sense for this method)\n",
    "```"
   ]
  },
  {
   "cell_type": "code",
   "execution_count": 15,
   "id": "d4c135d6",
   "metadata": {},
   "outputs": [],
   "source": [
    "class car:\n",
    "    def __init__(self, size, power_source):\n",
    "        self.size = size\n",
    "        self.power_source = power_source\n",
    "        \n",
    "    def move(self, speed):\n",
    "        print(f'I am moving at a speed of {speed} mph')"
   ]
  },
  {
   "cell_type": "code",
   "execution_count": 16,
   "id": "0a7d3b5e",
   "metadata": {},
   "outputs": [],
   "source": [
    "tesla = car(size='mid-size', power_source='battery')"
   ]
  },
  {
   "cell_type": "code",
   "execution_count": 17,
   "id": "e61599d6",
   "metadata": {},
   "outputs": [
    {
     "data": {
      "text/plain": [
       "'mid-size'"
      ]
     },
     "execution_count": 17,
     "metadata": {},
     "output_type": "execute_result"
    }
   ],
   "source": [
    "tesla.size"
   ]
  },
  {
   "cell_type": "code",
   "execution_count": 18,
   "id": "e621e101",
   "metadata": {},
   "outputs": [
    {
     "data": {
      "text/plain": [
       "'battery'"
      ]
     },
     "execution_count": 18,
     "metadata": {},
     "output_type": "execute_result"
    }
   ],
   "source": [
    "tesla.power_source"
   ]
  },
  {
   "cell_type": "code",
   "execution_count": 19,
   "id": "86ba9d6a",
   "metadata": {},
   "outputs": [
    {
     "name": "stdout",
     "output_type": "stream",
     "text": [
      "I am moving at a speed of 60 mph\n"
     ]
    }
   ],
   "source": [
    "tesla.move(speed=60)"
   ]
  },
  {
   "cell_type": "markdown",
   "id": "b1286774",
   "metadata": {},
   "source": [
    "```md\n",
    "Q2. Create an object tesla that inheritates the class car\n",
    "Add an additional method charge (feel free to define whatever actions that make sense for this method)\n",
    "```"
   ]
  },
  {
   "cell_type": "code",
   "execution_count": 26,
   "id": "65d283b5",
   "metadata": {},
   "outputs": [],
   "source": [
    "class tesla(car):\n",
    "    def autopilot(self):\n",
    "        print('I am under autopilot mode')"
   ]
  },
  {
   "cell_type": "code",
   "execution_count": 27,
   "id": "4c5cf2f2",
   "metadata": {},
   "outputs": [],
   "source": [
    "model_s = tesla(size='mid-size', power_source='battery')"
   ]
  },
  {
   "cell_type": "code",
   "execution_count": 28,
   "id": "6302a73b",
   "metadata": {},
   "outputs": [
    {
     "data": {
      "text/plain": [
       "'mid-size'"
      ]
     },
     "execution_count": 28,
     "metadata": {},
     "output_type": "execute_result"
    }
   ],
   "source": [
    "model_s.size"
   ]
  },
  {
   "cell_type": "code",
   "execution_count": 29,
   "id": "afaa7383",
   "metadata": {},
   "outputs": [
    {
     "data": {
      "text/plain": [
       "'battery'"
      ]
     },
     "execution_count": 29,
     "metadata": {},
     "output_type": "execute_result"
    }
   ],
   "source": [
    "model_s.power_source"
   ]
  },
  {
   "cell_type": "code",
   "execution_count": 30,
   "id": "c79f273d",
   "metadata": {},
   "outputs": [
    {
     "name": "stdout",
     "output_type": "stream",
     "text": [
      "I am moving at a speed of 60 mph\n"
     ]
    }
   ],
   "source": [
    "model_s.move(speed=60)"
   ]
  },
  {
   "cell_type": "code",
   "execution_count": 31,
   "id": "c7b1ba16",
   "metadata": {},
   "outputs": [
    {
     "name": "stdout",
     "output_type": "stream",
     "text": [
      "I am under autopilot mode\n"
     ]
    }
   ],
   "source": [
    "model_s.autopilot()"
   ]
  },
  {
   "cell_type": "markdown",
   "id": "7b8b660d",
   "metadata": {},
   "source": [
    "# Read from a file"
   ]
  },
  {
   "cell_type": "code",
   "execution_count": 34,
   "id": "4999170f",
   "metadata": {},
   "outputs": [
    {
     "name": "stdout",
     "output_type": "stream",
     "text": [
      "Harry Potter and the Sorcerer's Stone\n",
      "\n",
      "CHAPTER ONE\n",
      "\n"
     ]
    }
   ],
   "source": [
    "with open('hp.txt','r') as file:\n",
    "    line1 = file.readline()\n",
    "    line2 = file.readline()\n",
    "    line3 = file.readline()\n",
    "    line4 = file.readline()\n",
    "#     line5 = file.readline()\n",
    "    \n",
    "    print(line1)\n",
    "    print(line4)"
   ]
  },
  {
   "cell_type": "code",
   "execution_count": null,
   "id": "61667636",
   "metadata": {},
   "outputs": [],
   "source": []
  }
 ],
 "metadata": {
  "kernelspec": {
   "display_name": "Python 3 (ipykernel)",
   "language": "python",
   "name": "python3"
  },
  "language_info": {
   "codemirror_mode": {
    "name": "ipython",
    "version": 3
   },
   "file_extension": ".py",
   "mimetype": "text/x-python",
   "name": "python",
   "nbconvert_exporter": "python",
   "pygments_lexer": "ipython3",
   "version": "3.10.8"
  }
 },
 "nbformat": 4,
 "nbformat_minor": 5
}
