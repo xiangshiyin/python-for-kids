{
 "cells": [
  {
   "cell_type": "markdown",
   "id": "3a38ca92",
   "metadata": {},
   "source": [
    "# `if` statement\n",
    "\n",
    "* Format 1\n",
    "```python\n",
    "if condition:\n",
    "    <Action A>\n",
    "```\n",
    "\n",
    "* Format 2\n",
    "```python\n",
    "if condition == True:\n",
    "    <Action A>\n",
    "```"
   ]
  },
  {
   "cell_type": "markdown",
   "id": "e8b4a33d",
   "metadata": {},
   "source": [
    "* Format 3\n",
    "```python\n",
    "if not condition:\n",
    "    <Action A>\n",
    "```\n",
    "\n",
    "* Format 4\n",
    "```python\n",
    "if condition == False:\n",
    "    <Action A>\n",
    "```"
   ]
  },
  {
   "cell_type": "code",
   "execution_count": 1,
   "id": "79ab210e",
   "metadata": {},
   "outputs": [],
   "source": [
    "x = 4\n",
    "if x > 5:\n",
    "    print('The number x is greater than 5')"
   ]
  },
  {
   "cell_type": "code",
   "execution_count": 2,
   "id": "479b5c1e",
   "metadata": {},
   "outputs": [
    {
     "name": "stdout",
     "output_type": "stream",
     "text": [
      "The number x is smaller than 5\n"
     ]
    }
   ],
   "source": [
    "x = 4\n",
    "if x < 5:\n",
    "    print('The number x is smaller than 5')"
   ]
  },
  {
   "cell_type": "markdown",
   "id": "0aff5f75",
   "metadata": {},
   "source": [
    "# `if-else` statement\n",
    "\n",
    "* Format 1\n",
    "```python\n",
    "if condition:\n",
    "    <Action A>\n",
    "else:\n",
    "    <Action B>\n",
    "```\n",
    "\n",
    "* Format 2\n",
    "```python\n",
    "if not condition:\n",
    "    <Action B>\n",
    "else:\n",
    "    <Action A>\n",
    "```"
   ]
  },
  {
   "cell_type": "code",
   "execution_count": 3,
   "id": "8b75361b",
   "metadata": {},
   "outputs": [
    {
     "name": "stdout",
     "output_type": "stream",
     "text": [
      "The number x is smaller than 5\n"
     ]
    }
   ],
   "source": [
    "x = 4\n",
    "if x > 5:\n",
    "    print('The number x is greater than 5')\n",
    "else:\n",
    "    print('The number x is smaller than 5')"
   ]
  },
  {
   "cell_type": "code",
   "execution_count": 4,
   "id": "1f27c78a",
   "metadata": {},
   "outputs": [
    {
     "name": "stdout",
     "output_type": "stream",
     "text": [
      "Input a number:\n",
      "6\n",
      "The number x is greater than 5\n"
     ]
    }
   ],
   "source": [
    "x = eval(input(\"Input a number:\\n\"))\n",
    "if x > 5:\n",
    "    print('The number x is greater than 5')\n",
    "else:\n",
    "    print('The number x is smaller than 5')"
   ]
  },
  {
   "cell_type": "markdown",
   "id": "2b5cd037",
   "metadata": {},
   "source": [
    "# `multi-branch` conditional statement\n",
    "\n",
    "* Format 1\n",
    "```python\n",
    "if condition1==True:\n",
    "    <Action A>\n",
    "else:\n",
    "    if condition2==True:\n",
    "        <Action B>\n",
    "    else:\n",
    "        <Action C>\n",
    "```\n",
    "\n",
    "* Format 2\n",
    "```python\n",
    "if condition1==True:\n",
    "    <Action A>\n",
    "elif condition2==True:\n",
    "    <Action B>\n",
    "else:\n",
    "    <Action C>\n",
    "```"
   ]
  },
  {
   "cell_type": "code",
   "execution_count": 5,
   "id": "fee4ccdc",
   "metadata": {},
   "outputs": [
    {
     "name": "stdout",
     "output_type": "stream",
     "text": [
      "The number x is smaller than 5\n"
     ]
    }
   ],
   "source": [
    "x = 4\n",
    "if x > 5:\n",
    "    print('The number x is greater than 5')\n",
    "else:\n",
    "    if x == 5:\n",
    "        print('The number x is equal to 5')\n",
    "    else:\n",
    "        print('The number x is smaller than 5')"
   ]
  },
  {
   "cell_type": "markdown",
   "id": "1dfc8a4b",
   "metadata": {},
   "source": [
    "# Boolean expression\n",
    "\n",
    "| \"Normal\" Expression                    | Python Expression                                                                             | Meaning                                |\n",
    "|----------------------------------------|-----------------------------------------------------------------------------------------------|----------------------------------------|\n",
    "| a = b                                  | a == b                                                                                        | a is equal to b                        |\n",
    "| a ≠ b                                  | a != b                                                                                        | a is not equal to b                    |\n",
    "| a > b                                  | a > b                                                                                         | a is greater than b                    |\n",
    "| a < b                                  | a < b                                                                                         | a is smaller than b                    |\n",
    "| a ≥ b                                  | a >= b                                                                                        | a is greater or equal to b             |\n",
    "| a ≤ b                                  | a <= b                                                                                        | a is smaller or equal to b             |\n",
    "| Relation 1 = 1 is True                 | (1 == 1) == True, (1 == 1) is True                                                            | Relation 1 = 1 is True                 |\n",
    "| Relation 1 = 2 is not True             | (1 == 2) == False, (1 == 1) is not True                                                       | Relation 1 = 2 is not True             |\n",
    "| Both condition1 and condition2 are met | condition1 and condition2, condition1 & condition2, condition1 == True and condition2 == True | Both condition1 and condition2 are met |\n",
    "| Either condition1 or condition2 is met | condition1 or condition2, condition1 \\| condition2, condition1 == True or condition2 == True  | Either condition1 or condition2 is met |"
   ]
  },
  {
   "cell_type": "code",
   "execution_count": null,
   "id": "5e60e22c",
   "metadata": {},
   "outputs": [],
   "source": []
  }
 ],
 "metadata": {
  "kernelspec": {
   "display_name": "Python 3 (ipykernel)",
   "language": "python",
   "name": "python3"
  },
  "language_info": {
   "codemirror_mode": {
    "name": "ipython",
    "version": 3
   },
   "file_extension": ".py",
   "mimetype": "text/x-python",
   "name": "python",
   "nbconvert_exporter": "python",
   "pygments_lexer": "ipython3",
   "version": "3.9.7"
  }
 },
 "nbformat": 4,
 "nbformat_minor": 5
}
