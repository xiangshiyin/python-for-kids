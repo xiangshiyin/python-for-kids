{
 "cells": [
  {
   "cell_type": "markdown",
   "id": "5a691ecb",
   "metadata": {},
   "source": [
    "# `if` statement\n",
    "\n",
    "* Format 1\n",
    "```python\n",
    "if condition:\n",
    "    <Action A>\n",
    "```\n",
    "\n",
    "* Format 2\n",
    "```python\n",
    "if condition == True:\n",
    "    <Action A>\n",
    "```"
   ]
  },
  {
   "cell_type": "markdown",
   "id": "7ed3ddec",
   "metadata": {},
   "source": [
    "* Format 3\n",
    "```python\n",
    "if not condition:\n",
    "    <Action A>\n",
    "```\n",
    "\n",
    "* Format 4\n",
    "```python\n",
    "if condition == False:\n",
    "    <Action A>\n",
    "```"
   ]
  },
  {
   "cell_type": "code",
   "execution_count": 1,
   "id": "a873e1c9",
   "metadata": {},
   "outputs": [],
   "source": [
    "x = 4\n",
    "if x > 5:\n",
    "    print('The number x is greater than 5')"
   ]
  },
  {
   "cell_type": "code",
   "execution_count": 2,
   "id": "d1d1632d",
   "metadata": {},
   "outputs": [
    {
     "name": "stdout",
     "output_type": "stream",
     "text": [
      "The number x is smaller than 5\n"
     ]
    }
   ],
   "source": [
    "x = 4\n",
    "if x < 5:\n",
    "    print('The number x is smaller than 5')"
   ]
  },
  {
   "cell_type": "markdown",
   "id": "09ac5996",
   "metadata": {},
   "source": [
    "# `if-else` statement\n",
    "\n",
    "* Format 1\n",
    "```python\n",
    "if condition:\n",
    "    <Action A>\n",
    "else:\n",
    "    <Action B>\n",
    "```\n",
    "\n",
    "* Format 2\n",
    "```python\n",
    "if not condition:\n",
    "    <Action B>\n",
    "else:\n",
    "    <Action A>\n",
    "```"
   ]
  },
  {
   "cell_type": "code",
   "execution_count": 3,
   "id": "91ce6fb0",
   "metadata": {},
   "outputs": [
    {
     "name": "stdout",
     "output_type": "stream",
     "text": [
      "The number x is smaller than 5\n"
     ]
    }
   ],
   "source": [
    "x = 4\n",
    "if x > 5:\n",
    "    print('The number x is greater than 5')\n",
    "else:\n",
    "    print('The number x is smaller than 5')"
   ]
  },
  {
   "cell_type": "code",
   "execution_count": 4,
   "id": "3db776e1",
   "metadata": {},
   "outputs": [
    {
     "name": "stdout",
     "output_type": "stream",
     "text": [
      "Input a number:\n",
      "6\n",
      "The number x is greater than 5\n"
     ]
    }
   ],
   "source": [
    "x = eval(input(\"Input a number:\\n\"))\n",
    "if x > 5:\n",
    "    print('The number x is greater than 5')\n",
    "else:\n",
    "    print('The number x is smaller than 5')"
   ]
  },
  {
   "cell_type": "markdown",
   "id": "1b8b2ac6",
   "metadata": {},
   "source": [
    "# `multi-branch` conditional statement\n",
    "\n",
    "* Format 1\n",
    "```python\n",
    "if condition1==True:\n",
    "    <Action A>\n",
    "else:\n",
    "    if condition2==True:\n",
    "        <Action B>\n",
    "    else:\n",
    "        <Action C>\n",
    "```\n",
    "\n",
    "* Format 2\n",
    "```python\n",
    "if condition1==True:\n",
    "    <Action A>\n",
    "elif condition2==True:\n",
    "    <Action B>\n",
    "else:\n",
    "    <Action C>\n",
    "```"
   ]
  },
  {
   "cell_type": "code",
   "execution_count": null,
   "id": "87efe425",
   "metadata": {},
   "outputs": [],
   "source": []
  },
  {
   "cell_type": "code",
   "execution_count": null,
   "id": "75142a33",
   "metadata": {},
   "outputs": [],
   "source": []
  }
 ],
 "metadata": {
  "kernelspec": {
   "display_name": "Python 3 (ipykernel)",
   "language": "python",
   "name": "python3"
  },
  "language_info": {
   "codemirror_mode": {
    "name": "ipython",
    "version": 3
   },
   "file_extension": ".py",
   "mimetype": "text/x-python",
   "name": "python",
   "nbconvert_exporter": "python",
   "pygments_lexer": "ipython3",
   "version": "3.9.7"
  }
 },
 "nbformat": 4,
 "nbformat_minor": 5
}
