{
 "cells": [
  {
   "cell_type": "markdown",
   "id": "5f3feb91",
   "metadata": {},
   "source": [
    "[![Open In Colab](https://colab.research.google.com/assets/colab-badge.svg)](https://colab.research.google.com/github/xiangshiyin/python-for-kids/blob/main/2022-fall/2022-09-24/practice.ipynb)"
   ]
  },
  {
   "cell_type": "code",
   "execution_count": 1,
   "id": "5228eac3",
   "metadata": {},
   "outputs": [],
   "source": [
    "x = 4\n",
    "if x > 5:\n",
    "    print('the number x is greater than 5')"
   ]
  },
  {
   "cell_type": "code",
   "execution_count": 2,
   "id": "9f6bc8c0",
   "metadata": {},
   "outputs": [
    {
     "data": {
      "text/plain": [
       "2.5"
      ]
     },
     "execution_count": 2,
     "metadata": {},
     "output_type": "execute_result"
    }
   ],
   "source": [
    "a = 5\n",
    "b = 2\n",
    "a/b"
   ]
  },
  {
   "cell_type": "code",
   "execution_count": 6,
   "id": "72292982",
   "metadata": {},
   "outputs": [
    {
     "name": "stdout",
     "output_type": "stream",
     "text": [
      "Invalid b value, it can not be zero\n"
     ]
    }
   ],
   "source": [
    "a = 5\n",
    "b = 0\n",
    "if not (b > 0 or b < 0): # print a message to remind users that b can't be zero\n",
    "    print('Invalid b value, it can not be zero')"
   ]
  },
  {
   "cell_type": "code",
   "execution_count": 10,
   "id": "647a1057",
   "metadata": {},
   "outputs": [
    {
     "name": "stdout",
     "output_type": "stream",
     "text": [
      "put in integer:\n",
      "10\n",
      "x is greater than 5\n"
     ]
    }
   ],
   "source": [
    "# x = 3\n",
    "x = eval(input(\"put in integer:\\n\"))\n",
    "# the code below is a demo\n",
    "if x > 5:\n",
    "    print('x is greater than 5')\n",
    "else:\n",
    "    print('x is smaller than or equal to 5')"
   ]
  },
  {
   "cell_type": "code",
   "execution_count": 11,
   "id": "121252c5",
   "metadata": {},
   "outputs": [
    {
     "name": "stdout",
     "output_type": "stream",
     "text": [
      "type in anything you want\n",
      "10\n"
     ]
    }
   ],
   "source": [
    "x = input(\"type in anything you want\\n\")"
   ]
  },
  {
   "cell_type": "code",
   "execution_count": 13,
   "id": "4a81a09c",
   "metadata": {},
   "outputs": [
    {
     "data": {
      "text/plain": [
       "'10'"
      ]
     },
     "execution_count": 13,
     "metadata": {},
     "output_type": "execute_result"
    }
   ],
   "source": [
    "x"
   ]
  },
  {
   "cell_type": "code",
   "execution_count": 14,
   "id": "e27383bd",
   "metadata": {},
   "outputs": [
    {
     "data": {
      "text/plain": [
       "10"
      ]
     },
     "execution_count": 14,
     "metadata": {},
     "output_type": "execute_result"
    }
   ],
   "source": [
    "eval(x)"
   ]
  },
  {
   "cell_type": "code",
   "execution_count": 15,
   "id": "24a27537",
   "metadata": {},
   "outputs": [
    {
     "name": "stdout",
     "output_type": "stream",
     "text": [
      "underweight\n"
     ]
    }
   ],
   "source": [
    "bmi = 0\n",
    "if bmi < 18.5:\n",
    "    print('underweight')\n",
    "else:\n",
    "    if bmi < 24.9:\n",
    "        print('normal')\n",
    "    else:\n",
    "        print('overweight')"
   ]
  },
  {
   "cell_type": "code",
   "execution_count": 16,
   "id": "1b245fe5",
   "metadata": {},
   "outputs": [
    {
     "name": "stdout",
     "output_type": "stream",
     "text": [
      "underweight\n"
     ]
    }
   ],
   "source": [
    "bmi = 0\n",
    "if bmi < 18.5:\n",
    "    print('underweight')\n",
    "elif bmi < 24.9:\n",
    "    print('normal')\n",
    "else:\n",
    "    print('overweight')"
   ]
  },
  {
   "cell_type": "code",
   "execution_count": 17,
   "id": "919c218f",
   "metadata": {},
   "outputs": [
    {
     "name": "stdout",
     "output_type": "stream",
     "text": [
      "obese\n"
     ]
    }
   ],
   "source": [
    "bmi = 25\n",
    "if bmi < 18.5:\n",
    "    print('underweight')\n",
    "elif bmi < 24.9:\n",
    "    print('normal')\n",
    "elif bmi < 24.9:\n",
    "    print('overweight')\n",
    "else:\n",
    "    print('obese')"
   ]
  },
  {
   "cell_type": "code",
   "execution_count": null,
   "id": "096ee73c",
   "metadata": {},
   "outputs": [],
   "source": []
  }
 ],
 "metadata": {
  "kernelspec": {
   "display_name": "Python 3 (ipykernel)",
   "language": "python",
   "name": "python3"
  },
  "language_info": {
   "codemirror_mode": {
    "name": "ipython",
    "version": 3
   },
   "file_extension": ".py",
   "mimetype": "text/x-python",
   "name": "python",
   "nbconvert_exporter": "python",
   "pygments_lexer": "ipython3",
   "version": "3.9.13"
  }
 },
 "nbformat": 4,
 "nbformat_minor": 5
}
