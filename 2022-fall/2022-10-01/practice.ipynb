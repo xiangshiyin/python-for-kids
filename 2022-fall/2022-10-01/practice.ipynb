{
 "cells": [
  {
   "cell_type": "markdown",
   "id": "5bb27e50",
   "metadata": {},
   "source": [
    "## Logic operations\n",
    "\n",
    "| x     | y     | x and y | x or y | x & y | x \\| y |\n",
    "|-------|-------|---------|--------|-------|--------|\n",
    "| True  | True  | True    | True   | True  | True   |\n",
    "| True  | False | False   | True   | False | True   |\n",
    "| False | False | False   | False  | False | False  |"
   ]
  },
  {
   "cell_type": "markdown",
   "id": "c638f9e8",
   "metadata": {},
   "source": [
    "## While loop\n",
    "\n",
    "```python\n",
    "while <condition>:\n",
    "    <action>\n",
    "```"
   ]
  },
  {
   "cell_type": "code",
   "execution_count": null,
   "id": "819a47ef",
   "metadata": {},
   "outputs": [],
   "source": []
  }
 ],
 "metadata": {
  "kernelspec": {
   "display_name": "Python 3 (ipykernel)",
   "language": "python",
   "name": "python3"
  },
  "language_info": {
   "codemirror_mode": {
    "name": "ipython",
    "version": 3
   },
   "file_extension": ".py",
   "mimetype": "text/x-python",
   "name": "python",
   "nbconvert_exporter": "python",
   "pygments_lexer": "ipython3",
   "version": "3.9.13"
  }
 },
 "nbformat": 4,
 "nbformat_minor": 5
}
