{
 "cells": [
  {
   "cell_type": "markdown",
   "id": "167f813f",
   "metadata": {},
   "source": [
    "## While loop\n",
    "\n",
    "```python\n",
    "while <condition>:\n",
    "    <action>\n",
    "```"
   ]
  },
  {
   "cell_type": "markdown",
   "id": "a87395e9",
   "metadata": {},
   "source": [
    "## Break a loop\n",
    "\n",
    "* Option 1: when `<condition>` turn False\n",
    "* Option 2: manual interference\n",
    "```python\n",
    "while <condition>:\n",
    "    break\n",
    "```"
   ]
  },
  {
   "cell_type": "markdown",
   "id": "3e05109f",
   "metadata": {},
   "source": [
    "What happens to the actions within the loop?\n",
    "```python\n",
    "while <condition>:\n",
    "    <action 1>\n",
    "    break\n",
    "    <action 2>\n",
    "```"
   ]
  },
  {
   "cell_type": "markdown",
   "id": "4c497309",
   "metadata": {},
   "source": [
    "```python\n",
    "while <condition>:\n",
    "    if <condition2>:\n",
    "        break\n",
    "    <action>\n",
    "```"
   ]
  },
  {
   "cell_type": "markdown",
   "id": "f2816b20",
   "metadata": {},
   "source": [
    "```python\n",
    "while <condition>:\n",
    "    if <condition2>:\n",
    "        <action>\n",
    "```"
   ]
  },
  {
   "cell_type": "code",
   "execution_count": null,
   "id": "ac886bfb",
   "metadata": {},
   "outputs": [],
   "source": []
  }
 ],
 "metadata": {
  "kernelspec": {
   "display_name": "Python 3 (ipykernel)",
   "language": "python",
   "name": "python3"
  },
  "language_info": {
   "codemirror_mode": {
    "name": "ipython",
    "version": 3
   },
   "file_extension": ".py",
   "mimetype": "text/x-python",
   "name": "python",
   "nbconvert_exporter": "python",
   "pygments_lexer": "ipython3",
   "version": "3.9.13"
  }
 },
 "nbformat": 4,
 "nbformat_minor": 5
}
