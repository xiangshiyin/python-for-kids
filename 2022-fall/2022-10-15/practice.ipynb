{
 "cells": [
  {
   "cell_type": "markdown",
   "id": "f26b0081",
   "metadata": {},
   "source": [
    "[![Open In Colab](https://colab.research.google.com/assets/colab-badge.svg)](https://colab.research.google.com/github/xiangshiyin/python-for-kids/blob/main/2022-fall/2022-10-15/practice.ipynb)"
   ]
  },
  {
   "cell_type": "markdown",
   "id": "167f813f",
   "metadata": {},
   "source": [
    "## While loop\n",
    "\n",
    "```python\n",
    "while <condition>:\n",
    "    <action>\n",
    "```"
   ]
  },
  {
   "cell_type": "markdown",
   "id": "a87395e9",
   "metadata": {},
   "source": [
    "## Break a loop\n",
    "\n",
    "* Option 1: when `<condition>` turn False\n",
    "* Option 2: manual interference\n",
    "```python\n",
    "while <condition>:\n",
    "    break\n",
    "```"
   ]
  },
  {
   "cell_type": "markdown",
   "id": "3e05109f",
   "metadata": {},
   "source": [
    "What happens to the actions within the loop?\n",
    "```python\n",
    "while <condition>:\n",
    "    <action 1>\n",
    "    break\n",
    "    <action 2>\n",
    "```"
   ]
  },
  {
   "cell_type": "markdown",
   "id": "4c497309",
   "metadata": {},
   "source": [
    "```python\n",
    "while <condition>:\n",
    "    if <condition2>:\n",
    "        break\n",
    "    <action>\n",
    "```"
   ]
  },
  {
   "cell_type": "markdown",
   "id": "f2816b20",
   "metadata": {},
   "source": [
    "```python\n",
    "while <condition>:\n",
    "    if <condition2>:\n",
    "        <action>\n",
    "```"
   ]
  },
  {
   "cell_type": "code",
   "execution_count": 3,
   "id": "ac886bfb",
   "metadata": {},
   "outputs": [],
   "source": [
    "condition = True\n",
    "\n",
    "while condition:\n",
    "    print('hello')"
   ]
  },
  {
   "cell_type": "code",
   "execution_count": 4,
   "id": "8ce03a14",
   "metadata": {},
   "outputs": [
    {
     "name": "stdout",
     "output_type": "stream",
     "text": [
      "been here before the loop\n",
      "the loop is done\n"
     ]
    }
   ],
   "source": [
    "condition = False\n",
    "\n",
    "print('been here before the loop')\n",
    "\n",
    "while condition:\n",
    "    print('hello')\n",
    "    \n",
    "print('the loop is done')"
   ]
  },
  {
   "cell_type": "code",
   "execution_count": 5,
   "id": "bb5876c7",
   "metadata": {},
   "outputs": [
    {
     "name": "stdout",
     "output_type": "stream",
     "text": [
      "been here before the loop\n",
      "the loop is done\n"
     ]
    }
   ],
   "source": [
    "print('been here before the loop')\n",
    "\n",
    "while 1 > 10:\n",
    "    print('hello')\n",
    "    \n",
    "print('the loop is done')"
   ]
  },
  {
   "cell_type": "code",
   "execution_count": 7,
   "id": "c29291cc",
   "metadata": {},
   "outputs": [],
   "source": [
    "# print('been here before the loop')\n",
    "\n",
    "# while 1 < 10:\n",
    "#     print('hello')\n",
    "    \n",
    "# print('the loop is done')"
   ]
  },
  {
   "cell_type": "markdown",
   "id": "795b8664",
   "metadata": {},
   "source": [
    "## Challenge 3: Can we use while-loop to print the same message 10 times on the screen?"
   ]
  },
  {
   "cell_type": "code",
   "execution_count": 11,
   "id": "ff958421",
   "metadata": {},
   "outputs": [
    {
     "name": "stdout",
     "output_type": "stream",
     "text": [
      "1 hello hello\n",
      "2 hello hello\n",
      "3 hello hello\n",
      "4 hello hello\n",
      "5 hello hello\n",
      "6 hello hello\n",
      "7 hello hello\n",
      "8 hello hello\n",
      "9 hello hello\n",
      "10 hello hello\n"
     ]
    }
   ],
   "source": [
    "counter = 1\n",
    "while counter <= 10:\n",
    "    print(counter, 'hello hello')\n",
    "    counter = counter + 1"
   ]
  },
  {
   "cell_type": "code",
   "execution_count": 14,
   "id": "dba90ed6",
   "metadata": {},
   "outputs": [
    {
     "name": "stdout",
     "output_type": "stream",
     "text": [
      "1\n",
      "2\n",
      "3\n",
      "4\n",
      "5\n",
      "6\n",
      "7\n",
      "8\n",
      "9\n",
      "10\n",
      "11\n",
      "12\n",
      "13\n",
      "14\n",
      "15\n",
      "16\n",
      "17\n",
      "18\n",
      "19\n"
     ]
    }
   ],
   "source": [
    "counter = 1\n",
    "while counter < 20:\n",
    "    print(counter)\n",
    "    counter = counter + 1"
   ]
  },
  {
   "cell_type": "code",
   "execution_count": 15,
   "id": "400b4a06",
   "metadata": {},
   "outputs": [
    {
     "name": "stdout",
     "output_type": "stream",
     "text": [
      "2\n",
      "4\n",
      "6\n",
      "8\n",
      "10\n",
      "12\n",
      "14\n",
      "16\n",
      "18\n"
     ]
    }
   ],
   "source": [
    "counter = 1\n",
    "while counter < 20:\n",
    "    if counter % 2 == 0:\n",
    "        print(counter)\n",
    "    counter = counter + 1"
   ]
  },
  {
   "cell_type": "code",
   "execution_count": 16,
   "id": "b95d805f",
   "metadata": {},
   "outputs": [
    {
     "name": "stdout",
     "output_type": "stream",
     "text": [
      "2\n",
      "4\n",
      "6\n",
      "8\n"
     ]
    }
   ],
   "source": [
    "counter = 1\n",
    "while counter < 20:\n",
    "    if counter % 2 == 0:\n",
    "        print(counter)\n",
    "    if counter == 9:\n",
    "        break\n",
    "    counter = counter + 1"
   ]
  },
  {
   "cell_type": "code",
   "execution_count": null,
   "id": "5c0410c3",
   "metadata": {},
   "outputs": [],
   "source": []
  }
 ],
 "metadata": {
  "kernelspec": {
   "display_name": "Python 3.9.13 ('text-summary')",
   "language": "python",
   "name": "python3"
  },
  "language_info": {
   "codemirror_mode": {
    "name": "ipython",
    "version": 3
   },
   "file_extension": ".py",
   "mimetype": "text/x-python",
   "name": "python",
   "nbconvert_exporter": "python",
   "pygments_lexer": "ipython3",
   "version": "3.9.13"
  },
  "vscode": {
   "interpreter": {
    "hash": "902732434834798e7384411e7c2c2287974a7c3f20cb2f00b14f2eb655ccae14"
   }
  }
 },
 "nbformat": 4,
 "nbformat_minor": 5
}
