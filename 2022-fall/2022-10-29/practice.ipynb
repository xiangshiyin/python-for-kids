{
 "cells": [
  {
   "cell_type": "markdown",
   "id": "d9279b62",
   "metadata": {},
   "source": [
    "# Coding exercises from the previous class"
   ]
  },
  {
   "cell_type": "markdown",
   "id": "a7fc0284",
   "metadata": {},
   "source": [
    "[![Open In Colab](https://colab.research.google.com/assets/colab-badge.svg)](https://colab.research.google.com/github/xiangshiyin/python-for-kids/blob/main/2022-fall/2022-10-29/practice.ipynb)"
   ]
  },
  {
   "cell_type": "markdown",
   "id": "bea518b8",
   "metadata": {},
   "source": [
    "# `for` loop"
   ]
  },
  {
   "cell_type": "markdown",
   "id": "7184e9d5",
   "metadata": {},
   "source": [
    "## Scenario 1: control the loop by the numeric counter value"
   ]
  },
  {
   "cell_type": "markdown",
   "id": "eefde351",
   "metadata": {},
   "source": [
    "```python\n",
    "for i in range(n):\n",
    "    <action>\n",
    "```"
   ]
  },
  {
   "cell_type": "markdown",
   "id": "d89911b4",
   "metadata": {},
   "source": [
    "![image.png](range-function.png)"
   ]
  },
  {
   "cell_type": "markdown",
   "id": "5b3e43a6",
   "metadata": {},
   "source": [
    "### 1.1 Compare `for` and `while` loop"
   ]
  },
  {
   "cell_type": "markdown",
   "id": "b0abb793",
   "metadata": {},
   "source": [
    "* Question: Print all integers that are less than 10 and greater than or equal to 0"
   ]
  },
  {
   "cell_type": "code",
   "execution_count": 1,
   "id": "afe29917",
   "metadata": {},
   "outputs": [],
   "source": [
    "# How do we do it with while loop"
   ]
  },
  {
   "cell_type": "code",
   "execution_count": 2,
   "id": "63847634",
   "metadata": {},
   "outputs": [
    {
     "name": "stdout",
     "output_type": "stream",
     "text": [
      "0\n",
      "1\n",
      "2\n",
      "3\n",
      "4\n",
      "5\n",
      "6\n",
      "7\n",
      "8\n",
      "9\n"
     ]
    }
   ],
   "source": [
    "counter = 0\n",
    "while counter < 10:\n",
    "    print(counter)\n",
    "    counter = counter + 1"
   ]
  },
  {
   "cell_type": "code",
   "execution_count": 3,
   "id": "2041db41",
   "metadata": {},
   "outputs": [],
   "source": [
    "# How do we do it with for loop"
   ]
  },
  {
   "cell_type": "code",
   "execution_count": 4,
   "id": "4efbe446",
   "metadata": {},
   "outputs": [
    {
     "name": "stdout",
     "output_type": "stream",
     "text": [
      "0\n",
      "1\n",
      "2\n",
      "3\n",
      "4\n",
      "5\n",
      "6\n",
      "7\n",
      "8\n",
      "9\n"
     ]
    }
   ],
   "source": [
    "for counter in range(10):\n",
    "    print(counter)"
   ]
  },
  {
   "cell_type": "markdown",
   "id": "7515db6f",
   "metadata": {},
   "source": [
    "#### To summarize\n",
    "* The code structure of `for` loop looks like\n",
    "    ```python\n",
    "    for counter in <a sequence of numbers>:\n",
    "        <Action>\n",
    "    ```\n",
    "\n",
    "* The code structure of `while` loop looks like\n",
    "    ```python\n",
    "    counter = <start_value>\n",
    "    while counter < <upper_limit>:\n",
    "        <Action>\n",
    "        counter = counter + 1\n",
    "    ```"
   ]
  },
  {
   "cell_type": "code",
   "execution_count": null,
   "id": "61371782",
   "metadata": {},
   "outputs": [],
   "source": []
  },
  {
   "cell_type": "markdown",
   "id": "837f3f39",
   "metadata": {},
   "source": [
    "### 1.2 Example: repeat challenge 6 of last lecture\n",
    "* Question: print all integers that are less than 10, but only the even numbers."
   ]
  },
  {
   "cell_type": "code",
   "execution_count": 5,
   "id": "4abe2b0b",
   "metadata": {},
   "outputs": [
    {
     "name": "stdout",
     "output_type": "stream",
     "text": [
      "0\n",
      "2\n",
      "4\n",
      "6\n",
      "8\n"
     ]
    }
   ],
   "source": [
    "for counter in range(10):\n",
    "    if counter % 2 == 0:\n",
    "        print(counter)"
   ]
  },
  {
   "cell_type": "code",
   "execution_count": null,
   "id": "d6c39a14",
   "metadata": {},
   "outputs": [],
   "source": []
  },
  {
   "cell_type": "code",
   "execution_count": null,
   "id": "3fe054a2",
   "metadata": {},
   "outputs": [],
   "source": []
  },
  {
   "cell_type": "markdown",
   "id": "90f5253b",
   "metadata": {},
   "source": [
    "## Scenario 2: traverse the candidate pool\n"
   ]
  },
  {
   "cell_type": "markdown",
   "id": "49b96a30",
   "metadata": {},
   "source": [
    "```python\n",
    "for candidate in pool:\n",
    "    <action>\n",
    "```"
   ]
  },
  {
   "cell_type": "markdown",
   "id": "45cc81b0",
   "metadata": {},
   "source": [
    "### 2.1 Example: print all the characters in a string one at a time\n",
    "* Input: `x = 'abcdefg'`\n",
    "* Output: \n",
    "    ```\n",
    "    a\n",
    "    b\n",
    "    c\n",
    "    d\n",
    "    e\n",
    "    f\n",
    "    g\n",
    "    ```"
   ]
  },
  {
   "cell_type": "code",
   "execution_count": 6,
   "id": "8449828c",
   "metadata": {},
   "outputs": [
    {
     "name": "stdout",
     "output_type": "stream",
     "text": [
      "a\n",
      "b\n",
      "c\n",
      "d\n",
      "e\n",
      "f\n",
      "g\n"
     ]
    }
   ],
   "source": [
    "x = 'abcdefg'\n",
    "for c in x:\n",
    "    print(c)"
   ]
  },
  {
   "cell_type": "code",
   "execution_count": 7,
   "id": "357e2524",
   "metadata": {},
   "outputs": [
    {
     "data": {
      "text/plain": [
       "7"
      ]
     },
     "execution_count": 7,
     "metadata": {},
     "output_type": "execute_result"
    }
   ],
   "source": [
    "len(x)"
   ]
  },
  {
   "cell_type": "code",
   "execution_count": 8,
   "id": "be0be9a2",
   "metadata": {},
   "outputs": [
    {
     "name": "stdout",
     "output_type": "stream",
     "text": [
      "a\n",
      "b\n",
      "c\n",
      "d\n",
      "e\n",
      "f\n",
      "g\n",
      "h\n",
      "i\n",
      "j\n",
      "k\n",
      "l\n",
      "m\n",
      "n\n",
      "o\n",
      "p\n",
      "q\n",
      "r\n",
      "s\n",
      "t\n"
     ]
    }
   ],
   "source": [
    "x = 'abcdefghijklmnopqrst'\n",
    "counter = 0\n",
    "while counter < len(x):\n",
    "    ch = x[counter]\n",
    "    print(ch)\n",
    "    counter = counter + 1"
   ]
  },
  {
   "cell_type": "code",
   "execution_count": 9,
   "id": "e9504dd9",
   "metadata": {},
   "outputs": [
    {
     "data": {
      "text/plain": [
       "20"
      ]
     },
     "execution_count": 9,
     "metadata": {},
     "output_type": "execute_result"
    }
   ],
   "source": [
    "len(x)"
   ]
  },
  {
   "cell_type": "markdown",
   "id": "761393b3",
   "metadata": {},
   "source": [
    "### 2.2 Example: print prefix sums of the sequence 1, 2, 3, ..., 10\n",
    "* Input: a sequence of numbers 1, 2, 3, ..., 10\n",
    "* Output:\n",
    "    ```\n",
    "    1\n",
    "    3\n",
    "    6\n",
    "    ...\n",
    "    55\n",
    "    ```\n",
    "\n",
    "* What is the `prefix sum`??\n",
    "\n",
    "    | Sequence | Prefix sum    |\n",
    "    |----------|---------------|\n",
    "    | 1        | 1             |\n",
    "    | 2        | 1 + 2         |\n",
    "    | 3        | 1 + 2 + 3     |\n",
    "    | 4        | 1 + 2 + 3 + 4 |\n"
   ]
  },
  {
   "cell_type": "code",
   "execution_count": 10,
   "id": "26b8aa4d",
   "metadata": {},
   "outputs": [
    {
     "name": "stdout",
     "output_type": "stream",
     "text": [
      "1\n",
      "3\n",
      "6\n",
      "10\n",
      "15\n",
      "21\n",
      "28\n",
      "36\n",
      "45\n",
      "55\n"
     ]
    }
   ],
   "source": [
    "current_sum = 0\n",
    "\n",
    "for number in range(1,11):\n",
    "    current_sum = current_sum + number\n",
    "    print(current_sum)"
   ]
  },
  {
   "cell_type": "markdown",
   "id": "f1ca93b3",
   "metadata": {},
   "source": []
  },
  {
   "cell_type": "markdown",
   "id": "fd9e8c8b",
   "metadata": {},
   "source": [
    "## 3. Have some fun!!\n",
    "\n",
    "(We need to install an additional python library [here](https://github.com/takluyver/mobilechelonian))\n",
    "* More information can be found at https://github.com/takluyver/mobilechelonian"
   ]
  },
  {
   "cell_type": "markdown",
   "id": "2b0b2bc9",
   "metadata": {},
   "source": [
    "### 3.1 If you are running in your local Jupyter notebook"
   ]
  },
  {
   "cell_type": "code",
   "execution_count": 12,
   "id": "9da1fe03",
   "metadata": {},
   "outputs": [
    {
     "name": "stdout",
     "output_type": "stream",
     "text": [
      "Collecting mobilechelonian\n",
      "  Using cached mobilechelonian-0.5-py2.py3-none-any.whl (94 kB)\n",
      "Requirement already satisfied: ipywidgets>=7.0.0 in /Users/xiangshiyin/anaconda3/lib/python3.9/site-packages (from mobilechelonian) (7.6.5)\n",
      "Requirement already satisfied: IPython in /Users/xiangshiyin/anaconda3/lib/python3.9/site-packages (from mobilechelonian) (7.31.1)\n",
      "Requirement already satisfied: ipykernel>=4.5.1 in /Users/xiangshiyin/anaconda3/lib/python3.9/site-packages (from ipywidgets>=7.0.0->mobilechelonian) (6.15.2)\n",
      "Requirement already satisfied: widgetsnbextension~=3.5.0 in /Users/xiangshiyin/anaconda3/lib/python3.9/site-packages (from ipywidgets>=7.0.0->mobilechelonian) (3.5.2)\n",
      "Requirement already satisfied: ipython-genutils~=0.2.0 in /Users/xiangshiyin/anaconda3/lib/python3.9/site-packages (from ipywidgets>=7.0.0->mobilechelonian) (0.2.0)\n",
      "Requirement already satisfied: traitlets>=4.3.1 in /Users/xiangshiyin/anaconda3/lib/python3.9/site-packages (from ipywidgets>=7.0.0->mobilechelonian) (5.1.1)\n",
      "Requirement already satisfied: jupyterlab-widgets>=1.0.0 in /Users/xiangshiyin/anaconda3/lib/python3.9/site-packages (from ipywidgets>=7.0.0->mobilechelonian) (1.0.0)\n",
      "Requirement already satisfied: nbformat>=4.2.0 in /Users/xiangshiyin/anaconda3/lib/python3.9/site-packages (from ipywidgets>=7.0.0->mobilechelonian) (5.5.0)\n",
      "Requirement already satisfied: matplotlib-inline in /Users/xiangshiyin/anaconda3/lib/python3.9/site-packages (from IPython->mobilechelonian) (0.1.6)\n",
      "Requirement already satisfied: appnope in /Users/xiangshiyin/anaconda3/lib/python3.9/site-packages (from IPython->mobilechelonian) (0.1.2)\n",
      "Requirement already satisfied: prompt-toolkit!=3.0.0,!=3.0.1,<3.1.0,>=2.0.0 in /Users/xiangshiyin/anaconda3/lib/python3.9/site-packages (from IPython->mobilechelonian) (3.0.20)\n",
      "Requirement already satisfied: setuptools>=18.5 in /Users/xiangshiyin/anaconda3/lib/python3.9/site-packages (from IPython->mobilechelonian) (63.4.1)\n",
      "Requirement already satisfied: backcall in /Users/xiangshiyin/anaconda3/lib/python3.9/site-packages (from IPython->mobilechelonian) (0.2.0)\n",
      "Requirement already satisfied: jedi>=0.16 in /Users/xiangshiyin/anaconda3/lib/python3.9/site-packages (from IPython->mobilechelonian) (0.18.1)\n",
      "Requirement already satisfied: pickleshare in /Users/xiangshiyin/anaconda3/lib/python3.9/site-packages (from IPython->mobilechelonian) (0.7.5)\n",
      "Requirement already satisfied: pexpect>4.3 in /Users/xiangshiyin/anaconda3/lib/python3.9/site-packages (from IPython->mobilechelonian) (4.8.0)\n",
      "Requirement already satisfied: decorator in /Users/xiangshiyin/anaconda3/lib/python3.9/site-packages (from IPython->mobilechelonian) (5.1.1)\n",
      "Requirement already satisfied: pygments in /Users/xiangshiyin/anaconda3/lib/python3.9/site-packages (from IPython->mobilechelonian) (2.11.2)\n",
      "Requirement already satisfied: packaging in /Users/xiangshiyin/anaconda3/lib/python3.9/site-packages (from ipykernel>=4.5.1->ipywidgets>=7.0.0->mobilechelonian) (21.3)\n",
      "Requirement already satisfied: tornado>=6.1 in /Users/xiangshiyin/anaconda3/lib/python3.9/site-packages (from ipykernel>=4.5.1->ipywidgets>=7.0.0->mobilechelonian) (6.2)\n",
      "Requirement already satisfied: nest-asyncio in /Users/xiangshiyin/anaconda3/lib/python3.9/site-packages (from ipykernel>=4.5.1->ipywidgets>=7.0.0->mobilechelonian) (1.5.5)\n",
      "Requirement already satisfied: jupyter-client>=6.1.12 in /Users/xiangshiyin/anaconda3/lib/python3.9/site-packages (from ipykernel>=4.5.1->ipywidgets>=7.0.0->mobilechelonian) (7.3.5)\n",
      "Requirement already satisfied: pyzmq>=17 in /Users/xiangshiyin/anaconda3/lib/python3.9/site-packages (from ipykernel>=4.5.1->ipywidgets>=7.0.0->mobilechelonian) (23.2.0)\n",
      "Requirement already satisfied: debugpy>=1.0 in /Users/xiangshiyin/anaconda3/lib/python3.9/site-packages (from ipykernel>=4.5.1->ipywidgets>=7.0.0->mobilechelonian) (1.5.1)\n",
      "Requirement already satisfied: psutil in /Users/xiangshiyin/anaconda3/lib/python3.9/site-packages (from ipykernel>=4.5.1->ipywidgets>=7.0.0->mobilechelonian) (5.9.0)\n",
      "Requirement already satisfied: parso<0.9.0,>=0.8.0 in /Users/xiangshiyin/anaconda3/lib/python3.9/site-packages (from jedi>=0.16->IPython->mobilechelonian) (0.8.3)\n",
      "Requirement already satisfied: fastjsonschema in /Users/xiangshiyin/anaconda3/lib/python3.9/site-packages (from nbformat>=4.2.0->ipywidgets>=7.0.0->mobilechelonian) (2.16.2)\n",
      "Requirement already satisfied: jupyter_core in /Users/xiangshiyin/anaconda3/lib/python3.9/site-packages (from nbformat>=4.2.0->ipywidgets>=7.0.0->mobilechelonian) (4.11.1)\n",
      "Requirement already satisfied: jsonschema>=2.6 in /Users/xiangshiyin/anaconda3/lib/python3.9/site-packages (from nbformat>=4.2.0->ipywidgets>=7.0.0->mobilechelonian) (4.16.0)\n",
      "Requirement already satisfied: ptyprocess>=0.5 in /Users/xiangshiyin/anaconda3/lib/python3.9/site-packages (from pexpect>4.3->IPython->mobilechelonian) (0.7.0)\n",
      "Requirement already satisfied: wcwidth in /Users/xiangshiyin/anaconda3/lib/python3.9/site-packages (from prompt-toolkit!=3.0.0,!=3.0.1,<3.1.0,>=2.0.0->IPython->mobilechelonian) (0.2.5)\n",
      "Requirement already satisfied: notebook>=4.4.1 in /Users/xiangshiyin/anaconda3/lib/python3.9/site-packages (from widgetsnbextension~=3.5.0->ipywidgets>=7.0.0->mobilechelonian) (6.4.12)\n",
      "Requirement already satisfied: pyrsistent!=0.17.0,!=0.17.1,!=0.17.2,>=0.14.0 in /Users/xiangshiyin/anaconda3/lib/python3.9/site-packages (from jsonschema>=2.6->nbformat>=4.2.0->ipywidgets>=7.0.0->mobilechelonian) (0.18.0)\n",
      "Requirement already satisfied: attrs>=17.4.0 in /Users/xiangshiyin/anaconda3/lib/python3.9/site-packages (from jsonschema>=2.6->nbformat>=4.2.0->ipywidgets>=7.0.0->mobilechelonian) (21.4.0)\n",
      "Requirement already satisfied: python-dateutil>=2.8.2 in /Users/xiangshiyin/anaconda3/lib/python3.9/site-packages (from jupyter-client>=6.1.12->ipykernel>=4.5.1->ipywidgets>=7.0.0->mobilechelonian) (2.8.2)\n",
      "Requirement already satisfied: entrypoints in /Users/xiangshiyin/anaconda3/lib/python3.9/site-packages (from jupyter-client>=6.1.12->ipykernel>=4.5.1->ipywidgets>=7.0.0->mobilechelonian) (0.4)\n",
      "Requirement already satisfied: prometheus-client in /Users/xiangshiyin/anaconda3/lib/python3.9/site-packages (from notebook>=4.4.1->widgetsnbextension~=3.5.0->ipywidgets>=7.0.0->mobilechelonian) (0.14.1)\n",
      "Requirement already satisfied: jinja2 in /Users/xiangshiyin/anaconda3/lib/python3.9/site-packages (from notebook>=4.4.1->widgetsnbextension~=3.5.0->ipywidgets>=7.0.0->mobilechelonian) (2.11.3)\n",
      "Requirement already satisfied: nbconvert>=5 in /Users/xiangshiyin/anaconda3/lib/python3.9/site-packages (from notebook>=4.4.1->widgetsnbextension~=3.5.0->ipywidgets>=7.0.0->mobilechelonian) (6.4.4)\n",
      "Requirement already satisfied: terminado>=0.8.3 in /Users/xiangshiyin/anaconda3/lib/python3.9/site-packages (from notebook>=4.4.1->widgetsnbextension~=3.5.0->ipywidgets>=7.0.0->mobilechelonian) (0.13.1)\n",
      "Requirement already satisfied: Send2Trash>=1.8.0 in /Users/xiangshiyin/anaconda3/lib/python3.9/site-packages (from notebook>=4.4.1->widgetsnbextension~=3.5.0->ipywidgets>=7.0.0->mobilechelonian) (1.8.0)\n",
      "Requirement already satisfied: argon2-cffi in /Users/xiangshiyin/anaconda3/lib/python3.9/site-packages (from notebook>=4.4.1->widgetsnbextension~=3.5.0->ipywidgets>=7.0.0->mobilechelonian) (21.3.0)\n",
      "Requirement already satisfied: pyparsing!=3.0.5,>=2.0.2 in /Users/xiangshiyin/anaconda3/lib/python3.9/site-packages (from packaging->ipykernel>=4.5.1->ipywidgets>=7.0.0->mobilechelonian) (3.0.9)\n",
      "Requirement already satisfied: jupyterlab-pygments in /Users/xiangshiyin/anaconda3/lib/python3.9/site-packages (from nbconvert>=5->notebook>=4.4.1->widgetsnbextension~=3.5.0->ipywidgets>=7.0.0->mobilechelonian) (0.1.2)\n",
      "Requirement already satisfied: pandocfilters>=1.4.1 in /Users/xiangshiyin/anaconda3/lib/python3.9/site-packages (from nbconvert>=5->notebook>=4.4.1->widgetsnbextension~=3.5.0->ipywidgets>=7.0.0->mobilechelonian) (1.5.0)\n",
      "Requirement already satisfied: beautifulsoup4 in /Users/xiangshiyin/anaconda3/lib/python3.9/site-packages (from nbconvert>=5->notebook>=4.4.1->widgetsnbextension~=3.5.0->ipywidgets>=7.0.0->mobilechelonian) (4.11.1)\n",
      "Requirement already satisfied: nbclient<0.6.0,>=0.5.0 in /Users/xiangshiyin/anaconda3/lib/python3.9/site-packages (from nbconvert>=5->notebook>=4.4.1->widgetsnbextension~=3.5.0->ipywidgets>=7.0.0->mobilechelonian) (0.5.13)\n",
      "Requirement already satisfied: defusedxml in /Users/xiangshiyin/anaconda3/lib/python3.9/site-packages (from nbconvert>=5->notebook>=4.4.1->widgetsnbextension~=3.5.0->ipywidgets>=7.0.0->mobilechelonian) (0.7.1)\n",
      "Requirement already satisfied: bleach in /Users/xiangshiyin/anaconda3/lib/python3.9/site-packages (from nbconvert>=5->notebook>=4.4.1->widgetsnbextension~=3.5.0->ipywidgets>=7.0.0->mobilechelonian) (4.1.0)\n",
      "Requirement already satisfied: testpath in /Users/xiangshiyin/anaconda3/lib/python3.9/site-packages (from nbconvert>=5->notebook>=4.4.1->widgetsnbextension~=3.5.0->ipywidgets>=7.0.0->mobilechelonian) (0.6.0)\n",
      "Requirement already satisfied: mistune<2,>=0.8.1 in /Users/xiangshiyin/anaconda3/lib/python3.9/site-packages (from nbconvert>=5->notebook>=4.4.1->widgetsnbextension~=3.5.0->ipywidgets>=7.0.0->mobilechelonian) (0.8.4)\n",
      "Requirement already satisfied: MarkupSafe>=0.23 in /Users/xiangshiyin/anaconda3/lib/python3.9/site-packages (from jinja2->notebook>=4.4.1->widgetsnbextension~=3.5.0->ipywidgets>=7.0.0->mobilechelonian) (2.0.1)\n",
      "Requirement already satisfied: six>=1.5 in /Users/xiangshiyin/anaconda3/lib/python3.9/site-packages (from python-dateutil>=2.8.2->jupyter-client>=6.1.12->ipykernel>=4.5.1->ipywidgets>=7.0.0->mobilechelonian) (1.16.0)\n",
      "Requirement already satisfied: argon2-cffi-bindings in /Users/xiangshiyin/anaconda3/lib/python3.9/site-packages (from argon2-cffi->notebook>=4.4.1->widgetsnbextension~=3.5.0->ipywidgets>=7.0.0->mobilechelonian) (21.2.0)\n",
      "Requirement already satisfied: cffi>=1.0.1 in /Users/xiangshiyin/anaconda3/lib/python3.9/site-packages (from argon2-cffi-bindings->argon2-cffi->notebook>=4.4.1->widgetsnbextension~=3.5.0->ipywidgets>=7.0.0->mobilechelonian) (1.15.1)\n",
      "Requirement already satisfied: soupsieve>1.2 in /Users/xiangshiyin/anaconda3/lib/python3.9/site-packages (from beautifulsoup4->nbconvert>=5->notebook>=4.4.1->widgetsnbextension~=3.5.0->ipywidgets>=7.0.0->mobilechelonian) (2.3.1)\n",
      "Requirement already satisfied: webencodings in /Users/xiangshiyin/anaconda3/lib/python3.9/site-packages (from bleach->nbconvert>=5->notebook>=4.4.1->widgetsnbextension~=3.5.0->ipywidgets>=7.0.0->mobilechelonian) (0.5.1)\n",
      "Requirement already satisfied: pycparser in /Users/xiangshiyin/anaconda3/lib/python3.9/site-packages (from cffi>=1.0.1->argon2-cffi-bindings->argon2-cffi->notebook>=4.4.1->widgetsnbextension~=3.5.0->ipywidgets>=7.0.0->mobilechelonian) (2.21)\n",
      "Installing collected packages: mobilechelonian\n",
      "Successfully installed mobilechelonian-0.5\n",
      "Requirement already satisfied: notebook in /Users/xiangshiyin/anaconda3/lib/python3.9/site-packages (6.4.12)\n",
      "Requirement already satisfied: traitlets>=4.2.1 in /Users/xiangshiyin/anaconda3/lib/python3.9/site-packages (from notebook) (5.1.1)\n",
      "Requirement already satisfied: nest-asyncio>=1.5 in /Users/xiangshiyin/anaconda3/lib/python3.9/site-packages (from notebook) (1.5.5)\n",
      "Requirement already satisfied: terminado>=0.8.3 in /Users/xiangshiyin/anaconda3/lib/python3.9/site-packages (from notebook) (0.13.1)\n",
      "Requirement already satisfied: jupyter-client>=5.3.4 in /Users/xiangshiyin/anaconda3/lib/python3.9/site-packages (from notebook) (7.3.5)\n",
      "Requirement already satisfied: tornado>=6.1 in /Users/xiangshiyin/anaconda3/lib/python3.9/site-packages (from notebook) (6.2)\n",
      "Requirement already satisfied: ipykernel in /Users/xiangshiyin/anaconda3/lib/python3.9/site-packages (from notebook) (6.15.2)\n",
      "Requirement already satisfied: argon2-cffi in /Users/xiangshiyin/anaconda3/lib/python3.9/site-packages (from notebook) (21.3.0)\n",
      "Requirement already satisfied: ipython-genutils in /Users/xiangshiyin/anaconda3/lib/python3.9/site-packages (from notebook) (0.2.0)\n",
      "Requirement already satisfied: prometheus-client in /Users/xiangshiyin/anaconda3/lib/python3.9/site-packages (from notebook) (0.14.1)\n",
      "Requirement already satisfied: nbformat in /Users/xiangshiyin/anaconda3/lib/python3.9/site-packages (from notebook) (5.5.0)\n",
      "Requirement already satisfied: jupyter-core>=4.6.1 in /Users/xiangshiyin/anaconda3/lib/python3.9/site-packages (from notebook) (4.11.1)\n",
      "Requirement already satisfied: nbconvert>=5 in /Users/xiangshiyin/anaconda3/lib/python3.9/site-packages (from notebook) (6.4.4)\n",
      "Requirement already satisfied: pyzmq>=17 in /Users/xiangshiyin/anaconda3/lib/python3.9/site-packages (from notebook) (23.2.0)\n",
      "Requirement already satisfied: jinja2 in /Users/xiangshiyin/anaconda3/lib/python3.9/site-packages (from notebook) (2.11.3)\n",
      "Requirement already satisfied: Send2Trash>=1.8.0 in /Users/xiangshiyin/anaconda3/lib/python3.9/site-packages (from notebook) (1.8.0)\n",
      "Requirement already satisfied: entrypoints in /Users/xiangshiyin/anaconda3/lib/python3.9/site-packages (from jupyter-client>=5.3.4->notebook) (0.4)\n",
      "Requirement already satisfied: python-dateutil>=2.8.2 in /Users/xiangshiyin/anaconda3/lib/python3.9/site-packages (from jupyter-client>=5.3.4->notebook) (2.8.2)\n",
      "Requirement already satisfied: defusedxml in /Users/xiangshiyin/anaconda3/lib/python3.9/site-packages (from nbconvert>=5->notebook) (0.7.1)\n",
      "Requirement already satisfied: pandocfilters>=1.4.1 in /Users/xiangshiyin/anaconda3/lib/python3.9/site-packages (from nbconvert>=5->notebook) (1.5.0)\n",
      "Requirement already satisfied: pygments>=2.4.1 in /Users/xiangshiyin/anaconda3/lib/python3.9/site-packages (from nbconvert>=5->notebook) (2.11.2)\n",
      "Requirement already satisfied: testpath in /Users/xiangshiyin/anaconda3/lib/python3.9/site-packages (from nbconvert>=5->notebook) (0.6.0)\n",
      "Requirement already satisfied: mistune<2,>=0.8.1 in /Users/xiangshiyin/anaconda3/lib/python3.9/site-packages (from nbconvert>=5->notebook) (0.8.4)\n",
      "Requirement already satisfied: beautifulsoup4 in /Users/xiangshiyin/anaconda3/lib/python3.9/site-packages (from nbconvert>=5->notebook) (4.11.1)\n",
      "Requirement already satisfied: jupyterlab-pygments in /Users/xiangshiyin/anaconda3/lib/python3.9/site-packages (from nbconvert>=5->notebook) (0.1.2)\n",
      "Requirement already satisfied: nbclient<0.6.0,>=0.5.0 in /Users/xiangshiyin/anaconda3/lib/python3.9/site-packages (from nbconvert>=5->notebook) (0.5.13)\n",
      "Requirement already satisfied: bleach in /Users/xiangshiyin/anaconda3/lib/python3.9/site-packages (from nbconvert>=5->notebook) (4.1.0)\n",
      "Requirement already satisfied: MarkupSafe>=0.23 in /Users/xiangshiyin/anaconda3/lib/python3.9/site-packages (from jinja2->notebook) (2.0.1)\n",
      "Requirement already satisfied: fastjsonschema in /Users/xiangshiyin/anaconda3/lib/python3.9/site-packages (from nbformat->notebook) (2.16.2)\n",
      "Requirement already satisfied: jsonschema>=2.6 in /Users/xiangshiyin/anaconda3/lib/python3.9/site-packages (from nbformat->notebook) (4.16.0)\n",
      "Requirement already satisfied: ptyprocess in /Users/xiangshiyin/anaconda3/lib/python3.9/site-packages (from terminado>=0.8.3->notebook) (0.7.0)\n",
      "Requirement already satisfied: argon2-cffi-bindings in /Users/xiangshiyin/anaconda3/lib/python3.9/site-packages (from argon2-cffi->notebook) (21.2.0)\n",
      "Requirement already satisfied: psutil in /Users/xiangshiyin/anaconda3/lib/python3.9/site-packages (from ipykernel->notebook) (5.9.0)\n",
      "Requirement already satisfied: packaging in /Users/xiangshiyin/anaconda3/lib/python3.9/site-packages (from ipykernel->notebook) (21.3)\n",
      "Requirement already satisfied: debugpy>=1.0 in /Users/xiangshiyin/anaconda3/lib/python3.9/site-packages (from ipykernel->notebook) (1.5.1)\n",
      "Requirement already satisfied: ipython>=7.23.1 in /Users/xiangshiyin/anaconda3/lib/python3.9/site-packages (from ipykernel->notebook) (7.31.1)\n",
      "Requirement already satisfied: appnope in /Users/xiangshiyin/anaconda3/lib/python3.9/site-packages (from ipykernel->notebook) (0.1.2)\n",
      "Requirement already satisfied: matplotlib-inline>=0.1 in /Users/xiangshiyin/anaconda3/lib/python3.9/site-packages (from ipykernel->notebook) (0.1.6)\n",
      "Requirement already satisfied: setuptools>=18.5 in /Users/xiangshiyin/anaconda3/lib/python3.9/site-packages (from ipython>=7.23.1->ipykernel->notebook) (63.4.1)\n",
      "Requirement already satisfied: jedi>=0.16 in /Users/xiangshiyin/anaconda3/lib/python3.9/site-packages (from ipython>=7.23.1->ipykernel->notebook) (0.18.1)\n",
      "Requirement already satisfied: pickleshare in /Users/xiangshiyin/anaconda3/lib/python3.9/site-packages (from ipython>=7.23.1->ipykernel->notebook) (0.7.5)\n",
      "Requirement already satisfied: prompt-toolkit!=3.0.0,!=3.0.1,<3.1.0,>=2.0.0 in /Users/xiangshiyin/anaconda3/lib/python3.9/site-packages (from ipython>=7.23.1->ipykernel->notebook) (3.0.20)\n",
      "Requirement already satisfied: backcall in /Users/xiangshiyin/anaconda3/lib/python3.9/site-packages (from ipython>=7.23.1->ipykernel->notebook) (0.2.0)\n",
      "Requirement already satisfied: decorator in /Users/xiangshiyin/anaconda3/lib/python3.9/site-packages (from ipython>=7.23.1->ipykernel->notebook) (5.1.1)\n",
      "Requirement already satisfied: pexpect>4.3 in /Users/xiangshiyin/anaconda3/lib/python3.9/site-packages (from ipython>=7.23.1->ipykernel->notebook) (4.8.0)\n",
      "Requirement already satisfied: pyrsistent!=0.17.0,!=0.17.1,!=0.17.2,>=0.14.0 in /Users/xiangshiyin/anaconda3/lib/python3.9/site-packages (from jsonschema>=2.6->nbformat->notebook) (0.18.0)\n",
      "Requirement already satisfied: attrs>=17.4.0 in /Users/xiangshiyin/anaconda3/lib/python3.9/site-packages (from jsonschema>=2.6->nbformat->notebook) (21.4.0)\n",
      "Requirement already satisfied: six>=1.5 in /Users/xiangshiyin/anaconda3/lib/python3.9/site-packages (from python-dateutil>=2.8.2->jupyter-client>=5.3.4->notebook) (1.16.0)\n",
      "Requirement already satisfied: cffi>=1.0.1 in /Users/xiangshiyin/anaconda3/lib/python3.9/site-packages (from argon2-cffi-bindings->argon2-cffi->notebook) (1.15.1)\n",
      "Requirement already satisfied: soupsieve>1.2 in /Users/xiangshiyin/anaconda3/lib/python3.9/site-packages (from beautifulsoup4->nbconvert>=5->notebook) (2.3.1)\n",
      "Requirement already satisfied: webencodings in /Users/xiangshiyin/anaconda3/lib/python3.9/site-packages (from bleach->nbconvert>=5->notebook) (0.5.1)\n",
      "Requirement already satisfied: pyparsing!=3.0.5,>=2.0.2 in /Users/xiangshiyin/anaconda3/lib/python3.9/site-packages (from packaging->ipykernel->notebook) (3.0.9)\n",
      "Requirement already satisfied: pycparser in /Users/xiangshiyin/anaconda3/lib/python3.9/site-packages (from cffi>=1.0.1->argon2-cffi-bindings->argon2-cffi->notebook) (2.21)\n",
      "Requirement already satisfied: parso<0.9.0,>=0.8.0 in /Users/xiangshiyin/anaconda3/lib/python3.9/site-packages (from jedi>=0.16->ipython>=7.23.1->ipykernel->notebook) (0.8.3)\n",
      "Requirement already satisfied: wcwidth in /Users/xiangshiyin/anaconda3/lib/python3.9/site-packages (from prompt-toolkit!=3.0.0,!=3.0.1,<3.1.0,>=2.0.0->ipython>=7.23.1->ipykernel->notebook) (0.2.5)\n"
     ]
    }
   ],
   "source": [
    "%%sh\n",
    "\n",
    "pip install mobilechelonian\n",
    "pip install notebook"
   ]
  },
  {
   "cell_type": "code",
   "execution_count": 13,
   "id": "be8937df",
   "metadata": {},
   "outputs": [
    {
     "data": {
      "application/vnd.jupyter.widget-view+json": {
       "model_id": "7e3bf0bc133b41e695e18a70c198a87d",
       "version_major": 2,
       "version_minor": 0
      },
      "text/plain": [
       "Turtle()"
      ]
     },
     "metadata": {},
     "output_type": "display_data"
    }
   ],
   "source": [
    "from mobilechelonian import Turtle\n",
    "t = Turtle()\n",
    "t.speed(5)\n",
    "colours=[\"red\",\"blue\",\"yellow\",\"brown\",\"black\",\"purple\",\"green\"]\n",
    "\n",
    "t.penup(); t.left(90); t.forward(200);t.right(90);t.pendown()\n",
    "for i in range (0,18):\n",
    "    t.pencolor(colours[i%7])\n",
    "    t.right(20)\n",
    "    t.forward(50)\n",
    "\n",
    "t.right(180)\n",
    "t.home()"
   ]
  },
  {
   "cell_type": "code",
   "execution_count": 14,
   "id": "766a4e69",
   "metadata": {},
   "outputs": [
    {
     "data": {
      "application/vnd.jupyter.widget-view+json": {
       "model_id": "9243e8ef96924efba62646f412ae38f6",
       "version_major": 2,
       "version_minor": 0
      },
      "text/plain": [
       "Turtle()"
      ]
     },
     "metadata": {},
     "output_type": "display_data"
    }
   ],
   "source": [
    "t = Turtle()\n",
    "\n",
    "##############\n",
    "for i in range(4):\n",
    "    t.forward(100)\n",
    "    t.right(90)\n",
    "##############\n"
   ]
  },
  {
   "cell_type": "code",
   "execution_count": null,
   "id": "6c685a7e",
   "metadata": {},
   "outputs": [],
   "source": [
    "t = Turtle()\n",
    "\n",
    "t.left(180)\n",
    "##############\n",
    "for i in range(3):\n",
    "    t.right(120)\n",
    "    t.forward(100)\n",
    "##############"
   ]
  },
  {
   "cell_type": "markdown",
   "id": "f258d8e0",
   "metadata": {},
   "source": [
    "#### About the functions/tools used here"
   ]
  },
  {
   "cell_type": "code",
   "execution_count": 10,
   "id": "66b7e8c2",
   "metadata": {},
   "outputs": [
    {
     "name": "stdout",
     "output_type": "stream",
     "text": [
      "Help on method forward in module mobilechelonian:\n",
      "\n",
      "forward(num) method of mobilechelonian.Turtle instance\n",
      "    Move the Turtle forward by num units.\n",
      "    \n",
      "    Example:\n",
      "    \n",
      "        t.forward(100)\n",
      "\n"
     ]
    }
   ],
   "source": [
    "help(t.forward)"
   ]
  },
  {
   "cell_type": "code",
   "execution_count": 11,
   "id": "5153dbcf",
   "metadata": {},
   "outputs": [
    {
     "name": "stdout",
     "output_type": "stream",
     "text": [
      "Help on method right in module mobilechelonian:\n",
      "\n",
      "right(num) method of mobilechelonian.Turtle instance\n",
      "    Turn the Turtle num degrees to the right.\n",
      "    \n",
      "    Example::\n",
      "    \n",
      "        t.right(90)\n",
      "\n"
     ]
    }
   ],
   "source": [
    "help(t.right)"
   ]
  },
  {
   "cell_type": "code",
   "execution_count": 13,
   "id": "4951837f",
   "metadata": {},
   "outputs": [
    {
     "name": "stdout",
     "output_type": "stream",
     "text": [
      "Help on method penup in module mobilechelonian:\n",
      "\n",
      "penup() method of mobilechelonian.Turtle instance\n",
      "    Lift up the pen.\n",
      "    \n",
      "    Example::\n",
      "    \n",
      "        t.penup()\n",
      "\n"
     ]
    }
   ],
   "source": [
    "help(t.penup)"
   ]
  },
  {
   "cell_type": "code",
   "execution_count": 14,
   "id": "f8bec9a7",
   "metadata": {},
   "outputs": [
    {
     "name": "stdout",
     "output_type": "stream",
     "text": [
      "Help on method pendown in module mobilechelonian:\n",
      "\n",
      "pendown() method of mobilechelonian.Turtle instance\n",
      "    Put down the pen. Turtles start with their pen down.\n",
      "    \n",
      "    Example::\n",
      "    \n",
      "        t.pendown()\n",
      "\n"
     ]
    }
   ],
   "source": [
    "help(t.pendown)"
   ]
  },
  {
   "cell_type": "markdown",
   "id": "80c4e2b2",
   "metadata": {},
   "source": [
    "### 3.2 If you are running from Google Colab (by clicking the little button in the notebook on Github)"
   ]
  },
  {
   "cell_type": "code",
   "execution_count": null,
   "id": "16e287a2",
   "metadata": {},
   "outputs": [],
   "source": [
    "%%sh\n",
    "\n",
    "pip3 install ColabTurtle"
   ]
  },
  {
   "cell_type": "code",
   "execution_count": null,
   "id": "955565fd",
   "metadata": {},
   "outputs": [],
   "source": [
    "import ColabTurtle.Turtle as t"
   ]
  },
  {
   "cell_type": "code",
   "execution_count": null,
   "id": "592ed45a",
   "metadata": {},
   "outputs": [],
   "source": [
    "t.initializeTurtle(initial_speed=5)\n",
    "colours=[\"red\",\"blue\",\"yellow\",\"brown\",\"black\",\"purple\",\"green\"]\n",
    "\n",
    "t.penup(); t.left(90); t.forward(200);t.right(90);t.pendown()\n",
    "for i in range (0,18):\n",
    "    t.pencolor(colours[i%7])\n",
    "    t.right(20)\n",
    "    t.forward(50)\n",
    "\n",
    "t.right(180)"
   ]
  },
  {
   "cell_type": "code",
   "execution_count": null,
   "id": "031ff705",
   "metadata": {},
   "outputs": [],
   "source": [
    "t.initializeTurtle(initial_speed=5)\n",
    "\n",
    "##############\n",
    "for i in range(4):\n",
    "    t.forward(100)\n",
    "    t.right(90)\n",
    "##############"
   ]
  },
  {
   "cell_type": "code",
   "execution_count": null,
   "id": "ed5d1345",
   "metadata": {},
   "outputs": [],
   "source": [
    "t.initializeTurtle(initial_speed=5)\n",
    "\n",
    "t.left(180)\n",
    "##############\n",
    "for i in range(3):\n",
    "    t.right(120)\n",
    "    t.forward(100)\n",
    "##############"
   ]
  },
  {
   "cell_type": "markdown",
   "id": "65859995",
   "metadata": {},
   "source": [
    "## Extra exercises"
   ]
  },
  {
   "cell_type": "markdown",
   "id": "3c6aa206",
   "metadata": {},
   "source": [
    "### 4.1 Example: write a program to print the following pattern on the screen\n",
    "\n",
    "```\n",
    "a\n",
    "aa\n",
    "aaa\n",
    "aaaa\n",
    "aaaaa\n",
    "aaaaaa\n",
    "aaaaaaa\n",
    "aaaaaaaa\n",
    "aaaaaaaaa\n",
    "aaaaaaaaaa\n",
    "```"
   ]
  },
  {
   "cell_type": "code",
   "execution_count": null,
   "id": "5cbd3562",
   "metadata": {},
   "outputs": [],
   "source": []
  },
  {
   "cell_type": "markdown",
   "id": "68ce7cc2",
   "metadata": {},
   "source": [
    "### 4.2 Example: write a program to print the following pattern on the screen\n",
    "\n",
    "```\n",
    "a aaaaaaaaa\n",
    "aa aaaaaaaa\n",
    "aaa aaaaaaa\n",
    "aaaa aaaaaa\n",
    "aaaaa aaaaa\n",
    "aaaaaa aaaa\n",
    "aaaaaaa aaa\n",
    "aaaaaaaa aa\n",
    "aaaaaaaaa a\n",
    "```"
   ]
  },
  {
   "cell_type": "code",
   "execution_count": null,
   "id": "e72579fe",
   "metadata": {},
   "outputs": [],
   "source": []
  }
 ],
 "metadata": {
  "kernelspec": {
   "display_name": "Python 3 (ipykernel)",
   "language": "python",
   "name": "python3"
  },
  "language_info": {
   "codemirror_mode": {
    "name": "ipython",
    "version": 3
   },
   "file_extension": ".py",
   "mimetype": "text/x-python",
   "name": "python",
   "nbconvert_exporter": "python",
   "pygments_lexer": "ipython3",
   "version": "3.9.13"
  },
  "vscode": {
   "interpreter": {
    "hash": "902732434834798e7384411e7c2c2287974a7c3f20cb2f00b14f2eb655ccae14"
   }
  }
 },
 "nbformat": 4,
 "nbformat_minor": 5
}
