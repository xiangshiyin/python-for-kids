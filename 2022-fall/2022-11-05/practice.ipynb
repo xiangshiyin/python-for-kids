{
 "cells": [
  {
   "cell_type": "markdown",
   "id": "d9279b62",
   "metadata": {},
   "source": [
    "# Coding exercises from the previous class"
   ]
  },
  {
   "cell_type": "markdown",
   "id": "a7fc0284",
   "metadata": {},
   "source": [
    "[![Open In Colab](https://colab.research.google.com/assets/colab-badge.svg)](https://colab.research.google.com/github/xiangshiyin/python-for-kids/blob/main/2022-fall/2022-11-05/practice.ipynb)"
   ]
  },
  {
   "cell_type": "markdown",
   "id": "e72579fe",
   "metadata": {},
   "source": [
    "# 1. Non-primitive Data Types\n",
    "\n",
    "## Common data types include:\n",
    "* list\n",
    "* tuple\n",
    "* set\n",
    "* dictionary\n",
    "\n",
    "## Official documentation: https://docs.python.org/3/tutorial/datastructures.html#"
   ]
  },
  {
   "cell_type": "markdown",
   "id": "8748b0ed",
   "metadata": {},
   "source": [
    "## 1.1 List"
   ]
  },
  {
   "cell_type": "markdown",
   "id": "8127f72a",
   "metadata": {},
   "source": [
    "### 1.1.1 create a list"
   ]
  },
  {
   "cell_type": "code",
   "execution_count": 1,
   "id": "a93485c9",
   "metadata": {},
   "outputs": [],
   "source": [
    "x = [1,2,3,4]"
   ]
  },
  {
   "cell_type": "markdown",
   "id": "014077a8",
   "metadata": {},
   "source": [
    "### 1.1.2 Common list operations"
   ]
  },
  {
   "cell_type": "code",
   "execution_count": null,
   "id": "d2b87851",
   "metadata": {},
   "outputs": [],
   "source": [
    "## check the length of the list\n"
   ]
  },
  {
   "cell_type": "code",
   "execution_count": null,
   "id": "63f8da04",
   "metadata": {},
   "outputs": [],
   "source": [
    "## add a new element \n"
   ]
  },
  {
   "cell_type": "code",
   "execution_count": null,
   "id": "ae7aba4c",
   "metadata": {},
   "outputs": [],
   "source": [
    "## modify an element in the list\n"
   ]
  },
  {
   "cell_type": "code",
   "execution_count": null,
   "id": "005069fd",
   "metadata": {},
   "outputs": [],
   "source": [
    "## concatenate two lists\n"
   ]
  },
  {
   "cell_type": "code",
   "execution_count": null,
   "id": "35213d4c",
   "metadata": {},
   "outputs": [],
   "source": [
    "## index the list"
   ]
  },
  {
   "cell_type": "code",
   "execution_count": null,
   "id": "4c5a0d33",
   "metadata": {},
   "outputs": [],
   "source": [
    "## slice the list"
   ]
  },
  {
   "cell_type": "markdown",
   "id": "b5408d3f",
   "metadata": {},
   "source": [
    "## 1.2 Tuple"
   ]
  },
  {
   "cell_type": "code",
   "execution_count": null,
   "id": "525e0a97",
   "metadata": {},
   "outputs": [],
   "source": [
    "## create a tuple\n"
   ]
  },
  {
   "cell_type": "code",
   "execution_count": null,
   "id": "393ee0c5",
   "metadata": {},
   "outputs": [],
   "source": []
  },
  {
   "cell_type": "code",
   "execution_count": null,
   "id": "d8607652",
   "metadata": {},
   "outputs": [],
   "source": [
    "## can we change the element in a tuple??"
   ]
  },
  {
   "cell_type": "code",
   "execution_count": null,
   "id": "2a87ed87",
   "metadata": {},
   "outputs": [],
   "source": []
  },
  {
   "cell_type": "markdown",
   "id": "ef4dd3df",
   "metadata": {},
   "source": [
    "## 1.3 Set"
   ]
  },
  {
   "cell_type": "code",
   "execution_count": null,
   "id": "48805997",
   "metadata": {},
   "outputs": [],
   "source": [
    "## create a set: {} and set()"
   ]
  },
  {
   "cell_type": "code",
   "execution_count": null,
   "id": "22a2c3dd",
   "metadata": {},
   "outputs": [],
   "source": [
    "## create an empty set and add elements to it"
   ]
  },
  {
   "cell_type": "code",
   "execution_count": null,
   "id": "32bb9179",
   "metadata": {},
   "outputs": [],
   "source": [
    "## set operations: union, intersection, difference\n",
    "x = {1,2,3}\n",
    "y = {3,4,5}"
   ]
  },
  {
   "cell_type": "code",
   "execution_count": null,
   "id": "6f6038c7",
   "metadata": {},
   "outputs": [],
   "source": [
    "## how we combine 2 sets??"
   ]
  },
  {
   "cell_type": "code",
   "execution_count": null,
   "id": "7012aaa8",
   "metadata": {},
   "outputs": [],
   "source": []
  }
 ],
 "metadata": {
  "kernelspec": {
   "display_name": "Python 3 (ipykernel)",
   "language": "python",
   "name": "python3"
  },
  "language_info": {
   "codemirror_mode": {
    "name": "ipython",
    "version": 3
   },
   "file_extension": ".py",
   "mimetype": "text/x-python",
   "name": "python",
   "nbconvert_exporter": "python",
   "pygments_lexer": "ipython3",
   "version": "3.9.13"
  },
  "vscode": {
   "interpreter": {
    "hash": "902732434834798e7384411e7c2c2287974a7c3f20cb2f00b14f2eb655ccae14"
   }
  }
 },
 "nbformat": 4,
 "nbformat_minor": 5
}
