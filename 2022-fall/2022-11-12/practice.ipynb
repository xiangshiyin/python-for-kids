{
 "cells": [
  {
   "cell_type": "markdown",
   "id": "d9279b62",
   "metadata": {},
   "source": [
    "# Coding exercises from the previous class"
   ]
  },
  {
   "cell_type": "markdown",
   "id": "a7fc0284",
   "metadata": {},
   "source": [
    "[![Open In Colab](https://colab.research.google.com/assets/colab-badge.svg)](https://colab.research.google.com/github/xiangshiyin/python-for-kids/blob/main/2022-fall/2022-11-12/practice.ipynb)"
   ]
  },
  {
   "cell_type": "markdown",
   "id": "e72579fe",
   "metadata": {},
   "source": [
    "# 1. Non-primitive Data Types\n",
    "\n",
    "## Common data types include:\n",
    "* list\n",
    "* tuple\n",
    "* set\n",
    "* dictionary\n",
    "\n",
    "## Official documentation: https://docs.python.org/3/tutorial/datastructures.html#"
   ]
  },
  {
   "cell_type": "markdown",
   "id": "8748b0ed",
   "metadata": {},
   "source": [
    "## 1.1 List"
   ]
  },
  {
   "cell_type": "markdown",
   "id": "8127f72a",
   "metadata": {},
   "source": [
    "### 1.1.1 create a list"
   ]
  },
  {
   "cell_type": "code",
   "execution_count": 1,
   "id": "a93485c9",
   "metadata": {},
   "outputs": [],
   "source": [
    "x = [1,2,3,4]"
   ]
  },
  {
   "cell_type": "code",
   "execution_count": 2,
   "id": "a443fbad",
   "metadata": {},
   "outputs": [
    {
     "data": {
      "text/plain": [
       "[1, 2, 3, 4]"
      ]
     },
     "execution_count": 2,
     "metadata": {},
     "output_type": "execute_result"
    }
   ],
   "source": [
    "x"
   ]
  },
  {
   "cell_type": "markdown",
   "id": "014077a8",
   "metadata": {},
   "source": [
    "### 1.1.2 Common list operations"
   ]
  },
  {
   "cell_type": "code",
   "execution_count": 3,
   "id": "d2b87851",
   "metadata": {},
   "outputs": [
    {
     "data": {
      "text/plain": [
       "4"
      ]
     },
     "execution_count": 3,
     "metadata": {},
     "output_type": "execute_result"
    }
   ],
   "source": [
    "## check the length of the list\n",
    "len(x)"
   ]
  },
  {
   "cell_type": "code",
   "execution_count": 4,
   "id": "63f8da04",
   "metadata": {},
   "outputs": [
    {
     "data": {
      "text/plain": [
       "[1, 2, 3, 4, 5]"
      ]
     },
     "execution_count": 4,
     "metadata": {},
     "output_type": "execute_result"
    }
   ],
   "source": [
    "## add a new element \n",
    "x.append(5)\n",
    "x"
   ]
  },
  {
   "cell_type": "code",
   "execution_count": 5,
   "id": "05d8a634",
   "metadata": {},
   "outputs": [
    {
     "data": {
      "text/plain": [
       "4"
      ]
     },
     "execution_count": 5,
     "metadata": {},
     "output_type": "execute_result"
    }
   ],
   "source": [
    "x[3]"
   ]
  },
  {
   "cell_type": "code",
   "execution_count": 6,
   "id": "ae7aba4c",
   "metadata": {},
   "outputs": [
    {
     "data": {
      "text/plain": [
       "[1, 2, 3, 100, 5]"
      ]
     },
     "execution_count": 6,
     "metadata": {},
     "output_type": "execute_result"
    }
   ],
   "source": [
    "## modify an element in the list\n",
    "x[3] = 100\n",
    "x"
   ]
  },
  {
   "cell_type": "code",
   "execution_count": 7,
   "id": "005069fd",
   "metadata": {},
   "outputs": [
    {
     "data": {
      "text/plain": [
       "[1, 2, 3, 100, 5, 6, 7, 8]"
      ]
     },
     "execution_count": 7,
     "metadata": {},
     "output_type": "execute_result"
    }
   ],
   "source": [
    "## concatenate two lists\n",
    "y = [6,7,8]\n",
    "x.extend(y)\n",
    "x"
   ]
  },
  {
   "cell_type": "code",
   "execution_count": 8,
   "id": "35213d4c",
   "metadata": {},
   "outputs": [
    {
     "data": {
      "text/plain": [
       "2"
      ]
     },
     "execution_count": 8,
     "metadata": {},
     "output_type": "execute_result"
    }
   ],
   "source": [
    "## index the list\n",
    "x[1]"
   ]
  },
  {
   "cell_type": "code",
   "execution_count": 9,
   "id": "4c5a0d33",
   "metadata": {},
   "outputs": [
    {
     "data": {
      "text/plain": [
       "[2, 3, 100]"
      ]
     },
     "execution_count": 9,
     "metadata": {},
     "output_type": "execute_result"
    }
   ],
   "source": [
    "## slice the list\n",
    "x[1:4]"
   ]
  },
  {
   "cell_type": "code",
   "execution_count": 10,
   "id": "806c53e4",
   "metadata": {},
   "outputs": [
    {
     "data": {
      "text/plain": [
       "[1, 2, 3, 100, 5, 6, 7, 8]"
      ]
     },
     "execution_count": 10,
     "metadata": {},
     "output_type": "execute_result"
    }
   ],
   "source": [
    "## remove an element\n",
    "x"
   ]
  },
  {
   "cell_type": "code",
   "execution_count": 11,
   "id": "b46c2abd",
   "metadata": {},
   "outputs": [],
   "source": [
    "del x[3] # by positional index"
   ]
  },
  {
   "cell_type": "code",
   "execution_count": 12,
   "id": "5196d25e",
   "metadata": {},
   "outputs": [
    {
     "data": {
      "text/plain": [
       "[1, 2, 3, 5, 6, 7, 8]"
      ]
     },
     "execution_count": 12,
     "metadata": {},
     "output_type": "execute_result"
    }
   ],
   "source": [
    "x"
   ]
  },
  {
   "cell_type": "code",
   "execution_count": 13,
   "id": "72a04249",
   "metadata": {},
   "outputs": [
    {
     "data": {
      "text/plain": [
       "8"
      ]
     },
     "execution_count": 13,
     "metadata": {},
     "output_type": "execute_result"
    }
   ],
   "source": [
    "x.pop() # remove the last element in the list"
   ]
  },
  {
   "cell_type": "code",
   "execution_count": 14,
   "id": "0ffa7831",
   "metadata": {},
   "outputs": [
    {
     "data": {
      "text/plain": [
       "[1, 2, 3, 5, 6, 7]"
      ]
     },
     "execution_count": 14,
     "metadata": {},
     "output_type": "execute_result"
    }
   ],
   "source": [
    "x"
   ]
  },
  {
   "cell_type": "markdown",
   "id": "b5408d3f",
   "metadata": {},
   "source": [
    "## 1.2 Tuple"
   ]
  },
  {
   "cell_type": "code",
   "execution_count": 15,
   "id": "525e0a97",
   "metadata": {},
   "outputs": [],
   "source": [
    "## create a tuple\n",
    "z = (1,2,3)"
   ]
  },
  {
   "cell_type": "code",
   "execution_count": 16,
   "id": "393ee0c5",
   "metadata": {},
   "outputs": [
    {
     "data": {
      "text/plain": [
       "3"
      ]
     },
     "execution_count": 16,
     "metadata": {},
     "output_type": "execute_result"
    }
   ],
   "source": [
    "len(z)"
   ]
  },
  {
   "cell_type": "code",
   "execution_count": 17,
   "id": "5b184d54",
   "metadata": {},
   "outputs": [
    {
     "data": {
      "text/plain": [
       "2"
      ]
     },
     "execution_count": 17,
     "metadata": {},
     "output_type": "execute_result"
    }
   ],
   "source": [
    "z[1]"
   ]
  },
  {
   "cell_type": "code",
   "execution_count": 18,
   "id": "d8607652",
   "metadata": {},
   "outputs": [
    {
     "ename": "TypeError",
     "evalue": "'tuple' object does not support item assignment",
     "output_type": "error",
     "traceback": [
      "\u001b[0;31m---------------------------------------------------------------------------\u001b[0m",
      "\u001b[0;31mTypeError\u001b[0m                                 Traceback (most recent call last)",
      "\u001b[0;32m/var/folders/78/njcscll93_s6cc27zw_h0pmr0000gn/T/ipykernel_9925/3451498915.py\u001b[0m in \u001b[0;36m<module>\u001b[0;34m\u001b[0m\n\u001b[1;32m      1\u001b[0m \u001b[0;31m## can we change the element in a tuple??\u001b[0m\u001b[0;34m\u001b[0m\u001b[0;34m\u001b[0m\u001b[0m\n\u001b[0;32m----> 2\u001b[0;31m \u001b[0mz\u001b[0m\u001b[0;34m[\u001b[0m\u001b[0;36m1\u001b[0m\u001b[0;34m]\u001b[0m \u001b[0;34m=\u001b[0m \u001b[0;36m4\u001b[0m\u001b[0;34m\u001b[0m\u001b[0;34m\u001b[0m\u001b[0m\n\u001b[0m",
      "\u001b[0;31mTypeError\u001b[0m: 'tuple' object does not support item assignment"
     ]
    }
   ],
   "source": [
    "## can we change the element in a tuple??\n",
    "z[1] = 4"
   ]
  },
  {
   "cell_type": "code",
   "execution_count": null,
   "id": "2a87ed87",
   "metadata": {},
   "outputs": [],
   "source": []
  },
  {
   "cell_type": "markdown",
   "id": "ef4dd3df",
   "metadata": {},
   "source": [
    "## 1.3 Set"
   ]
  },
  {
   "cell_type": "code",
   "execution_count": 19,
   "id": "48805997",
   "metadata": {},
   "outputs": [],
   "source": [
    "## create a set: {} and set(), by manually putting in all the elements\n",
    "a = {1,2,3}"
   ]
  },
  {
   "cell_type": "code",
   "execution_count": 20,
   "id": "12b5cc91",
   "metadata": {},
   "outputs": [
    {
     "data": {
      "text/plain": [
       "{1, 2, 3}"
      ]
     },
     "execution_count": 20,
     "metadata": {},
     "output_type": "execute_result"
    }
   ],
   "source": [
    "a"
   ]
  },
  {
   "cell_type": "code",
   "execution_count": 21,
   "id": "cd261452",
   "metadata": {},
   "outputs": [
    {
     "data": {
      "text/plain": [
       "{1, 2, 3, 4}"
      ]
     },
     "execution_count": 21,
     "metadata": {},
     "output_type": "execute_result"
    }
   ],
   "source": [
    "b = set([1,2,3,4]) # from a list\n",
    "b"
   ]
  },
  {
   "cell_type": "code",
   "execution_count": 22,
   "id": "a41d2907",
   "metadata": {},
   "outputs": [
    {
     "data": {
      "text/plain": [
       "{1, 2, 3, 4}"
      ]
     },
     "execution_count": 22,
     "metadata": {},
     "output_type": "execute_result"
    }
   ],
   "source": [
    "b = set([1,2,3,4,1]) # from a list with duplicates\n",
    "b"
   ]
  },
  {
   "cell_type": "code",
   "execution_count": null,
   "id": "35adfcf9",
   "metadata": {},
   "outputs": [],
   "source": []
  },
  {
   "cell_type": "code",
   "execution_count": 23,
   "id": "22a2c3dd",
   "metadata": {},
   "outputs": [
    {
     "data": {
      "text/plain": [
       "set()"
      ]
     },
     "execution_count": 23,
     "metadata": {},
     "output_type": "execute_result"
    }
   ],
   "source": [
    "## create an empty set and add elements to it\n",
    "a = set()\n",
    "a"
   ]
  },
  {
   "cell_type": "code",
   "execution_count": 25,
   "id": "3b34c334",
   "metadata": {
    "scrolled": true
   },
   "outputs": [],
   "source": [
    "a.add(1) # add an element"
   ]
  },
  {
   "cell_type": "code",
   "execution_count": 26,
   "id": "b2d6ee18",
   "metadata": {},
   "outputs": [
    {
     "data": {
      "text/plain": [
       "{1}"
      ]
     },
     "execution_count": 26,
     "metadata": {},
     "output_type": "execute_result"
    }
   ],
   "source": [
    "a"
   ]
  },
  {
   "cell_type": "code",
   "execution_count": 28,
   "id": "3fd92e56",
   "metadata": {},
   "outputs": [
    {
     "data": {
      "text/plain": [
       "{1}"
      ]
     },
     "execution_count": 28,
     "metadata": {},
     "output_type": "execute_result"
    }
   ],
   "source": [
    "a.add(1) # add the same value again\n",
    "a"
   ]
  },
  {
   "cell_type": "code",
   "execution_count": 29,
   "id": "4d4fa6ae",
   "metadata": {},
   "outputs": [
    {
     "data": {
      "text/plain": [
       "{1, 2}"
      ]
     },
     "execution_count": 29,
     "metadata": {},
     "output_type": "execute_result"
    }
   ],
   "source": [
    "a.add(2) # add one more\n",
    "a"
   ]
  },
  {
   "cell_type": "code",
   "execution_count": 30,
   "id": "32bb9179",
   "metadata": {},
   "outputs": [],
   "source": [
    "## set operations: union, intersection, difference\n",
    "x = {1,2,3}\n",
    "y = {3,4,5}"
   ]
  },
  {
   "cell_type": "markdown",
   "id": "0916799c",
   "metadata": {},
   "source": [
    "![](./Python-Set-Operatioons.png)"
   ]
  },
  {
   "cell_type": "code",
   "execution_count": 31,
   "id": "b561f27a",
   "metadata": {},
   "outputs": [
    {
     "data": {
      "text/plain": [
       "{1, 2, 3, 4, 5}"
      ]
     },
     "execution_count": 31,
     "metadata": {},
     "output_type": "execute_result"
    }
   ],
   "source": [
    "# z = x.union(y)\n",
    "z = x | y\n",
    "z"
   ]
  },
  {
   "cell_type": "code",
   "execution_count": 32,
   "id": "41f00526",
   "metadata": {},
   "outputs": [
    {
     "data": {
      "text/plain": [
       "{3}"
      ]
     },
     "execution_count": 32,
     "metadata": {},
     "output_type": "execute_result"
    }
   ],
   "source": [
    "# z = x.intersection(y)\n",
    "z = x & y\n",
    "z"
   ]
  },
  {
   "cell_type": "code",
   "execution_count": 33,
   "id": "a57c853c",
   "metadata": {},
   "outputs": [
    {
     "data": {
      "text/plain": [
       "{1, 2}"
      ]
     },
     "execution_count": 33,
     "metadata": {},
     "output_type": "execute_result"
    }
   ],
   "source": [
    "z = x - y\n",
    "z"
   ]
  },
  {
   "cell_type": "code",
   "execution_count": 34,
   "id": "144b4235",
   "metadata": {},
   "outputs": [
    {
     "data": {
      "text/plain": [
       "{4, 5}"
      ]
     },
     "execution_count": 34,
     "metadata": {},
     "output_type": "execute_result"
    }
   ],
   "source": [
    "z = y - x\n",
    "z"
   ]
  },
  {
   "cell_type": "code",
   "execution_count": null,
   "id": "6f6038c7",
   "metadata": {},
   "outputs": [],
   "source": [
    "## how we combine 2 sets??"
   ]
  },
  {
   "cell_type": "code",
   "execution_count": null,
   "id": "aa99d0f8",
   "metadata": {},
   "outputs": [],
   "source": []
  },
  {
   "cell_type": "code",
   "execution_count": null,
   "id": "3e8f6673",
   "metadata": {},
   "outputs": [],
   "source": [
    "## add and remove an element in a set"
   ]
  },
  {
   "cell_type": "code",
   "execution_count": null,
   "id": "7012aaa8",
   "metadata": {},
   "outputs": [],
   "source": [
    "## check if an element exists in a set"
   ]
  },
  {
   "cell_type": "markdown",
   "id": "42f4388f",
   "metadata": {},
   "source": [
    "## 1.4 Dictionary"
   ]
  },
  {
   "cell_type": "code",
   "execution_count": null,
   "id": "2901dcb2",
   "metadata": {},
   "outputs": [],
   "source": [
    "## create a dictionary\n"
   ]
  },
  {
   "cell_type": "code",
   "execution_count": null,
   "id": "339c37af",
   "metadata": {},
   "outputs": [],
   "source": [
    "## create an empty dictionary\n"
   ]
  },
  {
   "cell_type": "code",
   "execution_count": null,
   "id": "c60eaa25",
   "metadata": {},
   "outputs": [],
   "source": [
    "## access elements in a dictionary\n"
   ]
  },
  {
   "cell_type": "code",
   "execution_count": null,
   "id": "1caa542b",
   "metadata": {},
   "outputs": [],
   "source": [
    "## changing and adding elements in a dictionary\n"
   ]
  },
  {
   "cell_type": "code",
   "execution_count": null,
   "id": "aab97659",
   "metadata": {},
   "outputs": [],
   "source": [
    "## remove elements in a dictionary\n"
   ]
  },
  {
   "cell_type": "code",
   "execution_count": null,
   "id": "f5fd4799",
   "metadata": {},
   "outputs": [],
   "source": [
    "## check if a key exists in a dictionary\n"
   ]
  },
  {
   "cell_type": "code",
   "execution_count": null,
   "id": "620067c1",
   "metadata": {},
   "outputs": [],
   "source": []
  },
  {
   "cell_type": "markdown",
   "id": "aae0f390",
   "metadata": {},
   "source": [
    "# 2. Exercise"
   ]
  },
  {
   "cell_type": "markdown",
   "id": "ac1ef01b",
   "metadata": {},
   "source": [
    "## 2.1 Check if a list contains duplicates"
   ]
  },
  {
   "cell_type": "code",
   "execution_count": 36,
   "id": "ed8a1b42",
   "metadata": {},
   "outputs": [],
   "source": [
    "x = [1,2,2,3,3,3,3,4,5]"
   ]
  },
  {
   "cell_type": "code",
   "execution_count": 37,
   "id": "92946c09",
   "metadata": {},
   "outputs": [
    {
     "data": {
      "text/plain": [
       "9"
      ]
     },
     "execution_count": 37,
     "metadata": {},
     "output_type": "execute_result"
    }
   ],
   "source": [
    "len(x)"
   ]
  },
  {
   "cell_type": "code",
   "execution_count": 38,
   "id": "4db62dc1",
   "metadata": {},
   "outputs": [
    {
     "data": {
      "text/plain": [
       "{1, 2, 3, 4, 5}"
      ]
     },
     "execution_count": 38,
     "metadata": {},
     "output_type": "execute_result"
    }
   ],
   "source": [
    "y = set(x)\n",
    "y"
   ]
  },
  {
   "cell_type": "code",
   "execution_count": 39,
   "id": "4dbf6c4c",
   "metadata": {},
   "outputs": [
    {
     "data": {
      "text/plain": [
       "5"
      ]
     },
     "execution_count": 39,
     "metadata": {},
     "output_type": "execute_result"
    }
   ],
   "source": [
    "len(y)"
   ]
  },
  {
   "cell_type": "code",
   "execution_count": 40,
   "id": "e8c06a4d",
   "metadata": {},
   "outputs": [
    {
     "data": {
      "text/plain": [
       "False"
      ]
     },
     "execution_count": 40,
     "metadata": {},
     "output_type": "execute_result"
    }
   ],
   "source": [
    "len(x) == len(set(x))"
   ]
  },
  {
   "cell_type": "code",
   "execution_count": 41,
   "id": "34d0fa73",
   "metadata": {},
   "outputs": [
    {
     "data": {
      "text/plain": [
       "False"
      ]
     },
     "execution_count": 41,
     "metadata": {},
     "output_type": "execute_result"
    }
   ],
   "source": [
    "len(x) == len(y)"
   ]
  },
  {
   "cell_type": "markdown",
   "id": "45cc7228",
   "metadata": {},
   "source": [
    "## 2.2. A translator based on dictionary"
   ]
  },
  {
   "cell_type": "code",
   "execution_count": null,
   "id": "ade85e56",
   "metadata": {},
   "outputs": [],
   "source": []
  },
  {
   "cell_type": "markdown",
   "id": "081586aa",
   "metadata": {},
   "source": []
  },
  {
   "cell_type": "markdown",
   "id": "5b82b0c7",
   "metadata": {},
   "source": [
    "## 2.3 Print all key-value pairs in a dictionary\n"
   ]
  },
  {
   "cell_type": "markdown",
   "id": "a9beb74c",
   "metadata": {},
   "source": []
  }
 ],
 "metadata": {
  "kernelspec": {
   "display_name": "Python 3 (ipykernel)",
   "language": "python",
   "name": "python3"
  },
  "language_info": {
   "codemirror_mode": {
    "name": "ipython",
    "version": 3
   },
   "file_extension": ".py",
   "mimetype": "text/x-python",
   "name": "python",
   "nbconvert_exporter": "python",
   "pygments_lexer": "ipython3",
   "version": "3.9.13"
  },
  "vscode": {
   "interpreter": {
    "hash": "902732434834798e7384411e7c2c2287974a7c3f20cb2f00b14f2eb655ccae14"
   }
  }
 },
 "nbformat": 4,
 "nbformat_minor": 5
}
