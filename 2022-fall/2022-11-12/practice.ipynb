{
 "cells": [
  {
   "cell_type": "markdown",
   "id": "d9279b62",
   "metadata": {},
   "source": [
    "# Coding exercises from the previous class"
   ]
  },
  {
   "cell_type": "markdown",
   "id": "a7fc0284",
   "metadata": {},
   "source": [
    "[![Open In Colab](https://colab.research.google.com/assets/colab-badge.svg)](https://colab.research.google.com/github/xiangshiyin/python-for-kids/blob/main/2022-fall/2022-11-05/practice.ipynb)"
   ]
  },
  {
   "cell_type": "markdown",
   "id": "e72579fe",
   "metadata": {},
   "source": [
    "# 1. Non-primitive Data Types\n",
    "\n",
    "## Common data types include:\n",
    "* list\n",
    "* tuple\n",
    "* set\n",
    "* dictionary\n",
    "\n",
    "## Official documentation: https://docs.python.org/3/tutorial/datastructures.html#"
   ]
  },
  {
   "cell_type": "markdown",
   "id": "8748b0ed",
   "metadata": {},
   "source": [
    "## 1.1 List"
   ]
  },
  {
   "cell_type": "markdown",
   "id": "8127f72a",
   "metadata": {},
   "source": [
    "### 1.1.1 create a list"
   ]
  },
  {
   "cell_type": "code",
   "execution_count": 1,
   "id": "a93485c9",
   "metadata": {},
   "outputs": [],
   "source": [
    "x = [1,2,3,4]"
   ]
  },
  {
   "cell_type": "code",
   "execution_count": 2,
   "id": "a443fbad",
   "metadata": {},
   "outputs": [
    {
     "data": {
      "text/plain": [
       "[1, 2, 3, 4]"
      ]
     },
     "execution_count": 2,
     "metadata": {},
     "output_type": "execute_result"
    }
   ],
   "source": [
    "x"
   ]
  },
  {
   "cell_type": "markdown",
   "id": "014077a8",
   "metadata": {},
   "source": [
    "### 1.1.2 Common list operations"
   ]
  },
  {
   "cell_type": "code",
   "execution_count": 3,
   "id": "d2b87851",
   "metadata": {},
   "outputs": [
    {
     "data": {
      "text/plain": [
       "4"
      ]
     },
     "execution_count": 3,
     "metadata": {},
     "output_type": "execute_result"
    }
   ],
   "source": [
    "## check the length of the list\n",
    "len(x)"
   ]
  },
  {
   "cell_type": "code",
   "execution_count": 4,
   "id": "63f8da04",
   "metadata": {},
   "outputs": [
    {
     "data": {
      "text/plain": [
       "[1, 2, 3, 4, 5]"
      ]
     },
     "execution_count": 4,
     "metadata": {},
     "output_type": "execute_result"
    }
   ],
   "source": [
    "## add a new element \n",
    "x.append(5)\n",
    "x"
   ]
  },
  {
   "cell_type": "code",
   "execution_count": 5,
   "id": "ae7aba4c",
   "metadata": {},
   "outputs": [
    {
     "data": {
      "text/plain": [
       "[1, 2, 3, 100, 5]"
      ]
     },
     "execution_count": 5,
     "metadata": {},
     "output_type": "execute_result"
    }
   ],
   "source": [
    "## modify an element in the list\n",
    "x[3] = 100\n",
    "x"
   ]
  },
  {
   "cell_type": "code",
   "execution_count": 6,
   "id": "005069fd",
   "metadata": {},
   "outputs": [
    {
     "data": {
      "text/plain": [
       "[1, 2, 3, 100, 5, 6, 7, 8]"
      ]
     },
     "execution_count": 6,
     "metadata": {},
     "output_type": "execute_result"
    }
   ],
   "source": [
    "## concatenate two lists\n",
    "y = [6,7,8]\n",
    "x.extend(y)\n",
    "x"
   ]
  },
  {
   "cell_type": "code",
   "execution_count": 7,
   "id": "35213d4c",
   "metadata": {},
   "outputs": [
    {
     "data": {
      "text/plain": [
       "2"
      ]
     },
     "execution_count": 7,
     "metadata": {},
     "output_type": "execute_result"
    }
   ],
   "source": [
    "## index the list\n",
    "x[1]"
   ]
  },
  {
   "cell_type": "code",
   "execution_count": 8,
   "id": "4c5a0d33",
   "metadata": {},
   "outputs": [
    {
     "data": {
      "text/plain": [
       "[2, 3]"
      ]
     },
     "execution_count": 8,
     "metadata": {},
     "output_type": "execute_result"
    }
   ],
   "source": [
    "## slice the list\n",
    "x[1:3]"
   ]
  },
  {
   "cell_type": "code",
   "execution_count": null,
   "id": "806c53e4",
   "metadata": {},
   "outputs": [],
   "source": [
    "## remove an element"
   ]
  },
  {
   "cell_type": "markdown",
   "id": "b5408d3f",
   "metadata": {},
   "source": [
    "## 1.2 Tuple"
   ]
  },
  {
   "cell_type": "code",
   "execution_count": 9,
   "id": "525e0a97",
   "metadata": {},
   "outputs": [],
   "source": [
    "## create a tuple\n",
    "z = (1,2,3)"
   ]
  },
  {
   "cell_type": "code",
   "execution_count": 10,
   "id": "393ee0c5",
   "metadata": {},
   "outputs": [
    {
     "data": {
      "text/plain": [
       "3"
      ]
     },
     "execution_count": 10,
     "metadata": {},
     "output_type": "execute_result"
    }
   ],
   "source": [
    "len(z)"
   ]
  },
  {
   "cell_type": "code",
   "execution_count": 11,
   "id": "d8607652",
   "metadata": {},
   "outputs": [
    {
     "ename": "TypeError",
     "evalue": "'tuple' object does not support item assignment",
     "output_type": "error",
     "traceback": [
      "\u001b[0;31m---------------------------------------------------------------------------\u001b[0m",
      "\u001b[0;31mTypeError\u001b[0m                                 Traceback (most recent call last)",
      "\u001b[1;32m/Users/xiangshiyin/Documents/Teaching/python-for-kids/2022-fall/2022-11-05/practice.ipynb Cell 18\u001b[0m in \u001b[0;36m<cell line: 2>\u001b[0;34m()\u001b[0m\n\u001b[1;32m      <a href='vscode-notebook-cell:/Users/xiangshiyin/Documents/Teaching/python-for-kids/2022-fall/2022-11-05/practice.ipynb#X22sZmlsZQ%3D%3D?line=0'>1</a>\u001b[0m \u001b[39m## can we change the element in a tuple??\u001b[39;00m\n\u001b[0;32m----> <a href='vscode-notebook-cell:/Users/xiangshiyin/Documents/Teaching/python-for-kids/2022-fall/2022-11-05/practice.ipynb#X22sZmlsZQ%3D%3D?line=1'>2</a>\u001b[0m z[\u001b[39m1\u001b[39m] \u001b[39m=\u001b[39m \u001b[39m4\u001b[39m\n",
      "\u001b[0;31mTypeError\u001b[0m: 'tuple' object does not support item assignment"
     ]
    }
   ],
   "source": [
    "## can we change the element in a tuple??\n",
    "z[1] = 4"
   ]
  },
  {
   "cell_type": "code",
   "execution_count": null,
   "id": "2a87ed87",
   "metadata": {},
   "outputs": [],
   "source": []
  },
  {
   "cell_type": "markdown",
   "id": "ef4dd3df",
   "metadata": {},
   "source": [
    "## 1.3 Set"
   ]
  },
  {
   "cell_type": "code",
   "execution_count": null,
   "id": "48805997",
   "metadata": {},
   "outputs": [],
   "source": [
    "## create a set: {} and set()"
   ]
  },
  {
   "cell_type": "code",
   "execution_count": null,
   "id": "22a2c3dd",
   "metadata": {},
   "outputs": [],
   "source": [
    "## create an empty set and add elements to it"
   ]
  },
  {
   "cell_type": "code",
   "execution_count": null,
   "id": "32bb9179",
   "metadata": {},
   "outputs": [],
   "source": [
    "## set operations: union, intersection, difference\n",
    "x = {1,2,3}\n",
    "y = {3,4,5}"
   ]
  },
  {
   "cell_type": "code",
   "execution_count": null,
   "id": "6f6038c7",
   "metadata": {},
   "outputs": [],
   "source": [
    "## how we combine 2 sets??"
   ]
  },
  {
   "cell_type": "code",
   "execution_count": null,
   "id": "3e8f6673",
   "metadata": {},
   "outputs": [],
   "source": [
    "## add and remove an element in a set"
   ]
  },
  {
   "cell_type": "code",
   "execution_count": null,
   "id": "7012aaa8",
   "metadata": {},
   "outputs": [],
   "source": [
    "## check if an element exists in a set"
   ]
  },
  {
   "cell_type": "markdown",
   "id": "42f4388f",
   "metadata": {},
   "source": [
    "## 1.4 Dictionary"
   ]
  },
  {
   "cell_type": "code",
   "execution_count": null,
   "id": "2901dcb2",
   "metadata": {},
   "outputs": [],
   "source": [
    "## create a dictionary\n"
   ]
  },
  {
   "cell_type": "code",
   "execution_count": null,
   "id": "339c37af",
   "metadata": {},
   "outputs": [],
   "source": [
    "## create an empty dictionary\n"
   ]
  },
  {
   "cell_type": "code",
   "execution_count": null,
   "id": "c60eaa25",
   "metadata": {},
   "outputs": [],
   "source": [
    "## access elements in a dictionary\n"
   ]
  },
  {
   "cell_type": "code",
   "execution_count": null,
   "id": "1caa542b",
   "metadata": {},
   "outputs": [],
   "source": [
    "## changing and adding elements in a dictionary\n"
   ]
  },
  {
   "cell_type": "code",
   "execution_count": null,
   "id": "aab97659",
   "metadata": {},
   "outputs": [],
   "source": [
    "## remove elements in a dictionary\n"
   ]
  },
  {
   "cell_type": "code",
   "execution_count": null,
   "id": "f5fd4799",
   "metadata": {},
   "outputs": [],
   "source": [
    "## check if a key exists in a dictionary\n"
   ]
  },
  {
   "cell_type": "code",
   "execution_count": null,
   "id": "620067c1",
   "metadata": {},
   "outputs": [],
   "source": []
  },
  {
   "cell_type": "markdown",
   "id": "aae0f390",
   "metadata": {},
   "source": [
    "# 2. Exercise"
   ]
  },
  {
   "cell_type": "markdown",
   "id": "ac1ef01b",
   "metadata": {},
   "source": [
    "## 2.1 Check if a list contains duplicates"
   ]
  },
  {
   "cell_type": "code",
   "execution_count": null,
   "id": "ed8a1b42",
   "metadata": {},
   "outputs": [],
   "source": []
  },
  {
   "cell_type": "markdown",
   "id": "45cc7228",
   "metadata": {},
   "source": [
    "## 2.2. A translator based on dictionary"
   ]
  },
  {
   "cell_type": "code",
   "execution_count": null,
   "id": "ade85e56",
   "metadata": {},
   "outputs": [],
   "source": []
  },
  {
   "cell_type": "markdown",
   "id": "081586aa",
   "metadata": {},
   "source": []
  },
  {
   "cell_type": "markdown",
   "id": "5b82b0c7",
   "metadata": {},
   "source": [
    "## 2.3 Print all key-value pairs in a dictionary\n"
   ]
  },
  {
   "cell_type": "markdown",
   "id": "a9beb74c",
   "metadata": {},
   "source": []
  }
 ],
 "metadata": {
  "kernelspec": {
   "display_name": "Python 3 (ipykernel)",
   "language": "python",
   "name": "python3"
  },
  "language_info": {
   "codemirror_mode": {
    "name": "ipython",
    "version": 3
   },
   "file_extension": ".py",
   "mimetype": "text/x-python",
   "name": "python",
   "nbconvert_exporter": "python",
   "pygments_lexer": "ipython3",
   "version": "3.9.13"
  },
  "vscode": {
   "interpreter": {
    "hash": "902732434834798e7384411e7c2c2287974a7c3f20cb2f00b14f2eb655ccae14"
   }
  }
 },
 "nbformat": 4,
 "nbformat_minor": 5
}
