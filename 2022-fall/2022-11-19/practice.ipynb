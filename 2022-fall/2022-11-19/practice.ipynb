{
 "cells": [
  {
   "cell_type": "markdown",
   "id": "d9279b62",
   "metadata": {},
   "source": [
    "# Coding exercises from the previous class"
   ]
  },
  {
   "cell_type": "markdown",
   "id": "a7fc0284",
   "metadata": {},
   "source": [
    "[![Open In Colab](https://colab.research.google.com/assets/colab-badge.svg)](https://colab.research.google.com/github/xiangshiyin/python-for-kids/blob/main/2022-fall/2022-11-19/practice.ipynb)"
   ]
  },
  {
   "cell_type": "markdown",
   "id": "e72579fe",
   "metadata": {},
   "source": [
    "# 1. Non-primitive Data Types\n",
    "\n",
    "## Common data types include:\n",
    "* list\n",
    "* tuple\n",
    "* set\n",
    "* dictionary\n",
    "\n",
    "## Official documentation: https://docs.python.org/3/tutorial/datastructures.html#"
   ]
  },
  {
   "cell_type": "markdown",
   "id": "ef4dd3df",
   "metadata": {},
   "source": [
    "## 1.3 Set"
   ]
  },
  {
   "cell_type": "code",
   "execution_count": 19,
   "id": "48805997",
   "metadata": {},
   "outputs": [],
   "source": [
    "## create a set: {} and set(), by manually putting in all the elements\n",
    "a = {1,2,3}"
   ]
  },
  {
   "cell_type": "code",
   "execution_count": 20,
   "id": "12b5cc91",
   "metadata": {},
   "outputs": [
    {
     "data": {
      "text/plain": [
       "{1, 2, 3}"
      ]
     },
     "execution_count": 20,
     "metadata": {},
     "output_type": "execute_result"
    }
   ],
   "source": [
    "a"
   ]
  },
  {
   "cell_type": "code",
   "execution_count": 21,
   "id": "cd261452",
   "metadata": {},
   "outputs": [
    {
     "data": {
      "text/plain": [
       "{1, 2, 3, 4}"
      ]
     },
     "execution_count": 21,
     "metadata": {},
     "output_type": "execute_result"
    }
   ],
   "source": [
    "b = set([1,2,3,4]) # from a list\n",
    "b"
   ]
  },
  {
   "cell_type": "code",
   "execution_count": 22,
   "id": "a41d2907",
   "metadata": {},
   "outputs": [
    {
     "data": {
      "text/plain": [
       "{1, 2, 3, 4}"
      ]
     },
     "execution_count": 22,
     "metadata": {},
     "output_type": "execute_result"
    }
   ],
   "source": [
    "b = set([1,2,3,4,1]) # from a list with duplicates\n",
    "b"
   ]
  },
  {
   "cell_type": "code",
   "execution_count": null,
   "id": "35adfcf9",
   "metadata": {},
   "outputs": [],
   "source": []
  },
  {
   "cell_type": "code",
   "execution_count": 23,
   "id": "22a2c3dd",
   "metadata": {},
   "outputs": [
    {
     "data": {
      "text/plain": [
       "set()"
      ]
     },
     "execution_count": 23,
     "metadata": {},
     "output_type": "execute_result"
    }
   ],
   "source": [
    "## create an empty set and add elements to it\n",
    "a = set()\n",
    "a"
   ]
  },
  {
   "cell_type": "code",
   "execution_count": 25,
   "id": "3b34c334",
   "metadata": {
    "scrolled": true
   },
   "outputs": [],
   "source": [
    "a.add(1) # add an element"
   ]
  },
  {
   "cell_type": "code",
   "execution_count": 26,
   "id": "b2d6ee18",
   "metadata": {},
   "outputs": [
    {
     "data": {
      "text/plain": [
       "{1}"
      ]
     },
     "execution_count": 26,
     "metadata": {},
     "output_type": "execute_result"
    }
   ],
   "source": [
    "a"
   ]
  },
  {
   "cell_type": "code",
   "execution_count": 28,
   "id": "3fd92e56",
   "metadata": {},
   "outputs": [
    {
     "data": {
      "text/plain": [
       "{1}"
      ]
     },
     "execution_count": 28,
     "metadata": {},
     "output_type": "execute_result"
    }
   ],
   "source": [
    "a.add(1) # add the same value again\n",
    "a"
   ]
  },
  {
   "cell_type": "code",
   "execution_count": 29,
   "id": "4d4fa6ae",
   "metadata": {},
   "outputs": [
    {
     "data": {
      "text/plain": [
       "{1, 2}"
      ]
     },
     "execution_count": 29,
     "metadata": {},
     "output_type": "execute_result"
    }
   ],
   "source": [
    "a.add(2) # add one more\n",
    "a"
   ]
  },
  {
   "cell_type": "code",
   "execution_count": 30,
   "id": "32bb9179",
   "metadata": {},
   "outputs": [],
   "source": [
    "## set operations: union, intersection, difference\n",
    "x = {1,2,3}\n",
    "y = {3,4,5}"
   ]
  },
  {
   "cell_type": "markdown",
   "id": "0916799c",
   "metadata": {},
   "source": [
    "![](./Python-Set-Operatioons.png)"
   ]
  },
  {
   "cell_type": "code",
   "execution_count": 31,
   "id": "b561f27a",
   "metadata": {},
   "outputs": [
    {
     "data": {
      "text/plain": [
       "{1, 2, 3, 4, 5}"
      ]
     },
     "execution_count": 31,
     "metadata": {},
     "output_type": "execute_result"
    }
   ],
   "source": [
    "# z = x.union(y)\n",
    "z = x | y\n",
    "z"
   ]
  },
  {
   "cell_type": "code",
   "execution_count": 32,
   "id": "41f00526",
   "metadata": {},
   "outputs": [
    {
     "data": {
      "text/plain": [
       "{3}"
      ]
     },
     "execution_count": 32,
     "metadata": {},
     "output_type": "execute_result"
    }
   ],
   "source": [
    "# z = x.intersection(y)\n",
    "z = x & y\n",
    "z"
   ]
  },
  {
   "cell_type": "code",
   "execution_count": 33,
   "id": "a57c853c",
   "metadata": {},
   "outputs": [
    {
     "data": {
      "text/plain": [
       "{1, 2}"
      ]
     },
     "execution_count": 33,
     "metadata": {},
     "output_type": "execute_result"
    }
   ],
   "source": [
    "z = x - y\n",
    "z"
   ]
  },
  {
   "cell_type": "code",
   "execution_count": 34,
   "id": "144b4235",
   "metadata": {},
   "outputs": [
    {
     "data": {
      "text/plain": [
       "{4, 5}"
      ]
     },
     "execution_count": 34,
     "metadata": {},
     "output_type": "execute_result"
    }
   ],
   "source": [
    "z = y - x\n",
    "z"
   ]
  },
  {
   "cell_type": "code",
   "execution_count": null,
   "id": "6f6038c7",
   "metadata": {},
   "outputs": [],
   "source": [
    "## how we combine 2 sets??"
   ]
  },
  {
   "cell_type": "code",
   "execution_count": null,
   "id": "aa99d0f8",
   "metadata": {},
   "outputs": [],
   "source": []
  },
  {
   "cell_type": "code",
   "execution_count": null,
   "id": "3e8f6673",
   "metadata": {},
   "outputs": [],
   "source": [
    "## add and remove an element in a set"
   ]
  },
  {
   "cell_type": "code",
   "execution_count": null,
   "id": "b01b69ac",
   "metadata": {},
   "outputs": [],
   "source": []
  },
  {
   "cell_type": "code",
   "execution_count": null,
   "id": "7012aaa8",
   "metadata": {},
   "outputs": [],
   "source": [
    "## check if an element exists in a set"
   ]
  },
  {
   "cell_type": "markdown",
   "id": "42f4388f",
   "metadata": {},
   "source": [
    "## 1.4 Dictionary"
   ]
  },
  {
   "cell_type": "code",
   "execution_count": null,
   "id": "2901dcb2",
   "metadata": {},
   "outputs": [],
   "source": [
    "## create a dictionary\n"
   ]
  },
  {
   "cell_type": "code",
   "execution_count": null,
   "id": "339c37af",
   "metadata": {},
   "outputs": [],
   "source": [
    "## create an empty dictionary, x = {}\n"
   ]
  },
  {
   "cell_type": "code",
   "execution_count": null,
   "id": "c60eaa25",
   "metadata": {},
   "outputs": [],
   "source": [
    "## access elements in a dictionary, x[key]\n"
   ]
  },
  {
   "cell_type": "code",
   "execution_count": null,
   "id": "1caa542b",
   "metadata": {},
   "outputs": [],
   "source": [
    "## changing and adding elements in a dictionary\n"
   ]
  },
  {
   "cell_type": "code",
   "execution_count": null,
   "id": "aab97659",
   "metadata": {},
   "outputs": [],
   "source": [
    "## remove elements in a dictionary, x.pop()\n"
   ]
  },
  {
   "cell_type": "code",
   "execution_count": null,
   "id": "f5fd4799",
   "metadata": {},
   "outputs": [],
   "source": [
    "## check if a key exists in a dictionary\n"
   ]
  },
  {
   "cell_type": "code",
   "execution_count": null,
   "id": "2c56119f",
   "metadata": {},
   "outputs": [],
   "source": []
  },
  {
   "cell_type": "markdown",
   "id": "363dcf83",
   "metadata": {},
   "source": [
    "## 1.5 Iterate through these data types"
   ]
  },
  {
   "cell_type": "markdown",
   "id": "2153827f",
   "metadata": {},
   "source": [
    "### 1.5.1 List"
   ]
  },
  {
   "cell_type": "code",
   "execution_count": null,
   "id": "6e73ba9e",
   "metadata": {},
   "outputs": [],
   "source": [
    "## iterate through the list and print every single element in order\n"
   ]
  },
  {
   "cell_type": "code",
   "execution_count": null,
   "id": "4ce5c490",
   "metadata": {},
   "outputs": [],
   "source": [
    "## iterate through the list and print every single element in reversed order\n"
   ]
  },
  {
   "cell_type": "markdown",
   "id": "2e223ab5",
   "metadata": {},
   "source": [
    "### 1.5.2 Tuple"
   ]
  },
  {
   "cell_type": "code",
   "execution_count": null,
   "id": "20bc1dce",
   "metadata": {},
   "outputs": [],
   "source": [
    "## iterate through a tuple\n"
   ]
  },
  {
   "cell_type": "code",
   "execution_count": null,
   "id": "79e0cb47",
   "metadata": {},
   "outputs": [],
   "source": []
  },
  {
   "cell_type": "markdown",
   "id": "80cdc98c",
   "metadata": {},
   "source": [
    "### 1.5.3 Set"
   ]
  },
  {
   "cell_type": "code",
   "execution_count": null,
   "id": "645954cf",
   "metadata": {},
   "outputs": [],
   "source": [
    "## iterate through a set\n"
   ]
  },
  {
   "cell_type": "code",
   "execution_count": null,
   "id": "c706a469",
   "metadata": {},
   "outputs": [],
   "source": []
  },
  {
   "cell_type": "markdown",
   "id": "014d5aff",
   "metadata": {},
   "source": [
    "### 1.5.4 Dictionary"
   ]
  },
  {
   "cell_type": "code",
   "execution_count": null,
   "id": "aaa04dc6",
   "metadata": {},
   "outputs": [],
   "source": [
    "## iterate the keys in a dictionary\n"
   ]
  },
  {
   "cell_type": "code",
   "execution_count": null,
   "id": "620067c1",
   "metadata": {},
   "outputs": [],
   "source": [
    "## iterate the values in a dictionary\n"
   ]
  },
  {
   "cell_type": "markdown",
   "id": "aae0f390",
   "metadata": {},
   "source": [
    "# 2. Exercise"
   ]
  },
  {
   "cell_type": "markdown",
   "id": "5b82b0c7",
   "metadata": {},
   "source": [
    "## 2.1 Print all key-value pairs in a dictionary\n"
   ]
  },
  {
   "cell_type": "code",
   "execution_count": null,
   "id": "1c6a6306",
   "metadata": {},
   "outputs": [],
   "source": [
    "students = {'james': 12, 'kevin': 10, 'collin': 11}"
   ]
  },
  {
   "cell_type": "markdown",
   "id": "d9cc8482",
   "metadata": {},
   "source": [
    "## 2.2 Write a program to sort a given list\n",
    "\n",
    "* Input: x = [2,1,4,3,0]\n",
    "* Output: [0,1,2,3,4] (either print it out or return a variable with the sorted result)"
   ]
  },
  {
   "cell_type": "code",
   "execution_count": null,
   "id": "ec554ec8",
   "metadata": {},
   "outputs": [],
   "source": []
  }
 ],
 "metadata": {
  "kernelspec": {
   "display_name": "Python 3 (ipykernel)",
   "language": "python",
   "name": "python3"
  },
  "language_info": {
   "codemirror_mode": {
    "name": "ipython",
    "version": 3
   },
   "file_extension": ".py",
   "mimetype": "text/x-python",
   "name": "python",
   "nbconvert_exporter": "python",
   "pygments_lexer": "ipython3",
   "version": "3.9.13"
  },
  "vscode": {
   "interpreter": {
    "hash": "902732434834798e7384411e7c2c2287974a7c3f20cb2f00b14f2eb655ccae14"
   }
  }
 },
 "nbformat": 4,
 "nbformat_minor": 5
}
