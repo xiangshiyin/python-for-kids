{
 "cells": [
  {
   "cell_type": "markdown",
   "id": "d9279b62",
   "metadata": {},
   "source": [
    "# Coding exercises from the previous class"
   ]
  },
  {
   "cell_type": "markdown",
   "id": "a7fc0284",
   "metadata": {},
   "source": [
    "[![Open In Colab](https://colab.research.google.com/assets/colab-badge.svg)](https://colab.research.google.com/github/xiangshiyin/python-for-kids/blob/main/2022-fall/2022-12-03/practice.ipynb)"
   ]
  },
  {
   "cell_type": "markdown",
   "id": "363dcf83",
   "metadata": {},
   "source": [
    "## Section 1. Iterate through the non-primitive data types"
   ]
  },
  {
   "cell_type": "markdown",
   "id": "2153827f",
   "metadata": {},
   "source": [
    "### 1.1 List"
   ]
  },
  {
   "cell_type": "code",
   "execution_count": 56,
   "id": "6e73ba9e",
   "metadata": {},
   "outputs": [
    {
     "name": "stdout",
     "output_type": "stream",
     "text": [
      "0 1\n",
      "1 2\n",
      "2 3\n",
      "3 4\n",
      "4 5\n",
      "5 6\n",
      "6 7\n",
      "7 8\n",
      "8 9\n"
     ]
    }
   ],
   "source": [
    "## iterate through the list and print every single element in order\n",
    "x = [1,2,3,4,5,6,7,8,9]\n",
    "\n",
    "# option 1: using the positional index\n",
    "for i in range(len(x)):\n",
    "    print(i, x[i])"
   ]
  },
  {
   "cell_type": "code",
   "execution_count": 57,
   "id": "4c70fe71",
   "metadata": {},
   "outputs": [
    {
     "name": "stdout",
     "output_type": "stream",
     "text": [
      "1\n",
      "2\n",
      "3\n",
      "4\n",
      "5\n",
      "6\n",
      "7\n",
      "8\n",
      "9\n"
     ]
    }
   ],
   "source": [
    "# option 2:\n",
    "\n",
    "for v in x:\n",
    "    print(v)"
   ]
  },
  {
   "cell_type": "code",
   "execution_count": 58,
   "id": "804463c0",
   "metadata": {},
   "outputs": [
    {
     "name": "stdout",
     "output_type": "stream",
     "text": [
      "a\n",
      "b\n",
      "c\n"
     ]
    }
   ],
   "source": [
    "x = 'abc'\n",
    "for v in x:\n",
    "    print(v)"
   ]
  },
  {
   "cell_type": "code",
   "execution_count": null,
   "id": "e89a27a4",
   "metadata": {},
   "outputs": [],
   "source": []
  },
  {
   "cell_type": "code",
   "execution_count": null,
   "id": "4ce5c490",
   "metadata": {},
   "outputs": [],
   "source": [
    "## iterate through the list and print every single element in reversed order\n"
   ]
  },
  {
   "cell_type": "markdown",
   "id": "2e223ab5",
   "metadata": {},
   "source": [
    "### 1.2 Tuple"
   ]
  },
  {
   "cell_type": "code",
   "execution_count": null,
   "id": "20bc1dce",
   "metadata": {},
   "outputs": [],
   "source": [
    "## iterate through a tuple\n"
   ]
  },
  {
   "cell_type": "code",
   "execution_count": null,
   "id": "79e0cb47",
   "metadata": {},
   "outputs": [],
   "source": []
  },
  {
   "cell_type": "markdown",
   "id": "80cdc98c",
   "metadata": {},
   "source": [
    "### 1.3 Set"
   ]
  },
  {
   "cell_type": "code",
   "execution_count": null,
   "id": "645954cf",
   "metadata": {},
   "outputs": [],
   "source": [
    "## iterate through a set\n"
   ]
  },
  {
   "cell_type": "code",
   "execution_count": null,
   "id": "c706a469",
   "metadata": {},
   "outputs": [],
   "source": []
  },
  {
   "cell_type": "markdown",
   "id": "014d5aff",
   "metadata": {},
   "source": [
    "### 1.4 Dictionary"
   ]
  },
  {
   "cell_type": "code",
   "execution_count": null,
   "id": "aaa04dc6",
   "metadata": {},
   "outputs": [],
   "source": [
    "## iterate the keys in a dictionary\n"
   ]
  },
  {
   "cell_type": "code",
   "execution_count": null,
   "id": "620067c1",
   "metadata": {},
   "outputs": [],
   "source": [
    "## iterate the values in a dictionary\n"
   ]
  },
  {
   "cell_type": "markdown",
   "id": "aae0f390",
   "metadata": {},
   "source": [
    "### 1.5. Exercise"
   ]
  },
  {
   "cell_type": "markdown",
   "id": "5b82b0c7",
   "metadata": {},
   "source": [
    "#### 1.5.1 Print all key-value pairs in a dictionary\n"
   ]
  },
  {
   "cell_type": "code",
   "execution_count": null,
   "id": "1c6a6306",
   "metadata": {},
   "outputs": [],
   "source": [
    "students = {'james': 12, 'kevin': 10, 'collin': 11}"
   ]
  },
  {
   "cell_type": "markdown",
   "id": "d9cc8482",
   "metadata": {},
   "source": [
    "#### 1.5.2 Write a program to sort a given list\n",
    "\n",
    "* Input: x = [2,1,4,3,0]\n",
    "* Output: [0,1,2,3,4] (either print it out or return a variable with the sorted result)"
   ]
  },
  {
   "cell_type": "code",
   "execution_count": null,
   "id": "ec554ec8",
   "metadata": {},
   "outputs": [],
   "source": []
  },
  {
   "cell_type": "markdown",
   "id": "32d1d35d",
   "metadata": {},
   "source": [
    "## Section 2. Function\n",
    "\n",
    "```python\n",
    "def function_name(param1, param2, ...):\n",
    "    <logic>\n",
    "    return <value>\n",
    "```"
   ]
  },
  {
   "cell_type": "markdown",
   "id": "d803cfa4",
   "metadata": {},
   "source": [
    "### 2.1 Create a simple function"
   ]
  },
  {
   "cell_type": "code",
   "execution_count": null,
   "id": "ad712f03",
   "metadata": {},
   "outputs": [],
   "source": []
  },
  {
   "cell_type": "markdown",
   "id": "c714783e",
   "metadata": {},
   "source": [
    "### 2.2 Call a function "
   ]
  },
  {
   "cell_type": "code",
   "execution_count": null,
   "id": "6a00f7d7",
   "metadata": {},
   "outputs": [],
   "source": []
  },
  {
   "cell_type": "markdown",
   "id": "28c66de3",
   "metadata": {},
   "source": [
    "### 2.3 Pass parameters to a function"
   ]
  },
  {
   "cell_type": "code",
   "execution_count": null,
   "id": "fa321bcf",
   "metadata": {},
   "outputs": [],
   "source": []
  },
  {
   "cell_type": "code",
   "execution_count": null,
   "id": "4d0a16df",
   "metadata": {},
   "outputs": [],
   "source": []
  }
 ],
 "metadata": {
  "kernelspec": {
   "display_name": "Python 3 (ipykernel)",
   "language": "python",
   "name": "python3"
  },
  "language_info": {
   "codemirror_mode": {
    "name": "ipython",
    "version": 3
   },
   "file_extension": ".py",
   "mimetype": "text/x-python",
   "name": "python",
   "nbconvert_exporter": "python",
   "pygments_lexer": "ipython3",
   "version": "3.9.13"
  },
  "vscode": {
   "interpreter": {
    "hash": "bb54e6d5a9e235d88f3f546c4d0fbe9cae9f80ae07f75aac4266c3cbc27cbc0d"
   }
  }
 },
 "nbformat": 4,
 "nbformat_minor": 5
}
