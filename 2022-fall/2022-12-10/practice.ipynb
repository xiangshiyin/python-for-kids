{
 "cells": [
  {
   "cell_type": "markdown",
   "id": "d9279b62",
   "metadata": {},
   "source": [
    "# Coding exercises from the previous class"
   ]
  },
  {
   "cell_type": "markdown",
   "id": "a7fc0284",
   "metadata": {},
   "source": [
    "[![Open In Colab](https://colab.research.google.com/assets/colab-badge.svg)](https://colab.research.google.com/github/xiangshiyin/python-for-kids/blob/main/2022-fall/2022-12-10/practice.ipynb)"
   ]
  },
  {
   "cell_type": "markdown",
   "id": "32d1d35d",
   "metadata": {},
   "source": [
    "## Section 1. Function\n",
    "\n",
    "```python\n",
    "def function_name(param1, param2, ...):\n",
    "    <logic>\n",
    "    return <value>\n",
    "```"
   ]
  },
  {
   "cell_type": "markdown",
   "id": "d803cfa4",
   "metadata": {},
   "source": [
    "### 1.1 Create a simple function"
   ]
  },
  {
   "cell_type": "code",
   "execution_count": 1,
   "id": "ad712f03",
   "metadata": {},
   "outputs": [],
   "source": [
    "# create a function without any parameters and no return values\n",
    "\n",
    "def iamafunction():\n",
    "    print('Hello world')"
   ]
  },
  {
   "cell_type": "code",
   "execution_count": null,
   "id": "e0392bb8",
   "metadata": {},
   "outputs": [],
   "source": []
  },
  {
   "cell_type": "markdown",
   "id": "c714783e",
   "metadata": {},
   "source": [
    "### 1.2 Call a function "
   ]
  },
  {
   "cell_type": "code",
   "execution_count": 2,
   "id": "6a00f7d7",
   "metadata": {},
   "outputs": [
    {
     "data": {
      "text/plain": [
       "<function __main__.iamafunction()>"
      ]
     },
     "execution_count": 2,
     "metadata": {},
     "output_type": "execute_result"
    }
   ],
   "source": [
    "iamafunction"
   ]
  },
  {
   "cell_type": "code",
   "execution_count": 3,
   "id": "60277da3",
   "metadata": {},
   "outputs": [
    {
     "name": "stdout",
     "output_type": "stream",
     "text": [
      "Hello world\n"
     ]
    }
   ],
   "source": [
    "iamafunction()"
   ]
  },
  {
   "cell_type": "code",
   "execution_count": null,
   "id": "a8493a76",
   "metadata": {},
   "outputs": [],
   "source": []
  },
  {
   "cell_type": "code",
   "execution_count": 6,
   "id": "6cc02168",
   "metadata": {},
   "outputs": [],
   "source": [
    "## define the simplest function\n",
    "def simplestfunction():\n",
    "    pass"
   ]
  },
  {
   "cell_type": "code",
   "execution_count": 7,
   "id": "4643a5f8",
   "metadata": {},
   "outputs": [],
   "source": [
    "simplestfunction()"
   ]
  },
  {
   "cell_type": "markdown",
   "id": "28c66de3",
   "metadata": {},
   "source": [
    "### 1.3 Create a function with parameters\n"
   ]
  },
  {
   "cell_type": "code",
   "execution_count": 12,
   "id": "fa321bcf",
   "metadata": {},
   "outputs": [],
   "source": [
    "# create a function that collects two arguments and return the sum of the two values\n",
    "\n",
    "def twosum(value1, value2):\n",
    "    output = value1 + value2\n",
    "    # return output\n",
    "    print(output)"
   ]
  },
  {
   "cell_type": "code",
   "execution_count": 13,
   "id": "019715a6",
   "metadata": {},
   "outputs": [
    {
     "name": "stdout",
     "output_type": "stream",
     "text": [
      "357\n"
     ]
    }
   ],
   "source": [
    "twosum(123, 234)"
   ]
  },
  {
   "cell_type": "code",
   "execution_count": 15,
   "id": "6587429b",
   "metadata": {},
   "outputs": [],
   "source": [
    "def twosum2(value1, value2):\n",
    "    output = value1 + value2\n",
    "    return output\n",
    "\n",
    "result = twosum2(123, 234)"
   ]
  },
  {
   "cell_type": "code",
   "execution_count": 16,
   "id": "6ab21ba4",
   "metadata": {},
   "outputs": [
    {
     "data": {
      "text/plain": [
       "357"
      ]
     },
     "execution_count": 16,
     "metadata": {},
     "output_type": "execute_result"
    }
   ],
   "source": [
    "result"
   ]
  },
  {
   "cell_type": "code",
   "execution_count": 17,
   "id": "e9df39cb",
   "metadata": {},
   "outputs": [
    {
     "name": "stdout",
     "output_type": "stream",
     "text": [
      "357\n"
     ]
    }
   ],
   "source": [
    "result2 = twosum(123, 234)"
   ]
  },
  {
   "cell_type": "code",
   "execution_count": 18,
   "id": "5555a80b",
   "metadata": {},
   "outputs": [],
   "source": [
    "result2"
   ]
  },
  {
   "cell_type": "code",
   "execution_count": 19,
   "id": "054df8e8",
   "metadata": {},
   "outputs": [],
   "source": [
    "# null means un-defined or empty\n",
    "None"
   ]
  },
  {
   "cell_type": "code",
   "execution_count": 20,
   "id": "74666d15",
   "metadata": {},
   "outputs": [
    {
     "data": {
      "text/plain": [
       "True"
      ]
     },
     "execution_count": 20,
     "metadata": {},
     "output_type": "execute_result"
    }
   ],
   "source": [
    "result2 == None"
   ]
  },
  {
   "cell_type": "code",
   "execution_count": 21,
   "id": "ae99872e",
   "metadata": {},
   "outputs": [
    {
     "name": "stdout",
     "output_type": "stream",
     "text": [
      "357\n"
     ]
    },
    {
     "data": {
      "text/plain": [
       "True"
      ]
     },
     "execution_count": 21,
     "metadata": {},
     "output_type": "execute_result"
    }
   ],
   "source": [
    "def twosum3(value1, value2):\n",
    "    output = value1 + value2\n",
    "    print(output)\n",
    "    return None\n",
    "\n",
    "result3 = twosum3(123, 234)\n",
    "result3 == None"
   ]
  },
  {
   "cell_type": "code",
   "execution_count": null,
   "id": "27d7abb5",
   "metadata": {},
   "outputs": [],
   "source": []
  },
  {
   "cell_type": "markdown",
   "id": "4d0a16df",
   "metadata": {},
   "source": [
    "### 1.4 Example: find GCD of two integers\n",
    "\n",
    "In mathematics, the **greatest common divisor (GCD)** of two or more integers, which are not all zero, is **the largest positive integer that divides each of the integers**. For two integers x, y, the greatest common divisor of x and y is denoted ${\\displaystyle \\gcd(x,y)}$.\n",
    "\n",
    "https://en.wikipedia.org/wiki/Greatest_common_divisor"
   ]
  },
  {
   "cell_type": "code",
   "execution_count": 25,
   "id": "69d27429",
   "metadata": {},
   "outputs": [],
   "source": [
    "def gcd(a, b):\n",
    "    \"\"\"assume a is greater than b\"\"\"\n",
    "    base = a\n",
    "    divisor = b\n",
    "    remainder = 1\n",
    "    \n",
    "    while remainder != 0:    \n",
    "        remainder = base % divisor # step 1\n",
    "\n",
    "        # step 2\n",
    "        base = divisor\n",
    "        divisor = remainder\n",
    "    \n",
    "    output = base\n",
    "    return output"
   ]
  },
  {
   "cell_type": "code",
   "execution_count": 26,
   "id": "70d45ce2",
   "metadata": {},
   "outputs": [
    {
     "data": {
      "text/plain": [
       "2"
      ]
     },
     "execution_count": 26,
     "metadata": {},
     "output_type": "execute_result"
    }
   ],
   "source": [
    "gcd(8,6)"
   ]
  },
  {
   "cell_type": "code",
   "execution_count": 27,
   "id": "b27f5ada",
   "metadata": {},
   "outputs": [
    {
     "name": "stdout",
     "output_type": "stream",
     "text": [
      "True\n",
      "True\n",
      "True\n",
      "True\n"
     ]
    }
   ],
   "source": [
    "print(gcd(8,6) == 2)\n",
    "print(gcd(8,4) == 4)\n",
    "print(gcd(16,6) == 2)\n",
    "print(gcd(4,1) == 1)"
   ]
  },
  {
   "cell_type": "code",
   "execution_count": 28,
   "id": "353846bf",
   "metadata": {},
   "outputs": [
    {
     "data": {
      "text/plain": [
       "3"
      ]
     },
     "execution_count": 28,
     "metadata": {},
     "output_type": "execute_result"
    }
   ],
   "source": [
    "gcd(24, 9)"
   ]
  },
  {
   "cell_type": "code",
   "execution_count": null,
   "id": "70ca590b",
   "metadata": {},
   "outputs": [],
   "source": []
  },
  {
   "cell_type": "code",
   "execution_count": null,
   "id": "304949c8",
   "metadata": {},
   "outputs": [],
   "source": []
  },
  {
   "cell_type": "code",
   "execution_count": null,
   "id": "dca57942",
   "metadata": {},
   "outputs": [],
   "source": []
  },
  {
   "cell_type": "markdown",
   "id": "14ba105c",
   "metadata": {},
   "source": [
    "### 1.5 You can also call the function itself within the function!!"
   ]
  },
  {
   "cell_type": "code",
   "execution_count": null,
   "id": "e24afb57",
   "metadata": {},
   "outputs": [],
   "source": []
  }
 ],
 "metadata": {
  "kernelspec": {
   "display_name": "Python 3 (ipykernel)",
   "language": "python",
   "name": "python3"
  },
  "language_info": {
   "codemirror_mode": {
    "name": "ipython",
    "version": 3
   },
   "file_extension": ".py",
   "mimetype": "text/x-python",
   "name": "python",
   "nbconvert_exporter": "python",
   "pygments_lexer": "ipython3",
   "version": "3.9.13"
  },
  "vscode": {
   "interpreter": {
    "hash": "bb54e6d5a9e235d88f3f546c4d0fbe9cae9f80ae07f75aac4266c3cbc27cbc0d"
   }
  }
 },
 "nbformat": 4,
 "nbformat_minor": 5
}
