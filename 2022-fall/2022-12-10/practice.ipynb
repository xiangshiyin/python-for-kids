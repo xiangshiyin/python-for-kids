{
 "cells": [
  {
   "cell_type": "markdown",
   "id": "d9279b62",
   "metadata": {},
   "source": [
    "# Coding exercises from the previous class"
   ]
  },
  {
   "cell_type": "markdown",
   "id": "a7fc0284",
   "metadata": {},
   "source": [
    "[![Open In Colab](https://colab.research.google.com/assets/colab-badge.svg)](https://colab.research.google.com/github/xiangshiyin/python-for-kids/blob/main/2022-fall/2022-12-10/practice.ipynb)"
   ]
  },
  {
   "cell_type": "markdown",
   "id": "32d1d35d",
   "metadata": {},
   "source": [
    "## Section 1. Function\n",
    "\n",
    "```python\n",
    "def function_name(param1, param2, ...):\n",
    "    <logic>\n",
    "    return <value>\n",
    "```"
   ]
  },
  {
   "cell_type": "markdown",
   "id": "d803cfa4",
   "metadata": {},
   "source": [
    "### 1.1 Create a simple function"
   ]
  },
  {
   "cell_type": "code",
   "execution_count": null,
   "id": "ad712f03",
   "metadata": {},
   "outputs": [],
   "source": [
    "# create a function without any parameters and no return values\n"
   ]
  },
  {
   "cell_type": "markdown",
   "id": "c714783e",
   "metadata": {},
   "source": [
    "### 1.2 Call a function "
   ]
  },
  {
   "cell_type": "code",
   "execution_count": null,
   "id": "6a00f7d7",
   "metadata": {},
   "outputs": [],
   "source": []
  },
  {
   "cell_type": "markdown",
   "id": "28c66de3",
   "metadata": {},
   "source": [
    "### 1.3 Create a function with parameters\n"
   ]
  },
  {
   "cell_type": "code",
   "execution_count": null,
   "id": "fa321bcf",
   "metadata": {},
   "outputs": [],
   "source": [
    "# create a function that collects two arguments and return the sum of the two values"
   ]
  },
  {
   "attachments": {},
   "cell_type": "markdown",
   "id": "4d0a16df",
   "metadata": {},
   "source": [
    "### 1.4 Example: find GCD of two integers\n"
   ]
  },
  {
   "cell_type": "markdown",
   "id": "1640c3f2",
   "metadata": {},
   "source": []
  }
 ],
 "metadata": {
  "kernelspec": {
   "display_name": "Python 3 (ipykernel)",
   "language": "python",
   "name": "python3"
  },
  "language_info": {
   "codemirror_mode": {
    "name": "ipython",
    "version": 3
   },
   "file_extension": ".py",
   "mimetype": "text/x-python",
   "name": "python",
   "nbconvert_exporter": "python",
   "pygments_lexer": "ipython3",
   "version": "3.9.13"
  },
  "vscode": {
   "interpreter": {
    "hash": "bb54e6d5a9e235d88f3f546c4d0fbe9cae9f80ae07f75aac4266c3cbc27cbc0d"
   }
  }
 },
 "nbformat": 4,
 "nbformat_minor": 5
}
