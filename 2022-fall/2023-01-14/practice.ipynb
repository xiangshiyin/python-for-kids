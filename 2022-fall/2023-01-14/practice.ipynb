{
 "cells": [
  {
   "attachments": {},
   "cell_type": "markdown",
   "id": "d9279b62",
   "metadata": {},
   "source": [
    "# Coding exercises"
   ]
  },
  {
   "attachments": {},
   "cell_type": "markdown",
   "id": "a7fc0284",
   "metadata": {},
   "source": [
    "[![Open In Colab](https://colab.research.google.com/assets/colab-badge.svg)](https://colab.research.google.com/github/xiangshiyin/python-for-kids/blob/main/2022-fall/2023-01-14/practice.ipynb)"
   ]
  },
  {
   "cell_type": "markdown",
   "id": "32d1d35d",
   "metadata": {},
   "source": [
    "## Section 1. Function\n",
    "\n",
    "```python\n",
    "def function_name(param1, param2, ...):\n",
    "    <logic>\n",
    "    return <value>\n",
    "```"
   ]
  },
  {
   "cell_type": "code",
   "execution_count": null,
   "id": "70ca590b",
   "metadata": {},
   "outputs": [],
   "source": []
  },
  {
   "cell_type": "code",
   "execution_count": null,
   "id": "304949c8",
   "metadata": {},
   "outputs": [],
   "source": []
  }
 ],
 "metadata": {
  "kernelspec": {
   "display_name": "Python 3 (ipykernel)",
   "language": "python",
   "name": "python3"
  },
  "language_info": {
   "codemirror_mode": {
    "name": "ipython",
    "version": 3
   },
   "file_extension": ".py",
   "mimetype": "text/x-python",
   "name": "python",
   "nbconvert_exporter": "python",
   "pygments_lexer": "ipython3",
   "version": "3.9.13"
  },
  "vscode": {
   "interpreter": {
    "hash": "bb54e6d5a9e235d88f3f546c4d0fbe9cae9f80ae07f75aac4266c3cbc27cbc0d"
   }
  }
 },
 "nbformat": 4,
 "nbformat_minor": 5
}
