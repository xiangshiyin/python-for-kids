{
 "cells": [
  {
   "attachments": {},
   "cell_type": "markdown",
   "id": "d9279b62",
   "metadata": {},
   "source": [
    "# Coding exercises"
   ]
  },
  {
   "attachments": {},
   "cell_type": "markdown",
   "id": "a7fc0284",
   "metadata": {},
   "source": [
    "[![Open In Colab](https://colab.research.google.com/assets/colab-badge.svg)](https://colab.research.google.com/github/xiangshiyin/python-for-kids/blob/main/2022-fall/2023-01-14/practice.ipynb)"
   ]
  },
  {
   "attachments": {},
   "cell_type": "markdown",
   "id": "32d1d35d",
   "metadata": {},
   "source": [
    "## Function definition pattern\n",
    "\n",
    "```python\n",
    "def function_name(param1, param2, ...):\n",
    "    <logic>\n",
    "    return <value>\n",
    "```\n",
    "\n",
    "## Function execution/calling pattern\n",
    "\n",
    "```python\n",
    "function_name()\n",
    "function_name(val1, val2, ...)\n",
    "function_name(param1=val1, param2=val2, ...)\n",
    "```"
   ]
  },
  {
   "attachments": {},
   "cell_type": "markdown",
   "id": "8420265a",
   "metadata": {},
   "source": [
    "### Q1. Write a function $division(dividend, divisor)$ \n",
    "To return the `quotient` and `remainder` of two given integers `divident` and `divisor`\n",
    "\n",
    "* Example\n",
    "    * Input: divident=4, divisor=2, Output: (2,0)\n",
    "    * Input: divident=5, divisor=2, Output: (2,1)"
   ]
  },
  {
   "cell_type": "code",
   "execution_count": null,
   "id": "568502b0",
   "metadata": {},
   "outputs": [],
   "source": []
  },
  {
   "attachments": {},
   "cell_type": "markdown",
   "id": "70ca590b",
   "metadata": {},
   "source": [
    "### Q2. Write a function $fib(N)$ \n",
    "To return the $N^{th}$ Fibonacci number\n",
    "* Example: \n",
    "    * Input: N = 0, Output: 0\n",
    "    * Input: N = 1, Output: 1\n",
    "    * Input: N = 2, Output: 1\n",
    "    * Input: N = 3, Output: 2"
   ]
  },
  {
   "cell_type": "code",
   "execution_count": null,
   "id": "304949c8",
   "metadata": {},
   "outputs": [],
   "source": []
  },
  {
   "attachments": {},
   "cell_type": "markdown",
   "id": "8649cd05",
   "metadata": {},
   "source": [
    "### Q3. Write a function $puzzle\\_solver(val1, val2, product)$\n",
    "\n",
    "To solve the puzzle and find out the missing digit in `val1`\n",
    "* `val1` is a string representing an integer with 1 missing digit. The missing digit is represented by `_` (underscore) in the input value. \n",
    "* `val2` and `product` are all integers\n",
    "* `product` is the actual product between the two integers `val1` and `val2`.\n",
    "\n",
    "Example:\n",
    "  * Input: val1 = '1_3', val2 = 4, product = 492, Output: 'The true value of val1 is 123' (printed message on the screen)"
   ]
  },
  {
   "cell_type": "code",
   "execution_count": null,
   "id": "07816783",
   "metadata": {},
   "outputs": [],
   "source": []
  },
  {
   "attachments": {},
   "cell_type": "markdown",
   "id": "1b7cc1b9",
   "metadata": {},
   "source": [
    "### Q4. Follow-up to `Q3`\n",
    "\n",
    "Can you write a function $puzzle\\_solver(dividend, divisor, quotient, remainder)$ to solve the division puzzle?\n",
    "* `dividend` is a string representing an integer with 1 missing digit. The missing digit is represented by `_` (underscore) in the input value. \n",
    "* `divisor`, `quotient`, and `remainder` are all integers\n",
    "\n",
    "Example:\n",
    "  * Input: dividend = '4_2', val2 = 123, quotient = 4, remainder = 0, Output: 'The true value of dividend is 492' (printed message on the screen)"
   ]
  },
  {
   "cell_type": "code",
   "execution_count": null,
   "id": "54ca8759",
   "metadata": {},
   "outputs": [],
   "source": []
  }
 ],
 "metadata": {
  "kernelspec": {
   "display_name": "Python 3 (ipykernel)",
   "language": "python",
   "name": "python3"
  },
  "language_info": {
   "codemirror_mode": {
    "name": "ipython",
    "version": 3
   },
   "file_extension": ".py",
   "mimetype": "text/x-python",
   "name": "python",
   "nbconvert_exporter": "python",
   "pygments_lexer": "ipython3",
   "version": "3.9.13"
  },
  "vscode": {
   "interpreter": {
    "hash": "bb54e6d5a9e235d88f3f546c4d0fbe9cae9f80ae07f75aac4266c3cbc27cbc0d"
   }
  }
 },
 "nbformat": 4,
 "nbformat_minor": 5
}
